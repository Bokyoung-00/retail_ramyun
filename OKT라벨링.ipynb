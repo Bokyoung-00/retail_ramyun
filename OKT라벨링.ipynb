{
 "cells": [
  {
   "cell_type": "markdown",
   "metadata": {
    "id": "rNndeXVbNIWz"
   },
   "source": [
    "- 구글에 Okt 긍부정 머신러닝 해서 나오는 결과물 중\n",
    "- 6) 네이버 영화 리뷰 감성 분류하기(Naver Movie Review ... 참고했심더"
   ]
  },
  {
   "cell_type": "code",
   "execution_count": 1,
   "metadata": {},
   "outputs": [
    {
     "name": "stdout",
     "output_type": "stream",
     "text": [
      "Requirement already satisfied: tensorflow in c:\\anaconda3\\envs\\py37\\lib\\site-packages (2.3.1)\n",
      "Requirement already satisfied: wheel>=0.26 in c:\\anaconda3\\envs\\py37\\lib\\site-packages (from tensorflow) (0.35.1)\n",
      "Requirement already satisfied: termcolor>=1.1.0 in c:\\anaconda3\\envs\\py37\\lib\\site-packages (from tensorflow) (1.1.0)\n",
      "Requirement already satisfied: six>=1.12.0 in c:\\anaconda3\\envs\\py37\\lib\\site-packages (from tensorflow) (1.15.0)\n",
      "Requirement already satisfied: gast==0.3.3 in c:\\anaconda3\\envs\\py37\\lib\\site-packages (from tensorflow) (0.3.3)\n",
      "Requirement already satisfied: wrapt>=1.11.1 in c:\\anaconda3\\envs\\py37\\lib\\site-packages (from tensorflow) (1.12.1)\n",
      "Requirement already satisfied: google-pasta>=0.1.8 in c:\\anaconda3\\envs\\py37\\lib\\site-packages (from tensorflow) (0.2.0)\n",
      "Requirement already satisfied: opt-einsum>=2.3.2 in c:\\anaconda3\\envs\\py37\\lib\\site-packages (from tensorflow) (3.3.0)\n",
      "Requirement already satisfied: protobuf>=3.9.2 in c:\\anaconda3\\envs\\py37\\lib\\site-packages (from tensorflow) (3.13.0)\n",
      "Requirement already satisfied: keras-preprocessing<1.2,>=1.1.1 in c:\\anaconda3\\envs\\py37\\lib\\site-packages (from tensorflow) (1.1.2)\n",
      "Requirement already satisfied: numpy<1.19.0,>=1.16.0 in c:\\anaconda3\\envs\\py37\\lib\\site-packages (from tensorflow) (1.18.5)\n",
      "Requirement already satisfied: h5py<2.11.0,>=2.10.0 in c:\\anaconda3\\envs\\py37\\lib\\site-packages (from tensorflow) (2.10.0)\n",
      "Requirement already satisfied: absl-py>=0.7.0 in c:\\anaconda3\\envs\\py37\\lib\\site-packages (from tensorflow) (0.10.0)\n",
      "Requirement already satisfied: tensorboard<3,>=2.3.0 in c:\\anaconda3\\envs\\py37\\lib\\site-packages (from tensorflow) (2.3.0)\n",
      "Requirement already satisfied: grpcio>=1.8.6 in c:\\anaconda3\\envs\\py37\\lib\\site-packages (from tensorflow) (1.32.0)\n",
      "Requirement already satisfied: astunparse==1.6.3 in c:\\anaconda3\\envs\\py37\\lib\\site-packages (from tensorflow) (1.6.3)\n",
      "Requirement already satisfied: tensorflow-estimator<2.4.0,>=2.3.0 in c:\\anaconda3\\envs\\py37\\lib\\site-packages (from tensorflow) (2.3.0)\n",
      "Requirement already satisfied: setuptools in c:\\anaconda3\\envs\\py37\\lib\\site-packages (from protobuf>=3.9.2->tensorflow) (49.6.0.post20200814)\n",
      "Requirement already satisfied: requests<3,>=2.21.0 in c:\\anaconda3\\envs\\py37\\lib\\site-packages (from tensorboard<3,>=2.3.0->tensorflow) (2.24.0)\n",
      "Requirement already satisfied: werkzeug>=0.11.15 in c:\\anaconda3\\envs\\py37\\lib\\site-packages (from tensorboard<3,>=2.3.0->tensorflow) (1.0.1)\n",
      "Requirement already satisfied: markdown>=2.6.8 in c:\\anaconda3\\envs\\py37\\lib\\site-packages (from tensorboard<3,>=2.3.0->tensorflow) (3.3)\n",
      "Requirement already satisfied: google-auth<2,>=1.6.3 in c:\\anaconda3\\envs\\py37\\lib\\site-packages (from tensorboard<3,>=2.3.0->tensorflow) (1.22.1)\n",
      "Requirement already satisfied: tensorboard-plugin-wit>=1.6.0 in c:\\anaconda3\\envs\\py37\\lib\\site-packages (from tensorboard<3,>=2.3.0->tensorflow) (1.7.0)\n",
      "Requirement already satisfied: google-auth-oauthlib<0.5,>=0.4.1 in c:\\anaconda3\\envs\\py37\\lib\\site-packages (from tensorboard<3,>=2.3.0->tensorflow) (0.4.1)\n",
      "Requirement already satisfied: certifi>=2017.4.17 in c:\\anaconda3\\envs\\py37\\lib\\site-packages (from requests<3,>=2.21.0->tensorboard<3,>=2.3.0->tensorflow) (2020.6.20)\n",
      "Requirement already satisfied: chardet<4,>=3.0.2 in c:\\anaconda3\\envs\\py37\\lib\\site-packages (from requests<3,>=2.21.0->tensorboard<3,>=2.3.0->tensorflow) (3.0.4)\n",
      "Requirement already satisfied: urllib3!=1.25.0,!=1.25.1,<1.26,>=1.21.1 in c:\\anaconda3\\envs\\py37\\lib\\site-packages (from requests<3,>=2.21.0->tensorboard<3,>=2.3.0->tensorflow) (1.25.10)\n",
      "Requirement already satisfied: idna<3,>=2.5 in c:\\anaconda3\\envs\\py37\\lib\\site-packages (from requests<3,>=2.21.0->tensorboard<3,>=2.3.0->tensorflow) (2.10)\n",
      "Requirement already satisfied: importlib-metadata; python_version < \"3.8\" in c:\\anaconda3\\envs\\py37\\lib\\site-packages (from markdown>=2.6.8->tensorboard<3,>=2.3.0->tensorflow) (1.7.0)\n",
      "Requirement already satisfied: cachetools<5.0,>=2.0.0 in c:\\anaconda3\\envs\\py37\\lib\\site-packages (from google-auth<2,>=1.6.3->tensorboard<3,>=2.3.0->tensorflow) (4.1.1)\n",
      "Requirement already satisfied: pyasn1-modules>=0.2.1 in c:\\anaconda3\\envs\\py37\\lib\\site-packages (from google-auth<2,>=1.6.3->tensorboard<3,>=2.3.0->tensorflow) (0.2.8)\n",
      "Requirement already satisfied: rsa<5,>=3.1.4; python_version >= \"3.5\" in c:\\anaconda3\\envs\\py37\\lib\\site-packages (from google-auth<2,>=1.6.3->tensorboard<3,>=2.3.0->tensorflow) (4.6)\n",
      "Requirement already satisfied: requests-oauthlib>=0.7.0 in c:\\anaconda3\\envs\\py37\\lib\\site-packages (from google-auth-oauthlib<0.5,>=0.4.1->tensorboard<3,>=2.3.0->tensorflow) (1.3.0)\n",
      "Requirement already satisfied: zipp>=0.5 in c:\\anaconda3\\envs\\py37\\lib\\site-packages (from importlib-metadata; python_version < \"3.8\"->markdown>=2.6.8->tensorboard<3,>=2.3.0->tensorflow) (3.1.0)\n",
      "Requirement already satisfied: pyasn1<0.5.0,>=0.4.6 in c:\\anaconda3\\envs\\py37\\lib\\site-packages (from pyasn1-modules>=0.2.1->google-auth<2,>=1.6.3->tensorboard<3,>=2.3.0->tensorflow) (0.4.8)\n",
      "Requirement already satisfied: oauthlib>=3.0.0 in c:\\anaconda3\\envs\\py37\\lib\\site-packages (from requests-oauthlib>=0.7.0->google-auth-oauthlib<0.5,>=0.4.1->tensorboard<3,>=2.3.0->tensorflow) (3.1.0)\n"
     ]
    }
   ],
   "source": [
    "!pip install tensorflow"
   ]
  },
  {
   "cell_type": "code",
   "execution_count": 2,
   "metadata": {
    "id": "V_ehgjADNFPS"
   },
   "outputs": [],
   "source": [
    "import pandas as pd\n",
    "import numpy as np\n",
    "%matplotlib inline\n",
    "import matplotlib.pyplot as plt\n",
    "import re\n",
    "import urllib.request\n",
    "from konlpy.tag import Okt\n",
    "from tensorflow.keras.preprocessing.text import Tokenizer\n",
    "from tensorflow.keras.preprocessing.sequence import pad_sequences\n",
    "okt = Okt()"
   ]
  },
  {
   "cell_type": "code",
   "execution_count": 3,
   "metadata": {
    "id": "kPqLeLl0NFPb"
   },
   "outputs": [],
   "source": [
    "data1 = pd.read_csv(\"truffle_zzappa_label.csv\")\n",
    "data2 = pd.read_csv(\"백종원 있는 미역초무침 댓글 2제외.csv\")\n",
    "data3 = pd.read_csv(\"mara_1-7445.csv\")"
   ]
  },
  {
   "cell_type": "code",
   "execution_count": 4,
   "metadata": {
    "id": "qcATD6gcNFPf"
   },
   "outputs": [],
   "source": [
    "data3=data3[data3['label']!=2]"
   ]
  },
  {
   "cell_type": "code",
   "execution_count": 5,
   "metadata": {
    "id": "DG30EYLHNFPi"
   },
   "outputs": [],
   "source": [
    "train_data = pd.concat([data1,data2, data3], axis = 0)"
   ]
  },
  {
   "cell_type": "code",
   "execution_count": 6,
   "metadata": {
    "id": "9m41Zgv0NFPl"
   },
   "outputs": [],
   "source": [
    "del train_data['Unnamed: 0']\n",
    "del train_data['Unnamed: 0.1']\n",
    "del train_data['tokens']"
   ]
  },
  {
   "cell_type": "code",
   "execution_count": 7,
   "metadata": {
    "id": "OkQpem89NFPo",
    "outputId": "2154de1d-1f0e-4070-da45-c3cf9f862622"
   },
   "outputs": [
    {
     "name": "stdout",
     "output_type": "stream",
     "text": [
      "학습용 리뷰 개수 : 1510\n"
     ]
    }
   ],
   "source": [
    "print('학습용 리뷰 개수 :',len(train_data))"
   ]
  },
  {
   "cell_type": "code",
   "execution_count": 8,
   "metadata": {
    "id": "FUQ-3CjHNFPr",
    "outputId": "f0ea9a6f-e43e-4fca-95bd-ef86a6ecb24b"
   },
   "outputs": [
    {
     "data": {
      "text/plain": [
       "(1494, 2)"
      ]
     },
     "execution_count": 8,
     "metadata": {},
     "output_type": "execute_result"
    }
   ],
   "source": [
    "train_data['Comments'].nunique(), train_data['label'].nunique()"
   ]
  },
  {
   "cell_type": "code",
   "execution_count": 9,
   "metadata": {
    "id": "GAifwq7oNFPv",
    "outputId": "0173d11b-b9d3-45a8-ed25-9c46eb29521a"
   },
   "outputs": [
    {
     "name": "stdout",
     "output_type": "stream",
     "text": [
      "총 샘플의 수 : 1494\n"
     ]
    }
   ],
   "source": [
    "train_data.drop_duplicates(subset=['Comments'], inplace=True)\n",
    "print('총 샘플의 수 :',len(train_data))"
   ]
  },
  {
   "cell_type": "code",
   "execution_count": 10,
   "metadata": {
    "id": "dh1cNEkqNFPy",
    "outputId": "6e4cdf50-4943-47f3-ca23-7caf5dff6dfc"
   },
   "outputs": [
    {
     "data": {
      "image/png": "[encoded data removed]",
      "text/plain": [
       "<Figure size 432x288 with 1 Axes>"
      ]
     },
     "metadata": {
      "needs_background": "light"
     },
     "output_type": "display_data"
    }
   ],
   "source": [
    "train_data['label'].value_counts().plot(kind = 'bar');"
   ]
  },
  {
   "cell_type": "code",
   "execution_count": 11,
   "metadata": {
    "id": "pWmCZv0JNFP1",
    "outputId": "cf514206-a34f-4340-a4e8-6b761f616aef"
   },
   "outputs": [
    {
     "name": "stdout",
     "output_type": "stream",
     "text": [
      "True\n"
     ]
    }
   ],
   "source": [
    "print(train_data.isnull().values.any())"
   ]
  },
  {
   "cell_type": "code",
   "execution_count": 12,
   "metadata": {
    "id": "cFdOiVG4NFP4",
    "outputId": "bf815ccd-f244-4dc0-f7e1-20a82c06ef7a"
   },
   "outputs": [
    {
     "name": "stdout",
     "output_type": "stream",
     "text": [
      "Comments     0\n",
      "label       38\n",
      "dtype: int64\n"
     ]
    }
   ],
   "source": [
    "print(train_data.isnull().sum())"
   ]
  },
  {
   "cell_type": "code",
   "execution_count": 13,
   "metadata": {
    "id": "YPHDCqgqNFP6",
    "outputId": "cf0f7157-1e63-40b2-f7ec-2fc48f19c7ee"
   },
   "outputs": [
    {
     "data": {
      "text/html": [
       "<div>\n",
       "<style scoped>\n",
       "    .dataframe tbody tr th:only-of-type {\n",
       "        vertical-align: middle;\n",
       "    }\n",
       "\n",
       "    .dataframe tbody tr th {\n",
       "        vertical-align: top;\n",
       "    }\n",
       "\n",
       "    .dataframe thead th {\n",
       "        text-align: right;\n",
       "    }\n",
       "</style>\n",
       "<table border=\"1\" class=\"dataframe\">\n",
       "  <thead>\n",
       "    <tr style=\"text-align: right;\">\n",
       "      <th></th>\n",
       "      <th>Comments</th>\n",
       "      <th>label</th>\n",
       "    </tr>\n",
       "  </thead>\n",
       "  <tbody>\n",
       "    <tr>\n",
       "      <th>297</th>\n",
       "      <td>내가 잘따르는 마니형 나도 저거 라면 보내주면 안??    ㅋㅋㅋㅋㅋㅋ</td>\n",
       "      <td>NaN</td>\n",
       "    </tr>\n",
       "    <tr>\n",
       "      <th>427</th>\n",
       "      <td>이거 개마?遠?개마?遠?1</td>\n",
       "      <td>NaN</td>\n",
       "    </tr>\n",
       "    <tr>\n",
       "      <th>671</th>\n",
       "      <td>저는 콜라먹는부분볼려고 시청해?Dㅋㅋㅋㅋㅋ음식먹는것보다 콜라마시장면만보?以빱빱빱빱?...</td>\n",
       "      <td>NaN</td>\n",
       "    </tr>\n",
       "    <tr>\n",
       "      <th>744</th>\n",
       "      <td>ㅏ매마뉴마나누?pㅋㅑㄴ매ㅑㄴ어ㅜㅇㅡ?冒칟첸틘疸?매마 뉴마 나누</td>\n",
       "      <td>NaN</td>\n",
       "    </tr>\n",
       "    <tr>\n",
       "      <th>780</th>\n",
       "      <td>진짜 미워할 수가 없?い빱빱빱?진짜 미워할 수가 없??2</td>\n",
       "      <td>NaN</td>\n",
       "    </tr>\n",
       "  </tbody>\n",
       "</table>\n",
       "</div>"
      ],
      "text/plain": [
       "                                              Comments  label\n",
       "297            내가 잘따르는 마니형 나도 저거 라면 보내주면 안??    ㅋㅋㅋㅋㅋㅋ    NaN\n",
       "427                                     이거 개마?遠?개마?遠?1    NaN\n",
       "671  저는 콜라먹는부분볼려고 시청해?Dㅋㅋㅋㅋㅋ음식먹는것보다 콜라마시장면만보?以빱빱빱빱?...    NaN\n",
       "744                 ㅏ매마뉴마나누?pㅋㅑㄴ매ㅑㄴ어ㅜㅇㅡ?冒칟첸틘疸?매마 뉴마 나누    NaN\n",
       "780                    진짜 미워할 수가 없?い빱빱빱?진짜 미워할 수가 없??2    NaN"
      ]
     },
     "execution_count": 13,
     "metadata": {},
     "output_type": "execute_result"
    }
   ],
   "source": [
    "train_data.loc[train_data.label.isnull()].head(5)"
   ]
  },
  {
   "cell_type": "code",
   "execution_count": 14,
   "metadata": {
    "id": "nKbnnYv7NFP9",
    "outputId": "ea2ef064-b62a-44b4-a5ef-43ec2d39b66b"
   },
   "outputs": [
    {
     "name": "stdout",
     "output_type": "stream",
     "text": [
      "False\n"
     ]
    }
   ],
   "source": [
    "train_data = train_data.dropna(how = 'any') # Null 값이 존재하는 행 제거\n",
    "print(train_data.isnull().values.any()) "
   ]
  },
  {
   "cell_type": "code",
   "execution_count": 15,
   "metadata": {
    "id": "hR0Cs_FoNFQA",
    "outputId": "92bae6f6-252d-4a6b-e520-0799973de4b8"
   },
   "outputs": [
    {
     "data": {
      "text/html": [
       "<div>\n",
       "<style scoped>\n",
       "    .dataframe tbody tr th:only-of-type {\n",
       "        vertical-align: middle;\n",
       "    }\n",
       "\n",
       "    .dataframe tbody tr th {\n",
       "        vertical-align: top;\n",
       "    }\n",
       "\n",
       "    .dataframe thead th {\n",
       "        text-align: right;\n",
       "    }\n",
       "</style>\n",
       "<table border=\"1\" class=\"dataframe\">\n",
       "  <thead>\n",
       "    <tr style=\"text-align: right;\">\n",
       "      <th></th>\n",
       "      <th>Comments</th>\n",
       "      <th>label</th>\n",
       "    </tr>\n",
       "  </thead>\n",
       "  <tbody>\n",
       "    <tr>\n",
       "      <th>0</th>\n",
       "      <td>솔직히 먹어봤는데 트러플을 접해보지 못한 일반인인 나는 차이를 느끼지 못했다</td>\n",
       "      <td>0.0</td>\n",
       "    </tr>\n",
       "    <tr>\n",
       "      <th>1</th>\n",
       "      <td>그냥 짜파게티에 달걀후라이가 젤 맛있음</td>\n",
       "      <td>0.0</td>\n",
       "    </tr>\n",
       "    <tr>\n",
       "      <th>2</th>\n",
       "      <td>저는 짜파게티 맛이 예전맛이 안나는거 같아서 항상 아쉬웠었는데 트러플 소스 들어가고...</td>\n",
       "      <td>1.0</td>\n",
       "    </tr>\n",
       "    <tr>\n",
       "      <th>3</th>\n",
       "      <td>오   컵라면 뚜껑에 젓가락 끼워놓을 수 있는 곳이 있는줄 몰랐네요ㅋㅋㅋ 완전 꿀팁...</td>\n",
       "      <td>0.0</td>\n",
       "    </tr>\n",
       "    <tr>\n",
       "      <th>4</th>\n",
       "      <td>솔직한 리뷰 잘 봤구요  그냥 트러플 오일 하나 사서 두어 방울 뿌려먹는게 낫겠지 ...</td>\n",
       "      <td>0.0</td>\n",
       "    </tr>\n",
       "  </tbody>\n",
       "</table>\n",
       "</div>"
      ],
      "text/plain": [
       "                                            Comments  label\n",
       "0         솔직히 먹어봤는데 트러플을 접해보지 못한 일반인인 나는 차이를 느끼지 못했다    0.0\n",
       "1                              그냥 짜파게티에 달걀후라이가 젤 맛있음    0.0\n",
       "2  저는 짜파게티 맛이 예전맛이 안나는거 같아서 항상 아쉬웠었는데 트러플 소스 들어가고...    1.0\n",
       "3  오   컵라면 뚜껑에 젓가락 끼워놓을 수 있는 곳이 있는줄 몰랐네요ㅋㅋㅋ 완전 꿀팁...    0.0\n",
       "4  솔직한 리뷰 잘 봤구요  그냥 트러플 오일 하나 사서 두어 방울 뿌려먹는게 낫겠지 ...    0.0"
      ]
     },
     "execution_count": 15,
     "metadata": {},
     "output_type": "execute_result"
    }
   ],
   "source": [
    "train_data['Comments'] = train_data['Comments'].str.replace(\"[^ㄱ-ㅎㅏ-ㅣ가-힣 ]\",\"\")\n",
    "train_data.head()"
   ]
  },
  {
   "cell_type": "code",
   "execution_count": 16,
   "metadata": {
    "id": "mYeFXhCDNFQD",
    "outputId": "481f8f46-440b-4809-90a9-527f65bcceac"
   },
   "outputs": [
    {
     "name": "stdout",
     "output_type": "stream",
     "text": [
      "Comments    0\n",
      "label       0\n",
      "dtype: int64\n"
     ]
    }
   ],
   "source": [
    "train_data['Comments'].replace('', np.nan, inplace=True)\n",
    "print(train_data.isnull().sum())"
   ]
  },
  {
   "cell_type": "code",
   "execution_count": 191,
   "metadata": {
    "id": "HpQJA_YqNFQF"
   },
   "outputs": [],
   "source": [
    "stopwords = ['께서','에서','이다','에게','으로','이랑','까지','부터','하다',\n",
    "             '구독','편집', '예쁘', '귀엽', '웃기', '해주세요','카와이', '귀엽', '졸귀', '킬포', \n",
    "             '개웃겨', '귀욤', '하이라이트', '현웃', '언니', '형', '매력', '언닌', '귀요', \n",
    "             '코로나', '재밌', '행님', '목소리','효과음', '선생님', '잘보고있어요', \n",
    "             '드셔', '드시', '재밋게',  '사기', '광고', '소리', '잘생겼', \n",
    "             '야하', '섹시', '얼굴', '기여', '기엽', '협찬', 'ppl', '배터', \n",
    "             '2019', '2020', 'asmr',  'ASMR', '너무예', '편집', '아이돌',  \n",
    "             '만명', '구독자', '리액션', '슈기', '지원', '복스럽', '이쁘', \n",
    "             '존버', '께서','에서','이다','에게','으로','이랑','까지','부터','하다','구독',\n",
    "             '예쁘', '귀엽', '웃기', '해주세요','카와이', '귀엽', '졸귀', '킬포', '개웃겨', \n",
    "             '귀욤', '하이라이트', '현웃', '언니', '형', '매력', '언닌', '귀요', '코로나', \n",
    "             '재밌', '행님', '소리','온니','귀여우시다','율송','사랑스럽다','귀여워요',\n",
    "             '이쁘세요','눈화장','덩이','섀도우','언닝','구독','여리','동수','귀엽네','드머',\n",
    "             '예뻐','에드','야하네','오빠','빵터지지','썸네일','섹시해','잘생김', '광고', \n",
    "             '단무지', '하세용', '표정', '그릇', '모습', '나름', '귀여워', '이뽀', '웃겨욬', \n",
    "             '소리', '이쁘세요', '귀여워요', '존경', '브금', '댓글', '배고파졌어용', '자세한', \n",
    "             '리뷰', '재미', '빠르다', '배고파요', '예뻐요', '컨셉', '드세요', '보겠어', \n",
    "             '다이어트', '면치기', '쌍수', '햇님', '창의력', '도끼', '텐션', '유튜브', \n",
    "             '상남자',  '자막', '귀염', '재밋', '개그맨', '질럿님', '일본', '귀여웡', '강동원', \n",
    "             '미래', '살', '째현이', '재현', '주라', '강아지', '잘생기셧어', '잘생', '세아님',\n",
    "             '잘생겼어요', '오랜만에', '파투님', '숙제', '읽었나요', '카메라', '오빠', '이쁘다',\n",
    "             '안전운전', '안녕하세요', '채널', '은희', '미미', '새벽', '알람', \n",
    "             '개그', '꿀잼', '엔딩', '인트로', '무리', '잠시', '틴트','벤쯔','밴쯔','밴쯔님','배다','쯔','님','동생', '화장', \n",
    "             '뽀로로', '젓가락', '젖가락', '언니', '풀메', '화장', '싸운건가', '렌즈', '숟가락', '귀욥', '싸가지', '불상해', '살', \n",
    "             '이뻐', '예뻐', '반팔티', '거슬리나', '티샤스', '예뻐', '온니', '섹시', '소리', '썸넬', '유튜버', '머리카락', \n",
    "             '주둥이', '장염','다시마','초심','정상인','하이','안녕하세요','존예','설명','고물','주승',\n",
    "             '현우','지윤','귀여우','멍청', '정수기', '동무','난독증','알고', '인건', '서영', '하영', '현우', '서연', '동훈', '성준', '주승',\n",
    "             '설명', '생일', '닮으', '책상', '김발', '베트맨', '님', '수고비', '나름', '소프', '가르마', '다다푸드', '초전', '개띵작',\n",
    "             '고물', '도끼', '스펙타클', '불판', '누님', '삐', '도마', '나레이션', '남자', '제이슨',\n",
    "             '토르', '유트버', '전기톱', '님', '미래', '콘텐츠', '컨텐츠', \n",
    "             '냉면', '돈까스', '잘드신다', '이벤트', '백현', '제이제이', '서울특별시', '괜찮', '뿜었', '왼팔',\n",
    "             '빵터','웃겨요','년전','반전','긴니','먹어주세요', '말레이시아', '보세요', '겜', '편집', '화이띵',\n",
    "             '진공청소기','화이팅']\n",
    "             "
   ]
  },
  {
   "cell_type": "code",
   "execution_count": 18,
   "metadata": {
    "id": "VOQkpsMUNFQI"
   },
   "outputs": [],
   "source": [
    "X_train = []\n",
    "for sentence in train_data['Comments']:\n",
    "    temp_X = []\n",
    "    temp_X = okt.morphs(sentence, stem=True) # 토큰화\n",
    "    #temp_X = [word for word in temp_X if not word in stopwords] # 불용어 제거\n",
    "    X_train.append(temp_X)"
   ]
  },
  {
   "cell_type": "code",
   "execution_count": 19,
   "metadata": {
    "id": "qu_vzGrbNFQK"
   },
   "outputs": [],
   "source": [
    "tokenizer = Tokenizer()\n",
    "tokenizer.fit_on_texts(X_train)"
   ]
  },
  {
   "cell_type": "code",
   "execution_count": 20,
   "metadata": {
    "id": "gDrzPm-gNFQO",
    "outputId": "b9c5b797-18d3-4430-e932-332a1ecc07cc"
   },
   "outputs": [
    {
     "name": "stdout",
     "output_type": "stream",
     "text": [
      "단어 집합(vocabulary)의 크기 : 3100\n",
      "등장 빈도가 1번 이하인 희귀 단어의 수: 1626\n",
      "단어 집합에서 희귀 단어의 비율: 52.45161290322581\n",
      "전체 등장 빈도에서 희귀 단어 등장 빈도 비율: 7.313781935948183\n"
     ]
    }
   ],
   "source": [
    "threshold = 2\n",
    "total_cnt = len(tokenizer.word_index) # 단어의 수\n",
    "rare_cnt = 0 # 등장 빈도수가 threshold보다 작은 단어의 개수를 카운트\n",
    "total_freq = 0 # 훈련 데이터의 전체 단어 빈도수 총 합\n",
    "rare_freq = 0 # 등장 빈도수가 threshold보다 작은 단어의 등장 빈도수의 총 합\n",
    "\n",
    "# 단어와 빈도수의 쌍(pair)을 key와 value로 받는다.\n",
    "for key, value in tokenizer.word_counts.items():\n",
    "    total_freq = total_freq + value\n",
    "\n",
    "    # 단어의 등장 빈도수가 threshold보다 작으면\n",
    "    if(value < threshold):\n",
    "        rare_cnt = rare_cnt + 1\n",
    "        rare_freq = rare_freq + value\n",
    "\n",
    "print('단어 집합(vocabulary)의 크기 :',total_cnt)\n",
    "print('등장 빈도가 %s번 이하인 희귀 단어의 수: %s'%(threshold - 1, rare_cnt))\n",
    "print(\"단어 집합에서 희귀 단어의 비율:\", (rare_cnt / total_cnt)*100)\n",
    "print(\"전체 등장 빈도에서 희귀 단어 등장 빈도 비율:\", (rare_freq / total_freq)*100)"
   ]
  },
  {
   "cell_type": "code",
   "execution_count": 21,
   "metadata": {
    "id": "aexExfLVNFQQ",
    "outputId": "fce04b1a-0cb4-46c3-acf2-c5e1d17296bc"
   },
   "outputs": [
    {
     "name": "stdout",
     "output_type": "stream",
     "text": [
      "단어 집합의 크기 : 1475\n"
     ]
    }
   ],
   "source": [
    "vocab_size = total_cnt - rare_cnt + 1\n",
    "print('단어 집합의 크기 :',vocab_size)"
   ]
  },
  {
   "cell_type": "code",
   "execution_count": 22,
   "metadata": {
    "id": "GERNEIklNFQT"
   },
   "outputs": [],
   "source": [
    "tokenizer = Tokenizer(vocab_size, oov_token = 'OOV') \n",
    "tokenizer.fit_on_texts(X_train)\n",
    "X_train = tokenizer.texts_to_sequences(X_train)"
   ]
  },
  {
   "cell_type": "code",
   "execution_count": 23,
   "metadata": {
    "id": "JWn77CB4NFQV"
   },
   "outputs": [],
   "source": [
    "y_train = np.array(train_data['label']) "
   ]
  },
  {
   "cell_type": "code",
   "execution_count": 24,
   "metadata": {
    "id": "nwVJjm7gNFQY"
   },
   "outputs": [],
   "source": [
    "drop_train = [index for index, sentence in enumerate(X_train) if len(sentence) < 1]"
   ]
  },
  {
   "cell_type": "code",
   "execution_count": 25,
   "metadata": {
    "id": "utAlR7jmNFQa",
    "outputId": "feea7102-67f2-4981-b0bf-fa3f9ba6bd18"
   },
   "outputs": [
    {
     "name": "stdout",
     "output_type": "stream",
     "text": [
      "1456\n",
      "1456\n"
     ]
    }
   ],
   "source": [
    "X_train = np.delete(X_train, drop_train, axis=0)\n",
    "y_train = np.delete(y_train, drop_train, axis=0)\n",
    "print(len(X_train))\n",
    "print(len(y_train))"
   ]
  },
  {
   "cell_type": "code",
   "execution_count": 26,
   "metadata": {
    "id": "33gpoLjjNFQd",
    "outputId": "018f8c42-d403-4446-9a5a-7475ffa20662"
   },
   "outputs": [
    {
     "name": "stdout",
     "output_type": "stream",
     "text": [
      "리뷰의 최대 길이 : 220\n",
      "리뷰의 평균 길이 : 15.26923076923077\n"
     ]
    },
    {
     "data": {
      "image/png": "[encoded data removed]",
      "text/plain": [
       "<Figure size 432x288 with 1 Axes>"
      ]
     },
     "metadata": {
      "needs_background": "light"
     },
     "output_type": "display_data"
    }
   ],
   "source": [
    "print('리뷰의 최대 길이 :',max(len(l) for l in X_train))\n",
    "print('리뷰의 평균 길이 :',sum(map(len, X_train))/len(X_train))\n",
    "plt.hist([len(s) for s in X_train], bins=50)\n",
    "plt.xlabel('length of samples')\n",
    "plt.ylabel('number of samples')\n",
    "plt.show()"
   ]
  },
  {
   "cell_type": "code",
   "execution_count": 27,
   "metadata": {
    "id": "HqOvXRF3NFQg"
   },
   "outputs": [],
   "source": [
    "def below_threshold_len(max_len, nested_list):\n",
    "    cnt = 0\n",
    "    for s in nested_list:\n",
    "        if(len(s) <= max_len):\n",
    "            cnt = cnt + 1\n",
    "    print('전체 샘플 중 길이가 %s 이하인 샘플의 비율: %s'%(max_len, (cnt / len(nested_list))*100))"
   ]
  },
  {
   "cell_type": "code",
   "execution_count": 28,
   "metadata": {
    "id": "r8i_ZtmmNFQi",
    "outputId": "f75a3049-5694-4adc-b03a-c896614862a8"
   },
   "outputs": [
    {
     "name": "stdout",
     "output_type": "stream",
     "text": [
      "전체 샘플 중 길이가 40 이하인 샘플의 비율: 94.98626373626374\n"
     ]
    }
   ],
   "source": [
    "max_len = 40\n",
    "below_threshold_len(max_len, X_train)"
   ]
  },
  {
   "cell_type": "code",
   "execution_count": 29,
   "metadata": {
    "id": "LPDM0iDfNFQl"
   },
   "outputs": [],
   "source": [
    "X_train = pad_sequences(X_train, maxlen = max_len)"
   ]
  },
  {
   "cell_type": "code",
   "execution_count": 30,
   "metadata": {
    "id": "D7C7eA4uNFQn"
   },
   "outputs": [],
   "source": [
    "from tensorflow.keras.layers import Embedding, Dense, LSTM\n",
    "from tensorflow.keras.models import Sequential\n",
    "from tensorflow.keras.models import load_model\n",
    "from tensorflow.keras.callbacks import EarlyStopping, ModelCheckpoint"
   ]
  },
  {
   "cell_type": "code",
   "execution_count": 31,
   "metadata": {
    "id": "5awUb_7VNFQt"
   },
   "outputs": [],
   "source": [
    "model = Sequential()\n",
    "model.add(Embedding(vocab_size, 100))\n",
    "model.add(LSTM(128))\n",
    "model.add(Dense(1, activation='sigmoid'))"
   ]
  },
  {
   "cell_type": "code",
   "execution_count": 32,
   "metadata": {
    "id": "R2qwzPSCNFQv"
   },
   "outputs": [],
   "source": [
    "es = EarlyStopping(monitor='val_loss', mode='min', verbose=1, patience=4)\n",
    "mc = ModelCheckpoint('best_model.h5', monitor='val_acc', mode='max', verbose=1, save_best_only=True)"
   ]
  },
  {
   "cell_type": "code",
   "execution_count": 33,
   "metadata": {
    "id": "mo2ND90lNFQy",
    "outputId": "fd1582bb-f477-401c-a0af-c81417b31f7c"
   },
   "outputs": [
    {
     "name": "stdout",
     "output_type": "stream",
     "text": [
      "Epoch 1/15\n",
      "19/20 [===========================>..] - ETA: 0s - loss: 0.6569 - acc: 0.7053\n",
      "Epoch 00001: val_acc improved from -inf to 0.52055, saving model to best_model.h5\n",
      "20/20 [==============================] - 1s 60ms/step - loss: 0.6524 - acc: 0.7088 - val_loss: 0.9504 - val_acc: 0.5205\n",
      "Epoch 2/15\n",
      "19/20 [===========================>..] - ETA: 0s - loss: 0.5350 - acc: 0.7263\n",
      "Epoch 00002: val_acc did not improve from 0.52055\n",
      "20/20 [==============================] - 1s 35ms/step - loss: 0.5351 - acc: 0.7251 - val_loss: 0.6963 - val_acc: 0.5205\n",
      "Epoch 3/15\n",
      "19/20 [===========================>..] - ETA: 0s - loss: 0.4145 - acc: 0.8044\n",
      "Epoch 00003: val_acc improved from 0.52055 to 0.64041, saving model to best_model.h5\n",
      "20/20 [==============================] - 1s 35ms/step - loss: 0.4159 - acc: 0.8050 - val_loss: 0.6183 - val_acc: 0.6404\n",
      "Epoch 4/15\n",
      "19/20 [===========================>..] - ETA: 0s - loss: 0.3010 - acc: 0.8895\n",
      "Epoch 00004: val_acc improved from 0.64041 to 0.68836, saving model to best_model.h5\n",
      "20/20 [==============================] - 1s 35ms/step - loss: 0.3010 - acc: 0.8892 - val_loss: 0.6540 - val_acc: 0.6884\n",
      "Epoch 5/15\n",
      "19/20 [===========================>..] - ETA: 0s - loss: 0.2293 - acc: 0.9211\n",
      "Epoch 00005: val_acc improved from 0.68836 to 0.72260, saving model to best_model.h5\n",
      "20/20 [==============================] - 1s 43ms/step - loss: 0.2300 - acc: 0.9210 - val_loss: 0.6300 - val_acc: 0.7226\n",
      "Epoch 6/15\n",
      "19/20 [===========================>..] - ETA: 0s - loss: 0.1779 - acc: 0.9430\n",
      "Epoch 00006: val_acc did not improve from 0.72260\n",
      "20/20 [==============================] - 1s 35ms/step - loss: 0.1802 - acc: 0.9424 - val_loss: 0.6857 - val_acc: 0.6952\n",
      "Epoch 7/15\n",
      "19/20 [===========================>..] - ETA: 0s - loss: 0.1628 - acc: 0.9491\n",
      "Epoch 00007: val_acc improved from 0.72260 to 0.76027, saving model to best_model.h5\n",
      "20/20 [==============================] - 1s 35ms/step - loss: 0.1660 - acc: 0.9476 - val_loss: 0.6201 - val_acc: 0.7603\n",
      "Epoch 00007: early stopping\n"
     ]
    }
   ],
   "source": [
    "model.compile(optimizer='rmsprop', loss='binary_crossentropy', metrics=['acc'])\n",
    "history = model.fit(X_train, y_train, epochs=15, callbacks=[es, mc], batch_size=60, validation_split=0.2)"
   ]
  },
  {
   "cell_type": "code",
   "execution_count": 34,
   "metadata": {
    "id": "cleKLDWNNFQ1"
   },
   "outputs": [],
   "source": [
    "loaded_model = load_model('best_model.h5')"
   ]
  },
  {
   "cell_type": "code",
   "execution_count": 35,
   "metadata": {
    "id": "MZe2g8STNFQ3"
   },
   "outputs": [],
   "source": [
    "def sentiment_predict(new_sentence):\n",
    "    new_sentence = okt.morphs(new_sentence, stem=True) # 토큰화\n",
    "    new_sentence = [word for word in new_sentence if not word in stopwords] # 불용어 제거\n",
    "    encoded = tokenizer.texts_to_sequences([new_sentence]) # 정수 인코딩\n",
    "    pad_new = pad_sequences(encoded, maxlen = max_len) # 패딩\n",
    "    score = float(loaded_model.predict(pad_new)) # 예측\n",
    "            \n",
    "    if score > 0.5:\n",
    "        label = 1\n",
    "    else: \n",
    "        label = 0    \n",
    "    return(label)"
   ]
  },
  {
   "cell_type": "markdown",
   "metadata": {
    "id": "QPe-P-kZNFQ4"
   },
   "source": [
    "- sinsin = pd.read_csv('신라면건면_Raw.csv',encoding='cp949')\n",
    "- garlic = pd.read_csv('갈릭버터_Raw.csv',encoding='cp949') \n",
    "- 위와 같이 데이터 프레임을 불러옵니다 토큰화하기 이전의 전체 문장csv를 넣어주셔야합니다"
   ]
  },
  {
   "cell_type": "code",
   "execution_count": 304,
   "metadata": {
    "id": "n7220oYWNFQ5",
    "outputId": "81a57fda-ce4f-4991-8600-ab38e3a09822",
    "scrolled": false
   },
   "outputs": [
    {
     "data": {
      "text/plain": [
       "(259, 2)"
      ]
     },
     "execution_count": 304,
     "metadata": {},
     "output_type": "execute_result"
    }
   ],
   "source": [
    "dataframe = pd.read_csv('chaehwang_tokenization.csv')\n",
    "dataframe.shape"
   ]
  },
  {
   "cell_type": "code",
   "execution_count": 305,
   "metadata": {},
   "outputs": [
    {
     "data": {
      "text/plain": [
       "(221, 2)"
      ]
     },
     "execution_count": 305,
     "metadata": {},
     "output_type": "execute_result"
    }
   ],
   "source": [
    "for word in stopwords:\n",
    "    dataframe= dataframe[~dataframe['Comments'].str.contains(word)]\n",
    "dataframe.shape"
   ]
  },
  {
   "cell_type": "code",
   "execution_count": 306,
   "metadata": {},
   "outputs": [],
   "source": [
    "#dataframe= dataframe[['Comments']]"
   ]
  },
  {
   "cell_type": "code",
   "execution_count": 307,
   "metadata": {},
   "outputs": [
    {
     "data": {
      "text/plain": [
       "Unnamed: 0    0\n",
       "Comments      0\n",
       "dtype: int64"
      ]
     },
     "execution_count": 307,
     "metadata": {},
     "output_type": "execute_result"
    }
   ],
   "source": [
    "#Null 값 없애기\n",
    "dataframe=dataframe.dropna()\n",
    "dataframe.isnull().sum()"
   ]
  },
  {
   "cell_type": "code",
   "execution_count": 308,
   "metadata": {},
   "outputs": [
    {
     "data": {
      "text/plain": [
       "(221, 2)"
      ]
     },
     "execution_count": 308,
     "metadata": {},
     "output_type": "execute_result"
    }
   ],
   "source": [
    "dataframe.reset_index(inplace=True, drop=True)\n",
    "dataframe.shape"
   ]
  },
  {
   "cell_type": "code",
   "execution_count": 309,
   "metadata": {
    "id": "KTWinyEpNFQ7"
   },
   "outputs": [],
   "source": [
    "comment_list = list(dataframe['Comments'])\n",
    "label_list = []\n",
    "                    \n",
    "for item in comment_list:\n",
    "    label_list.append(sentiment_predict(item))\n",
    "    \n",
    "dataframe['label']=label_list"
   ]
  },
  {
   "cell_type": "code",
   "execution_count": 310,
   "metadata": {
    "id": "PIpRzddHNFQ9",
    "scrolled": true
   },
   "outputs": [
    {
     "name": "stdout",
     "output_type": "stream",
     "text": [
      "부정적 댓글 percent: 0.23529411764705882\n",
      "긍정적 댓글 percent: 0.7647058823529411\n"
     ]
    }
   ],
   "source": [
    "neg= dataframe[dataframe['label']==0]['label'].count()\n",
    "pos= dataframe[dataframe['label']==1]['label'].count()\n",
    "print(\"부정적 댓글 percent:\",neg/dataframe['label'].count())\n",
    "print(\"긍정적 댓글 percent:\",pos/dataframe['label'].count())"
   ]
  },
  {
   "cell_type": "code",
   "execution_count": 311,
   "metadata": {
    "scrolled": true
   },
   "outputs": [
    {
     "data": {
      "text/html": [
       "<div>\n",
       "<style scoped>\n",
       "    .dataframe tbody tr th:only-of-type {\n",
       "        vertical-align: middle;\n",
       "    }\n",
       "\n",
       "    .dataframe tbody tr th {\n",
       "        vertical-align: top;\n",
       "    }\n",
       "\n",
       "    .dataframe thead th {\n",
       "        text-align: right;\n",
       "    }\n",
       "</style>\n",
       "<table border=\"1\" class=\"dataframe\">\n",
       "  <thead>\n",
       "    <tr style=\"text-align: right;\">\n",
       "      <th></th>\n",
       "      <th>Unnamed: 0</th>\n",
       "      <th>Comments</th>\n",
       "      <th>label</th>\n",
       "    </tr>\n",
       "  </thead>\n",
       "  <tbody>\n",
       "    <tr>\n",
       "      <th>0</th>\n",
       "      <td>0</td>\n",
       "      <td>채식주의자아니여도저처럼우유알러지나계란알러지있는분들많은데알러지있는분들도먹을수있어요보통...</td>\n",
       "      <td>1</td>\n",
       "    </tr>\n",
       "    <tr>\n",
       "      <th>1</th>\n",
       "      <td>2</td>\n",
       "      <td>열라면 진라면 채황라면진열하면진짜신호등이겠네요ㅋㅋㅋㅋ</td>\n",
       "      <td>1</td>\n",
       "    </tr>\n",
       "    <tr>\n",
       "      <th>2</th>\n",
       "      <td>3</td>\n",
       "      <td>비건라면이네  진짜채식주의자들한테는좋을듯</td>\n",
       "      <td>1</td>\n",
       "    </tr>\n",
       "    <tr>\n",
       "      <th>3</th>\n",
       "      <td>8</td>\n",
       "      <td>굉장히깔끔하고안짜고채소가어마하게들어가있습디다 저는계속먹을듯해요 비건은아니지만채수의감...</td>\n",
       "      <td>0</td>\n",
       "    </tr>\n",
       "    <tr>\n",
       "      <th>4</th>\n",
       "      <td>10</td>\n",
       "      <td>자괴감덜드는라면</td>\n",
       "      <td>1</td>\n",
       "    </tr>\n",
       "    <tr>\n",
       "      <th>...</th>\n",
       "      <td>...</td>\n",
       "      <td>...</td>\n",
       "      <td>...</td>\n",
       "    </tr>\n",
       "    <tr>\n",
       "      <th>216</th>\n",
       "      <td>1877</td>\n",
       "      <td>맛있어보여요</td>\n",
       "      <td>1</td>\n",
       "    </tr>\n",
       "    <tr>\n",
       "      <th>217</th>\n",
       "      <td>1887</td>\n",
       "      <td>힘들게찾으셧습니다</td>\n",
       "      <td>1</td>\n",
       "    </tr>\n",
       "    <tr>\n",
       "      <th>218</th>\n",
       "      <td>1891</td>\n",
       "      <td>아구그렇게매운거오래사시겠어요</td>\n",
       "      <td>1</td>\n",
       "    </tr>\n",
       "    <tr>\n",
       "      <th>219</th>\n",
       "      <td>1895</td>\n",
       "      <td>가끔이분영상보면서느끼는건데이분은매운감각이없으신가</td>\n",
       "      <td>0</td>\n",
       "    </tr>\n",
       "    <tr>\n",
       "      <th>220</th>\n",
       "      <td>1933</td>\n",
       "      <td>한국인없나</td>\n",
       "      <td>0</td>\n",
       "    </tr>\n",
       "  </tbody>\n",
       "</table>\n",
       "<p>221 rows × 3 columns</p>\n",
       "</div>"
      ],
      "text/plain": [
       "     Unnamed: 0                                           Comments  label\n",
       "0             0  채식주의자아니여도저처럼우유알러지나계란알러지있는분들많은데알러지있는분들도먹을수있어요보통...      1\n",
       "1             2                      열라면 진라면 채황라면진열하면진짜신호등이겠네요ㅋㅋㅋㅋ      1\n",
       "2             3                             비건라면이네  진짜채식주의자들한테는좋을듯      1\n",
       "3             8  굉장히깔끔하고안짜고채소가어마하게들어가있습디다 저는계속먹을듯해요 비건은아니지만채수의감...      0\n",
       "4            10                                           자괴감덜드는라면      1\n",
       "..          ...                                                ...    ...\n",
       "216        1877                                             맛있어보여요      1\n",
       "217        1887                                          힘들게찾으셧습니다      1\n",
       "218        1891                                    아구그렇게매운거오래사시겠어요      1\n",
       "219        1895                         가끔이분영상보면서느끼는건데이분은매운감각이없으신가      0\n",
       "220        1933                                              한국인없나      0\n",
       "\n",
       "[221 rows x 3 columns]"
      ]
     },
     "execution_count": 311,
     "metadata": {},
     "output_type": "execute_result"
    }
   ],
   "source": [
    "dataframe"
   ]
  },
  {
   "cell_type": "code",
   "execution_count": 312,
   "metadata": {},
   "outputs": [],
   "source": [
    "dataframe.to_csv('채황_label.csv')"
   ]
  },
  {
   "cell_type": "code",
   "execution_count": null,
   "metadata": {},
   "outputs": [],
   "source": []
  },
  {
   "cell_type": "code",
   "execution_count": null,
   "metadata": {},
   "outputs": [],
   "source": []
  }
 ],
 "metadata": {
  "colab": {
   "name": "OKT라벨링.ipynb",
   "provenance": []
  },
  "kernelspec": {
   "display_name": "Python 3",
   "language": "python",
   "name": "python3"
  },
  "language_info": {
   "codemirror_mode": {
    "name": "ipython",
    "version": 3
   },
   "file_extension": ".py",
   "mimetype": "text/x-python",
   "name": "python",
   "nbconvert_exporter": "python",
   "pygments_lexer": "ipython3",
   "version": "3.7.9"
  }
 },
 "nbformat": 4,
 "nbformat_minor": 1
}
