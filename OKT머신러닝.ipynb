{
 "cells": [
  {
   "cell_type": "markdown",
   "metadata": {
    "id": "UrRMyWdLM8rz"
   },
   "source": [
    "## 0. 참고 URL\n",
    "- 구글에 Okt 긍부정 머신러닝 해서 나오는 결과물 중\n",
    "- 6) 네이버 영화 리뷰 감성 분류하기(Naver Movie Review ... 복붙했습니다\n",
    "'https://wikidocs.net/44249'"
   ]
  },
  {
   "cell_type": "markdown",
   "metadata": {
    "id": "qCNPKPuBM8r1"
   },
   "source": [
    "## 1.패키지 및 데이터 불러오기"
   ]
  },
  {
   "cell_type": "code",
   "execution_count": null,
   "metadata": {
    "id": "PgpCDZe1M8r2",
    "outputId": "15fe6cf7-e5fd-41aa-c033-6cd7c6bb5f53"
   },
   "outputs": [
    {
     "name": "stdout",
     "output_type": "stream",
     "text": [
      "Requirement already satisfied: tensorflow in c:\\anaconda3\\envs\\py37\\lib\\site-packages (2.3.1)\n",
      "Requirement already satisfied: wrapt>=1.11.1 in c:\\anaconda3\\envs\\py37\\lib\\site-packages (from tensorflow) (1.11.2)\n",
      "Requirement already satisfied: h5py<2.11.0,>=2.10.0 in c:\\anaconda3\\envs\\py37\\lib\\site-packages (from tensorflow) (2.10.0)\n",
      "Requirement already satisfied: opt-einsum>=2.3.2 in c:\\anaconda3\\envs\\py37\\lib\\site-packages (from tensorflow) (3.3.0)\n",
      "Requirement already satisfied: tensorboard<3,>=2.3.0 in c:\\anaconda3\\envs\\py37\\lib\\site-packages (from tensorflow) (2.3.0)\n",
      "Requirement already satisfied: grpcio>=1.8.6 in c:\\anaconda3\\envs\\py37\\lib\\site-packages (from tensorflow) (1.32.0)\n",
      "Requirement already satisfied: google-pasta>=0.1.8 in c:\\anaconda3\\envs\\py37\\lib\\site-packages (from tensorflow) (0.2.0)\n",
      "Requirement already satisfied: numpy<1.19.0,>=1.16.0 in c:\\anaconda3\\envs\\py37\\lib\\site-packages (from tensorflow) (1.17.0)\n",
      "Requirement already satisfied: six>=1.12.0 in c:\\anaconda3\\envs\\py37\\lib\\site-packages (from tensorflow) (1.15.0)\n",
      "Requirement already satisfied: tensorflow-estimator<2.4.0,>=2.3.0 in c:\\anaconda3\\envs\\py37\\lib\\site-packages (from tensorflow) (2.3.0)\n",
      "Requirement already satisfied: protobuf>=3.9.2 in c:\\anaconda3\\envs\\py37\\lib\\site-packages (from tensorflow) (3.13.0)\n",
      "Requirement already satisfied: wheel>=0.26 in c:\\anaconda3\\envs\\py37\\lib\\site-packages (from tensorflow) (0.34.2)\n",
      "Requirement already satisfied: keras-preprocessing<1.2,>=1.1.1 in c:\\anaconda3\\envs\\py37\\lib\\site-packages (from tensorflow) (1.1.2)\n",
      "Requirement already satisfied: astunparse==1.6.3 in c:\\anaconda3\\envs\\py37\\lib\\site-packages (from tensorflow) (1.6.3)\n",
      "Requirement already satisfied: gast==0.3.3 in c:\\anaconda3\\envs\\py37\\lib\\site-packages (from tensorflow) (0.3.3)\n",
      "Requirement already satisfied: termcolor>=1.1.0 in c:\\anaconda3\\envs\\py37\\lib\\site-packages (from tensorflow) (1.1.0)\n",
      "Requirement already satisfied: absl-py>=0.7.0 in c:\\anaconda3\\envs\\py37\\lib\\site-packages (from tensorflow) (0.10.0)\n",
      "Requirement already satisfied: tensorboard-plugin-wit>=1.6.0 in c:\\anaconda3\\envs\\py37\\lib\\site-packages (from tensorboard<3,>=2.3.0->tensorflow) (1.7.0)\n",
      "Requirement already satisfied: google-auth-oauthlib<0.5,>=0.4.1 in c:\\anaconda3\\envs\\py37\\lib\\site-packages (from tensorboard<3,>=2.3.0->tensorflow) (0.4.1)\n",
      "Requirement already satisfied: markdown>=2.6.8 in c:\\anaconda3\\envs\\py37\\lib\\site-packages (from tensorboard<3,>=2.3.0->tensorflow) (3.3)\n",
      "Requirement already satisfied: setuptools>=41.0.0 in c:\\anaconda3\\envs\\py37\\lib\\site-packages (from tensorboard<3,>=2.3.0->tensorflow) (49.2.0.post20200714)\n",
      "Requirement already satisfied: requests<3,>=2.21.0 in c:\\anaconda3\\envs\\py37\\lib\\site-packages (from tensorboard<3,>=2.3.0->tensorflow) (2.24.0)\n",
      "Requirement already satisfied: werkzeug>=0.11.15 in c:\\anaconda3\\envs\\py37\\lib\\site-packages (from tensorboard<3,>=2.3.0->tensorflow) (1.0.1)\n",
      "Requirement already satisfied: google-auth<2,>=1.6.3 in c:\\anaconda3\\envs\\py37\\lib\\site-packages (from tensorboard<3,>=2.3.0->tensorflow) (1.22.1)\n",
      "Requirement already satisfied: requests-oauthlib>=0.7.0 in c:\\anaconda3\\envs\\py37\\lib\\site-packages (from google-auth-oauthlib<0.5,>=0.4.1->tensorboard<3,>=2.3.0->tensorflow) (1.3.0)\n",
      "Requirement already satisfied: importlib-metadata; python_version < \"3.8\" in c:\\anaconda3\\envs\\py37\\lib\\site-packages (from markdown>=2.6.8->tensorboard<3,>=2.3.0->tensorflow) (1.7.0)\n",
      "Requirement already satisfied: idna<3,>=2.5 in c:\\anaconda3\\envs\\py37\\lib\\site-packages (from requests<3,>=2.21.0->tensorboard<3,>=2.3.0->tensorflow) (2.10)\n",
      "Requirement already satisfied: chardet<4,>=3.0.2 in c:\\anaconda3\\envs\\py37\\lib\\site-packages (from requests<3,>=2.21.0->tensorboard<3,>=2.3.0->tensorflow) (3.0.4)\n",
      "Requirement already satisfied: urllib3!=1.25.0,!=1.25.1,<1.26,>=1.21.1 in c:\\anaconda3\\envs\\py37\\lib\\site-packages (from requests<3,>=2.21.0->tensorboard<3,>=2.3.0->tensorflow) (1.25.9)\n",
      "Requirement already satisfied: certifi>=2017.4.17 in c:\\anaconda3\\envs\\py37\\lib\\site-packages (from requests<3,>=2.21.0->tensorboard<3,>=2.3.0->tensorflow) (2020.6.20)\n",
      "Requirement already satisfied: rsa<5,>=3.1.4; python_version >= \"3.5\" in c:\\anaconda3\\envs\\py37\\lib\\site-packages (from google-auth<2,>=1.6.3->tensorboard<3,>=2.3.0->tensorflow) (4.6)\n",
      "Requirement already satisfied: cachetools<5.0,>=2.0.0 in c:\\anaconda3\\envs\\py37\\lib\\site-packages (from google-auth<2,>=1.6.3->tensorboard<3,>=2.3.0->tensorflow) (4.1.1)\n",
      "Requirement already satisfied: pyasn1-modules>=0.2.1 in c:\\anaconda3\\envs\\py37\\lib\\site-packages (from google-auth<2,>=1.6.3->tensorboard<3,>=2.3.0->tensorflow) (0.2.8)\n",
      "Requirement already satisfied: oauthlib>=3.0.0 in c:\\anaconda3\\envs\\py37\\lib\\site-packages (from requests-oauthlib>=0.7.0->google-auth-oauthlib<0.5,>=0.4.1->tensorboard<3,>=2.3.0->tensorflow) (3.1.0)\n",
      "Requirement already satisfied: zipp>=0.5 in c:\\anaconda3\\envs\\py37\\lib\\site-packages (from importlib-metadata; python_version < \"3.8\"->markdown>=2.6.8->tensorboard<3,>=2.3.0->tensorflow) (3.1.0)\n",
      "Requirement already satisfied: pyasn1>=0.1.3 in c:\\anaconda3\\envs\\py37\\lib\\site-packages (from rsa<5,>=3.1.4; python_version >= \"3.5\"->google-auth<2,>=1.6.3->tensorboard<3,>=2.3.0->tensorflow) (0.4.8)\n"
     ]
    }
   ],
   "source": [
    "!pip install tensorflow"
   ]
  },
  {
   "cell_type": "code",
   "execution_count": null,
   "metadata": {
    "id": "87qIW4pRM8r-"
   },
   "outputs": [],
   "source": [
    "import pandas as pd\n",
    "import numpy as np\n",
    "%matplotlib inline\n",
    "import matplotlib.pyplot as plt\n",
    "import re\n",
    "import urllib.request\n",
    "from konlpy.tag import Okt\n",
    "from tensorflow.keras.preprocessing.text import Tokenizer\n",
    "from tensorflow.keras.preprocessing.sequence import pad_sequences\n",
    "okt = Okt()"
   ]
  },
  {
   "cell_type": "code",
   "execution_count": null,
   "metadata": {
    "id": "GT0Cinf-M8sB"
   },
   "outputs": [],
   "source": [
    "test_data = pd.read_csv(\"truffle_zzappa_label.csv\")\n",
    "data2 = pd.read_csv(\"백종원 있는 미역초무침 댓글 2제외.csv\")\n",
    "data3 = pd.read_csv(\"mara_1-7445.csv\")"
   ]
  },
  {
   "cell_type": "code",
   "execution_count": null,
   "metadata": {
    "id": "r7uvumEVM8sE"
   },
   "outputs": [],
   "source": [
    "data3=data3[data3['label']!=2]"
   ]
  },
  {
   "cell_type": "code",
   "execution_count": null,
   "metadata": {
    "id": "5PTlbhg0M8sH"
   },
   "outputs": [],
   "source": [
    "train_data = pd.concat([data2, data3], axis = 0)"
   ]
  },
  {
   "cell_type": "code",
   "execution_count": null,
   "metadata": {
    "id": "xiEkB32VM8sK",
    "outputId": "98870091-0560-4fa9-dfb6-1093d4224a19"
   },
   "outputs": [
    {
     "data": {
      "text/html": [
       "<div>\n",
       "<style scoped>\n",
       "    .dataframe tbody tr th:only-of-type {\n",
       "        vertical-align: middle;\n",
       "    }\n",
       "\n",
       "    .dataframe tbody tr th {\n",
       "        vertical-align: top;\n",
       "    }\n",
       "\n",
       "    .dataframe thead th {\n",
       "        text-align: right;\n",
       "    }\n",
       "</style>\n",
       "<table border=\"1\" class=\"dataframe\">\n",
       "  <thead>\n",
       "    <tr style=\"text-align: right;\">\n",
       "      <th></th>\n",
       "      <th>Unnamed: 0</th>\n",
       "      <th>Comments</th>\n",
       "      <th>tokens</th>\n",
       "      <th>label</th>\n",
       "    </tr>\n",
       "  </thead>\n",
       "  <tbody>\n",
       "    <tr>\n",
       "      <th>0</th>\n",
       "      <td>0</td>\n",
       "      <td>솔직히 먹어봤는데 트러플을 접해보지 못한 일반인인 나는 차이를 느끼지 못했다</td>\n",
       "      <td>솔직히 먹어 봤는데 트러플 해보지 일반인 차이 느끼지 했다</td>\n",
       "      <td>0</td>\n",
       "    </tr>\n",
       "    <tr>\n",
       "      <th>1</th>\n",
       "      <td>2</td>\n",
       "      <td>그냥 짜파게티에 달걀후라이가 젤 맛있음</td>\n",
       "      <td>그냥 짜파게티 달걀후라이 맛있음</td>\n",
       "      <td>0</td>\n",
       "    </tr>\n",
       "    <tr>\n",
       "      <th>2</th>\n",
       "      <td>5</td>\n",
       "      <td>저는 짜파게티 맛이 예전맛이 안나는거 같아서 항상 아쉬웠었는데 트러플 소스 들어가고...</td>\n",
       "      <td>짜파게티 안나는거 같아서 항상 아쉬웠었는데 트러플 소스 들어가고 나서 옜날 어릴 먹...</td>\n",
       "      <td>1</td>\n",
       "    </tr>\n",
       "    <tr>\n",
       "      <th>3</th>\n",
       "      <td>7</td>\n",
       "      <td>오   컵라면 뚜껑에 젓가락 끼워놓을 수 있는 곳이 있는줄 몰랐네요ㅋㅋㅋ 완전 꿀팁...</td>\n",
       "      <td>컵라면 뚜껑 젓가락 끼워놓을 있는 있는줄 몰랐네요 완전 꿀팁 트러플 오일 제조 송로...</td>\n",
       "      <td>0</td>\n",
       "    </tr>\n",
       "    <tr>\n",
       "      <th>4</th>\n",
       "      <td>10</td>\n",
       "      <td>솔직한 리뷰 잘 봤구요  그냥 트러플 오일 하나 사서 두어 방울 뿌려먹는게 낫겠지 ...</td>\n",
       "      <td>솔직한 리뷰 봤구요 그냥 트러플 오일 하나 사서 두어 방울 뿌려 먹는게 낫겠지 싶네...</td>\n",
       "      <td>0</td>\n",
       "    </tr>\n",
       "  </tbody>\n",
       "</table>\n",
       "</div>"
      ],
      "text/plain": [
       "   Unnamed: 0                                           Comments  \\\n",
       "0           0         솔직히 먹어봤는데 트러플을 접해보지 못한 일반인인 나는 차이를 느끼지 못했다   \n",
       "1           2                              그냥 짜파게티에 달걀후라이가 젤 맛있음   \n",
       "2           5  저는 짜파게티 맛이 예전맛이 안나는거 같아서 항상 아쉬웠었는데 트러플 소스 들어가고...   \n",
       "3           7  오   컵라면 뚜껑에 젓가락 끼워놓을 수 있는 곳이 있는줄 몰랐네요ㅋㅋㅋ 완전 꿀팁...   \n",
       "4          10  솔직한 리뷰 잘 봤구요  그냥 트러플 오일 하나 사서 두어 방울 뿌려먹는게 낫겠지 ...   \n",
       "\n",
       "                                              tokens  label  \n",
       "0                   솔직히 먹어 봤는데 트러플 해보지 일반인 차이 느끼지 했다      0  \n",
       "1                                  그냥 짜파게티 달걀후라이 맛있음      0  \n",
       "2  짜파게티 안나는거 같아서 항상 아쉬웠었는데 트러플 소스 들어가고 나서 옜날 어릴 먹...      1  \n",
       "3  컵라면 뚜껑 젓가락 끼워놓을 있는 있는줄 몰랐네요 완전 꿀팁 트러플 오일 제조 송로...      0  \n",
       "4  솔직한 리뷰 봤구요 그냥 트러플 오일 하나 사서 두어 방울 뿌려 먹는게 낫겠지 싶네...      0  "
      ]
     },
     "execution_count": 37,
     "metadata": {
      "tags": []
     },
     "output_type": "execute_result"
    }
   ],
   "source": [
    "test_data.head()"
   ]
  },
  {
   "cell_type": "code",
   "execution_count": null,
   "metadata": {
    "id": "tR5OCd6kM8sM"
   },
   "outputs": [],
   "source": [
    "del test_data['Unnamed: 0']\n",
    "del test_data['tokens']"
   ]
  },
  {
   "cell_type": "code",
   "execution_count": null,
   "metadata": {
    "id": "E97Iv8ewM8sQ",
    "outputId": "3dfab35a-dbc6-4e57-9437-de71ceafda41"
   },
   "outputs": [
    {
     "data": {
      "text/html": [
       "<div>\n",
       "<style scoped>\n",
       "    .dataframe tbody tr th:only-of-type {\n",
       "        vertical-align: middle;\n",
       "    }\n",
       "\n",
       "    .dataframe tbody tr th {\n",
       "        vertical-align: top;\n",
       "    }\n",
       "\n",
       "    .dataframe thead th {\n",
       "        text-align: right;\n",
       "    }\n",
       "</style>\n",
       "<table border=\"1\" class=\"dataframe\">\n",
       "  <thead>\n",
       "    <tr style=\"text-align: right;\">\n",
       "      <th></th>\n",
       "      <th>Comments</th>\n",
       "      <th>label</th>\n",
       "    </tr>\n",
       "  </thead>\n",
       "  <tbody>\n",
       "    <tr>\n",
       "      <th>0</th>\n",
       "      <td>솔직히 먹어봤는데 트러플을 접해보지 못한 일반인인 나는 차이를 느끼지 못했다</td>\n",
       "      <td>0</td>\n",
       "    </tr>\n",
       "    <tr>\n",
       "      <th>1</th>\n",
       "      <td>그냥 짜파게티에 달걀후라이가 젤 맛있음</td>\n",
       "      <td>0</td>\n",
       "    </tr>\n",
       "    <tr>\n",
       "      <th>2</th>\n",
       "      <td>저는 짜파게티 맛이 예전맛이 안나는거 같아서 항상 아쉬웠었는데 트러플 소스 들어가고...</td>\n",
       "      <td>1</td>\n",
       "    </tr>\n",
       "    <tr>\n",
       "      <th>3</th>\n",
       "      <td>오   컵라면 뚜껑에 젓가락 끼워놓을 수 있는 곳이 있는줄 몰랐네요ㅋㅋㅋ 완전 꿀팁...</td>\n",
       "      <td>0</td>\n",
       "    </tr>\n",
       "    <tr>\n",
       "      <th>4</th>\n",
       "      <td>솔직한 리뷰 잘 봤구요  그냥 트러플 오일 하나 사서 두어 방울 뿌려먹는게 낫겠지 ...</td>\n",
       "      <td>0</td>\n",
       "    </tr>\n",
       "  </tbody>\n",
       "</table>\n",
       "</div>"
      ],
      "text/plain": [
       "                                            Comments  label\n",
       "0         솔직히 먹어봤는데 트러플을 접해보지 못한 일반인인 나는 차이를 느끼지 못했다      0\n",
       "1                              그냥 짜파게티에 달걀후라이가 젤 맛있음      0\n",
       "2  저는 짜파게티 맛이 예전맛이 안나는거 같아서 항상 아쉬웠었는데 트러플 소스 들어가고...      1\n",
       "3  오   컵라면 뚜껑에 젓가락 끼워놓을 수 있는 곳이 있는줄 몰랐네요ㅋㅋㅋ 완전 꿀팁...      0\n",
       "4  솔직한 리뷰 잘 봤구요  그냥 트러플 오일 하나 사서 두어 방울 뿌려먹는게 낫겠지 ...      0"
      ]
     },
     "execution_count": 39,
     "metadata": {
      "tags": []
     },
     "output_type": "execute_result"
    }
   ],
   "source": [
    "test_data.head()"
   ]
  },
  {
   "cell_type": "code",
   "execution_count": null,
   "metadata": {
    "id": "OFoq780AM8sS",
    "outputId": "54b13526-bcc6-4049-c551-46c9e83e6158"
   },
   "outputs": [
    {
     "data": {
      "text/html": [
       "<div>\n",
       "<style scoped>\n",
       "    .dataframe tbody tr th:only-of-type {\n",
       "        vertical-align: middle;\n",
       "    }\n",
       "\n",
       "    .dataframe tbody tr th {\n",
       "        vertical-align: top;\n",
       "    }\n",
       "\n",
       "    .dataframe thead th {\n",
       "        text-align: right;\n",
       "    }\n",
       "</style>\n",
       "<table border=\"1\" class=\"dataframe\">\n",
       "  <thead>\n",
       "    <tr style=\"text-align: right;\">\n",
       "      <th></th>\n",
       "      <th>Unnamed: 0</th>\n",
       "      <th>Unnamed: 0.1</th>\n",
       "      <th>Comments</th>\n",
       "      <th>tokens</th>\n",
       "      <th>label</th>\n",
       "    </tr>\n",
       "  </thead>\n",
       "  <tbody>\n",
       "    <tr>\n",
       "      <th>0</th>\n",
       "      <td>640</td>\n",
       "      <td>15.0</td>\n",
       "      <td>라면의품격을 한차원 올렸네요 잘먹고갑니다</td>\n",
       "      <td>['라면', '품격', '을', '차원', '올리다', '먹다', '가다']</td>\n",
       "      <td>1.0</td>\n",
       "    </tr>\n",
       "    <tr>\n",
       "      <th>1</th>\n",
       "      <td>643</td>\n",
       "      <td>18.0</td>\n",
       "      <td>미역초비빔면 괜찮아보이네요 ㅎㅎ 원래 오이를 채썰어서 비빔면이랑 같이 비벼서 많이 ...</td>\n",
       "      <td>['미역', '초', '비빔면', '괜찮다', '보이다', 'ㅎㅎ', '원래', '...</td>\n",
       "      <td>1.0</td>\n",
       "    </tr>\n",
       "    <tr>\n",
       "      <th>2</th>\n",
       "      <td>644</td>\n",
       "      <td>19.0</td>\n",
       "      <td>오이오이오이 오늘도 단순하지만 영양가는 꼭 들어가는 한끼이네요 ㅎㅎㅎㅎㅎ 저 까만것...</td>\n",
       "      <td>['오이오이오이', '오늘', '단순하다', '영양가', '꼭', '들어가다', '...</td>\n",
       "      <td>1.0</td>\n",
       "    </tr>\n",
       "    <tr>\n",
       "      <th>3</th>\n",
       "      <td>645</td>\n",
       "      <td>20.0</td>\n",
       "      <td>미역초 비빔면 정말 맛있게 드시네요  저도 한입 먹고싶어요  풀시청하고 갑니다</td>\n",
       "      <td>['미역', '초', '비빔면', '정말', '맛있다', '들다', '저', '입'...</td>\n",
       "      <td>1.0</td>\n",
       "    </tr>\n",
       "    <tr>\n",
       "      <th>4</th>\n",
       "      <td>647</td>\n",
       "      <td>22.0</td>\n",
       "      <td>노다이어트ㅋㅋㅋ 근데 진짜로 건강음식 같네요  먹고싶</td>\n",
       "      <td>['노', '다이어트', 'ㅋㅋㅋ', '근데', '진짜', '로', '건강', '음...</td>\n",
       "      <td>1.0</td>\n",
       "    </tr>\n",
       "  </tbody>\n",
       "</table>\n",
       "</div>"
      ],
      "text/plain": [
       "   Unnamed: 0  Unnamed: 0.1  \\\n",
       "0         640          15.0   \n",
       "1         643          18.0   \n",
       "2         644          19.0   \n",
       "3         645          20.0   \n",
       "4         647          22.0   \n",
       "\n",
       "                                            Comments  \\\n",
       "0                             라면의품격을 한차원 올렸네요 잘먹고갑니다   \n",
       "1  미역초비빔면 괜찮아보이네요 ㅎㅎ 원래 오이를 채썰어서 비빔면이랑 같이 비벼서 많이 ...   \n",
       "2  오이오이오이 오늘도 단순하지만 영양가는 꼭 들어가는 한끼이네요 ㅎㅎㅎㅎㅎ 저 까만것...   \n",
       "3        미역초 비빔면 정말 맛있게 드시네요  저도 한입 먹고싶어요  풀시청하고 갑니다   \n",
       "4                      노다이어트ㅋㅋㅋ 근데 진짜로 건강음식 같네요  먹고싶   \n",
       "\n",
       "                                              tokens  label  \n",
       "0         ['라면', '품격', '을', '차원', '올리다', '먹다', '가다']    1.0  \n",
       "1  ['미역', '초', '비빔면', '괜찮다', '보이다', 'ㅎㅎ', '원래', '...    1.0  \n",
       "2  ['오이오이오이', '오늘', '단순하다', '영양가', '꼭', '들어가다', '...    1.0  \n",
       "3  ['미역', '초', '비빔면', '정말', '맛있다', '들다', '저', '입'...    1.0  \n",
       "4  ['노', '다이어트', 'ㅋㅋㅋ', '근데', '진짜', '로', '건강', '음...    1.0  "
      ]
     },
     "execution_count": 40,
     "metadata": {
      "tags": []
     },
     "output_type": "execute_result"
    }
   ],
   "source": [
    "train_data.head()"
   ]
  },
  {
   "cell_type": "code",
   "execution_count": null,
   "metadata": {
    "id": "6orKLCTFM8sV"
   },
   "outputs": [],
   "source": [
    "del train_data['Unnamed: 0']\n",
    "del train_data['Unnamed: 0.1']\n",
    "del train_data['tokens']"
   ]
  },
  {
   "cell_type": "code",
   "execution_count": null,
   "metadata": {
    "id": "xxfOt9RvM8sX",
    "outputId": "baa73188-a965-46ab-e9bb-98df363d28a4"
   },
   "outputs": [
    {
     "data": {
      "text/html": [
       "<div>\n",
       "<style scoped>\n",
       "    .dataframe tbody tr th:only-of-type {\n",
       "        vertical-align: middle;\n",
       "    }\n",
       "\n",
       "    .dataframe tbody tr th {\n",
       "        vertical-align: top;\n",
       "    }\n",
       "\n",
       "    .dataframe thead th {\n",
       "        text-align: right;\n",
       "    }\n",
       "</style>\n",
       "<table border=\"1\" class=\"dataframe\">\n",
       "  <thead>\n",
       "    <tr style=\"text-align: right;\">\n",
       "      <th></th>\n",
       "      <th>Comments</th>\n",
       "      <th>label</th>\n",
       "    </tr>\n",
       "  </thead>\n",
       "  <tbody>\n",
       "    <tr>\n",
       "      <th>0</th>\n",
       "      <td>라면의품격을 한차원 올렸네요 잘먹고갑니다</td>\n",
       "      <td>1.0</td>\n",
       "    </tr>\n",
       "    <tr>\n",
       "      <th>1</th>\n",
       "      <td>미역초비빔면 괜찮아보이네요 ㅎㅎ 원래 오이를 채썰어서 비빔면이랑 같이 비벼서 많이 ...</td>\n",
       "      <td>1.0</td>\n",
       "    </tr>\n",
       "    <tr>\n",
       "      <th>2</th>\n",
       "      <td>오이오이오이 오늘도 단순하지만 영양가는 꼭 들어가는 한끼이네요 ㅎㅎㅎㅎㅎ 저 까만것...</td>\n",
       "      <td>1.0</td>\n",
       "    </tr>\n",
       "    <tr>\n",
       "      <th>3</th>\n",
       "      <td>미역초 비빔면 정말 맛있게 드시네요  저도 한입 먹고싶어요  풀시청하고 갑니다</td>\n",
       "      <td>1.0</td>\n",
       "    </tr>\n",
       "    <tr>\n",
       "      <th>4</th>\n",
       "      <td>노다이어트ㅋㅋㅋ 근데 진짜로 건강음식 같네요  먹고싶</td>\n",
       "      <td>1.0</td>\n",
       "    </tr>\n",
       "  </tbody>\n",
       "</table>\n",
       "</div>"
      ],
      "text/plain": [
       "                                            Comments  label\n",
       "0                             라면의품격을 한차원 올렸네요 잘먹고갑니다    1.0\n",
       "1  미역초비빔면 괜찮아보이네요 ㅎㅎ 원래 오이를 채썰어서 비빔면이랑 같이 비벼서 많이 ...    1.0\n",
       "2  오이오이오이 오늘도 단순하지만 영양가는 꼭 들어가는 한끼이네요 ㅎㅎㅎㅎㅎ 저 까만것...    1.0\n",
       "3        미역초 비빔면 정말 맛있게 드시네요  저도 한입 먹고싶어요  풀시청하고 갑니다    1.0\n",
       "4                      노다이어트ㅋㅋㅋ 근데 진짜로 건강음식 같네요  먹고싶    1.0"
      ]
     },
     "execution_count": 42,
     "metadata": {
      "tags": []
     },
     "output_type": "execute_result"
    }
   ],
   "source": [
    "train_data.head()"
   ]
  },
  {
   "cell_type": "code",
   "execution_count": null,
   "metadata": {
    "id": "kxtIowNfM8sa",
    "outputId": "68a0541f-6679-43b0-f814-0a6d1cc3839d"
   },
   "outputs": [
    {
     "name": "stdout",
     "output_type": "stream",
     "text": [
      "학습용 리뷰 개수 : 1128\n",
      "시험용 리뷰 개수 : 382\n"
     ]
    }
   ],
   "source": [
    "print('학습용 리뷰 개수 :',len(train_data))\n",
    "print('시험용 리뷰 개수 :',len(test_data))"
   ]
  },
  {
   "cell_type": "markdown",
   "metadata": {
    "id": "QkWl4UAeM8sh"
   },
   "source": [
    "## 2. 데이터 전처리"
   ]
  },
  {
   "cell_type": "markdown",
   "metadata": {
    "id": "8cnVN6f5M8sh"
   },
   "source": [
    "### 1) 중복데이터 제거"
   ]
  },
  {
   "cell_type": "code",
   "execution_count": null,
   "metadata": {
    "id": "EzvcPXaFM8sh",
    "outputId": "871a365d-58cf-415b-befc-d7e7eb34e9cd"
   },
   "outputs": [
    {
     "data": {
      "text/plain": [
       "(1116, 2)"
      ]
     },
     "execution_count": 44,
     "metadata": {
      "tags": []
     },
     "output_type": "execute_result"
    }
   ],
   "source": [
    "train_data['Comments'].nunique(), train_data['label'].nunique()"
   ]
  },
  {
   "cell_type": "code",
   "execution_count": null,
   "metadata": {
    "id": "Xva2BaPzM8sk"
   },
   "outputs": [],
   "source": [
    "train_data.drop_duplicates(subset=['Comments'], inplace=True)"
   ]
  },
  {
   "cell_type": "code",
   "execution_count": null,
   "metadata": {
    "id": "qKsYpPROM8sm",
    "outputId": "6260247b-cc55-450f-c81e-23da0b2a89ee"
   },
   "outputs": [
    {
     "name": "stdout",
     "output_type": "stream",
     "text": [
      "총 샘플의 수 : 1116\n"
     ]
    }
   ],
   "source": [
    "print('총 샘플의 수 :',len(train_data))"
   ]
  },
  {
   "cell_type": "code",
   "execution_count": null,
   "metadata": {
    "id": "Pw4scJFLM8sp",
    "outputId": "36ac8b6c-1f10-46bf-8cb0-88200636a667"
   },
   "outputs": [
    {
     "data": {
      "image/png": "[encoded data removed]",
      "text/plain": [
       "<Figure size 432x288 with 1 Axes>"
      ]
     },
     "metadata": {
      "needs_background": "light",
      "tags": []
     },
     "output_type": "display_data"
    }
   ],
   "source": [
    "#라벨링 분포 확인 왜땜시 1이 이렇게 많냐 ㅎㄷㄷ\n",
    "train_data['label'].value_counts().plot(kind = 'bar');"
   ]
  },
  {
   "cell_type": "markdown",
   "metadata": {
    "id": "FXxePpBAM8sr"
   },
   "source": [
    "### 2)널값 제거"
   ]
  },
  {
   "cell_type": "code",
   "execution_count": null,
   "metadata": {
    "id": "ArurFt1GM8ss",
    "outputId": "a9f18b6d-e6fe-4fdb-9bbd-bd2d9fb477ba"
   },
   "outputs": [
    {
     "name": "stdout",
     "output_type": "stream",
     "text": [
      "True\n"
     ]
    }
   ],
   "source": [
    "# 널값이 존재하는지 확인\n",
    "print(train_data.isnull().values.any())"
   ]
  },
  {
   "cell_type": "code",
   "execution_count": null,
   "metadata": {
    "id": "miPXFf1EM8su",
    "outputId": "9342500e-d7e7-4537-9732-066132bc4d57"
   },
   "outputs": [
    {
     "name": "stdout",
     "output_type": "stream",
     "text": [
      "Comments     0\n",
      "label       38\n",
      "dtype: int64\n"
     ]
    }
   ],
   "source": [
    "# 어떤칼럼에서 널값이 존재하는지 체크\n",
    "print(train_data.isnull().sum())"
   ]
  },
  {
   "cell_type": "code",
   "execution_count": null,
   "metadata": {
    "id": "xVP3UABqM8sx",
    "outputId": "2055130f-6212-4af9-98dc-fc9582692b48"
   },
   "outputs": [
    {
     "data": {
      "text/html": [
       "<div>\n",
       "<style scoped>\n",
       "    .dataframe tbody tr th:only-of-type {\n",
       "        vertical-align: middle;\n",
       "    }\n",
       "\n",
       "    .dataframe tbody tr th {\n",
       "        vertical-align: top;\n",
       "    }\n",
       "\n",
       "    .dataframe thead th {\n",
       "        text-align: right;\n",
       "    }\n",
       "</style>\n",
       "<table border=\"1\" class=\"dataframe\">\n",
       "  <thead>\n",
       "    <tr style=\"text-align: right;\">\n",
       "      <th></th>\n",
       "      <th>Comments</th>\n",
       "      <th>label</th>\n",
       "    </tr>\n",
       "  </thead>\n",
       "  <tbody>\n",
       "    <tr>\n",
       "      <th>297</th>\n",
       "      <td>내가 잘따르는 마니형 나도 저거 라면 보내주면 안??    ㅋㅋㅋㅋㅋㅋ</td>\n",
       "      <td>NaN</td>\n",
       "    </tr>\n",
       "    <tr>\n",
       "      <th>427</th>\n",
       "      <td>이거 개마?遠?개마?遠?1</td>\n",
       "      <td>NaN</td>\n",
       "    </tr>\n",
       "    <tr>\n",
       "      <th>671</th>\n",
       "      <td>저는 콜라먹는부분볼려고 시청해?Dㅋㅋㅋㅋㅋ음식먹는것보다 콜라마시장면만보?以빱빱빱빱?...</td>\n",
       "      <td>NaN</td>\n",
       "    </tr>\n",
       "    <tr>\n",
       "      <th>744</th>\n",
       "      <td>ㅏ매마뉴마나누?pㅋㅑㄴ매ㅑㄴ어ㅜㅇㅡ?冒칟첸틘疸?매마 뉴마 나누</td>\n",
       "      <td>NaN</td>\n",
       "    </tr>\n",
       "    <tr>\n",
       "      <th>780</th>\n",
       "      <td>진짜 미워할 수가 없?い빱빱빱?진짜 미워할 수가 없??2</td>\n",
       "      <td>NaN</td>\n",
       "    </tr>\n",
       "  </tbody>\n",
       "</table>\n",
       "</div>"
      ],
      "text/plain": [
       "                                              Comments  label\n",
       "297            내가 잘따르는 마니형 나도 저거 라면 보내주면 안??    ㅋㅋㅋㅋㅋㅋ    NaN\n",
       "427                                     이거 개마?遠?개마?遠?1    NaN\n",
       "671  저는 콜라먹는부분볼려고 시청해?Dㅋㅋㅋㅋㅋ음식먹는것보다 콜라마시장면만보?以빱빱빱빱?...    NaN\n",
       "744                 ㅏ매마뉴마나누?pㅋㅑㄴ매ㅑㄴ어ㅜㅇㅡ?冒칟첸틘疸?매마 뉴마 나누    NaN\n",
       "780                    진짜 미워할 수가 없?い빱빱빱?진짜 미워할 수가 없??2    NaN"
      ]
     },
     "execution_count": 50,
     "metadata": {
      "tags": []
     },
     "output_type": "execute_result"
    }
   ],
   "source": [
    "train_data.loc[train_data.label.isnull()].head(5)"
   ]
  },
  {
   "cell_type": "code",
   "execution_count": null,
   "metadata": {
    "id": "er247a_9M8sz",
    "outputId": "561a7edb-2db5-43c4-adea-3b4d977d4a91"
   },
   "outputs": [
    {
     "name": "stdout",
     "output_type": "stream",
     "text": [
      "False\n"
     ]
    }
   ],
   "source": [
    "#널값이 존재하는 행 제거 및 재확인\n",
    "train_data = train_data.dropna(how = 'any') # Null 값이 존재하는 행 제거\n",
    "print(train_data.isnull().values.any()) "
   ]
  },
  {
   "cell_type": "markdown",
   "metadata": {
    "id": "96m0QjX1M8s2"
   },
   "source": [
    "### 3)문자열 정제"
   ]
  },
  {
   "cell_type": "code",
   "execution_count": null,
   "metadata": {
    "id": "NiVG2kxfM8s2",
    "outputId": "81d37327-11f1-4ace-bf7e-e10b0e809ba8"
   },
   "outputs": [
    {
     "data": {
      "text/html": [
       "<div>\n",
       "<style scoped>\n",
       "    .dataframe tbody tr th:only-of-type {\n",
       "        vertical-align: middle;\n",
       "    }\n",
       "\n",
       "    .dataframe tbody tr th {\n",
       "        vertical-align: top;\n",
       "    }\n",
       "\n",
       "    .dataframe thead th {\n",
       "        text-align: right;\n",
       "    }\n",
       "</style>\n",
       "<table border=\"1\" class=\"dataframe\">\n",
       "  <thead>\n",
       "    <tr style=\"text-align: right;\">\n",
       "      <th></th>\n",
       "      <th>Comments</th>\n",
       "      <th>label</th>\n",
       "    </tr>\n",
       "  </thead>\n",
       "  <tbody>\n",
       "    <tr>\n",
       "      <th>0</th>\n",
       "      <td>라면의품격을 한차원 올렸네요 잘먹고갑니다</td>\n",
       "      <td>1.0</td>\n",
       "    </tr>\n",
       "    <tr>\n",
       "      <th>1</th>\n",
       "      <td>미역초비빔면 괜찮아보이네요 ㅎㅎ 원래 오이를 채썰어서 비빔면이랑 같이 비벼서 많이 ...</td>\n",
       "      <td>1.0</td>\n",
       "    </tr>\n",
       "    <tr>\n",
       "      <th>2</th>\n",
       "      <td>오이오이오이 오늘도 단순하지만 영양가는 꼭 들어가는 한끼이네요 ㅎㅎㅎㅎㅎ 저 까만것...</td>\n",
       "      <td>1.0</td>\n",
       "    </tr>\n",
       "    <tr>\n",
       "      <th>3</th>\n",
       "      <td>미역초 비빔면 정말 맛있게 드시네요  저도 한입 먹고싶어요  풀시청하고 갑니다</td>\n",
       "      <td>1.0</td>\n",
       "    </tr>\n",
       "    <tr>\n",
       "      <th>4</th>\n",
       "      <td>노다이어트ㅋㅋㅋ 근데 진짜로 건강음식 같네요  먹고싶</td>\n",
       "      <td>1.0</td>\n",
       "    </tr>\n",
       "  </tbody>\n",
       "</table>\n",
       "</div>"
      ],
      "text/plain": [
       "                                            Comments  label\n",
       "0                             라면의품격을 한차원 올렸네요 잘먹고갑니다    1.0\n",
       "1  미역초비빔면 괜찮아보이네요 ㅎㅎ 원래 오이를 채썰어서 비빔면이랑 같이 비벼서 많이 ...    1.0\n",
       "2  오이오이오이 오늘도 단순하지만 영양가는 꼭 들어가는 한끼이네요 ㅎㅎㅎㅎㅎ 저 까만것...    1.0\n",
       "3        미역초 비빔면 정말 맛있게 드시네요  저도 한입 먹고싶어요  풀시청하고 갑니다    1.0\n",
       "4                      노다이어트ㅋㅋㅋ 근데 진짜로 건강음식 같네요  먹고싶    1.0"
      ]
     },
     "execution_count": 52,
     "metadata": {
      "tags": []
     },
     "output_type": "execute_result"
    }
   ],
   "source": [
    "train_data['Comments'] = train_data['Comments'].str.replace(\"[^ㄱ-ㅎㅏ-ㅣ가-힣 ]\",\"\")\n",
    "train_data.head()"
   ]
  },
  {
   "cell_type": "code",
   "execution_count": null,
   "metadata": {
    "id": "rSL2FwVBM8s5",
    "outputId": "3514d8eb-0e57-4030-ed48-c0dd1b36a52f"
   },
   "outputs": [
    {
     "name": "stdout",
     "output_type": "stream",
     "text": [
      "Comments    0\n",
      "label       0\n",
      "dtype: int64\n"
     ]
    }
   ],
   "source": [
    "#정제과정에서 내용이 전체 삭제된 Comments가 있는지 확인\n",
    "train_data['Comments'].replace('', np.nan, inplace=True)\n",
    "print(train_data.isnull().sum())"
   ]
  },
  {
   "cell_type": "markdown",
   "metadata": {
    "id": "5S4Lw7HrM8s7"
   },
   "source": [
    "## 3. 토큰화\n",
    "- 훈련 데이터와 테스트 데이터의 토큰화 진행\n",
    "- 불용어는 테스트데이터에만 처리해주었음"
   ]
  },
  {
   "cell_type": "code",
   "execution_count": null,
   "metadata": {
    "id": "HemCcZ5XM8s7"
   },
   "outputs": [],
   "source": [
    "stopwords = ['께서','에서','이다','에게','으로','이랑','까지','부터','하다',\n",
    "             '구독','편집', '예쁘', '귀엽', '웃기', '해주세요','카와이', '귀엽', '졸귀', '킬포', \n",
    "             '개웃겨', '귀욤', '하이라이트', '현웃', '언니', '형', '매력', '언닌', '귀요', \n",
    "             '코로나', '재밌', '행님', '목소리','효과음', '선생님', '잘보고있어요', \n",
    "             '드셔', '드시', '재밋게',  '사기', '광고', '소리', '잘생겼', \n",
    "             '야하', '섹시', '얼굴', '기여', '기엽', '협찬', 'ppl', '배터', \n",
    "             '2019', '2020', 'asmr',  'ASMR', '너무예', '편집', '아이돌',  \n",
    "             '만명', '구독자', '리액션', '슈기', '지원', '복스럽', '이쁘', \n",
    "             '존버', '께서','에서','이다','에게','으로','이랑','까지','부터','하다','구독',\n",
    "             '예쁘', '귀엽', '웃기', '해주세요','카와이', '귀엽', '졸귀', '킬포', '개웃겨', \n",
    "             '귀욤', '하이라이트', '현웃', '언니', '형', '매력', '언닌', '귀요', '코로나', \n",
    "             '재밌', '행님', '소리','온니','귀여우시다','율송','사랑스럽다','귀여워요',\n",
    "             '이쁘세요','눈화장','덩이','섀도우','언닝','구독','여리','동수','귀엽네','드머',\n",
    "             '예뻐','에드','야하네','오빠','빵터지지','썸네일','섹시해','잘생김', '광고', \n",
    "             '단무지', '하세용', '표정', '그릇', '모습', '나름', '귀여워', '이뽀', '웃겨욬', \n",
    "             '소리', '이쁘세요', '귀여워요', '존경', '브금', '댓글', '배고파졌어용', '자세한', \n",
    "             '리뷰', '재미', '빠르다', '배고파요', '예뻐요', '컨셉', '드세요', '보겠어', \n",
    "             '다이어트', '면치기', '쌍수', '햇님', '창의력', '도끼', '텐션', '유튜브', \n",
    "             '상남자',  '자막', '귀염', '재밋', '개그맨', '질럿님', '일본', '귀여웡', '강동원', \n",
    "             '미래', '살', '째현이', '재현', '주라', '강아지', '잘생기셧어', '잘생', '세아님',\n",
    "             '잘생겼어요', '오랜만에', '파투님', '숙제', '읽었나요', '카메라', '오빠', '이쁘다',\n",
    "             '안전운전', '안녕하세요', '채널', '은희', '미미', '새벽', '알람', \n",
    "             '개그', '꿀잼', '엔딩', '인트로', '무리', '잠시', '틴트','벤쯔','밴쯔','밴쯔님','배다','쯔','님']"
   ]
  },
  {
   "cell_type": "code",
   "execution_count": null,
   "metadata": {
    "id": "I26_ZNxaM8s9"
   },
   "outputs": [],
   "source": [
    "X_train = []\n",
    "for sentence in train_data['Comments']:\n",
    "    temp_X = []\n",
    "    temp_X = okt.morphs(sentence, stem=True) # 토큰화\n",
    "    #temp_X = [word for word in temp_X if not word in stopwords] # 불용어 제거\n",
    "    X_train.append(temp_X)"
   ]
  },
  {
   "cell_type": "code",
   "execution_count": null,
   "metadata": {
    "id": "tUJWONBIM8tA"
   },
   "outputs": [],
   "source": [
    "X_test = []\n",
    "for sentence in test_data['Comments']:\n",
    "    temp_X = []\n",
    "    temp_X = okt.morphs(sentence, stem=True) # 토큰화\n",
    "    temp_X = [word for word in temp_X if not word in stopwords] # 불용어 제거\n",
    "    X_test.append(temp_X)"
   ]
  },
  {
   "cell_type": "markdown",
   "metadata": {
    "id": "Mhx5qzG-M8tC"
   },
   "source": [
    "## 4. 정수인코딩"
   ]
  },
  {
   "cell_type": "code",
   "execution_count": null,
   "metadata": {
    "id": "2SIeKz1NM8tD"
   },
   "outputs": [],
   "source": [
    "tokenizer = Tokenizer()\n",
    "tokenizer.fit_on_texts(X_train)"
   ]
  },
  {
   "cell_type": "code",
   "execution_count": null,
   "metadata": {
    "id": "QcRvhB27M8tE",
    "outputId": "69075024-a6d4-44ba-8958-f93724e649b7"
   },
   "outputs": [
    {
     "name": "stdout",
     "output_type": "stream",
     "text": [
      "{'먹다': 1, '마르다': 2, '이': 3, '보다': 4, '맛있다': 5, '하다': 6, '에': 7, '탕': 8, '맛': 9, '도': 10, '면': 11, '라면': 12, '저': 13, '은': 14, '미역': 15, '진짜': 16, '비빔면': 17, '같다': 18, '가': 19, '을': 20, '너무': 21, '는': 22, '들다': 23, '안': 24, '넣다': 25, '거': 26, '으로': 27, 'ㅎㅎ': 28, '한': 29, '요': 30, '좋다': 31, '있다': 32, '다': 33, 'ㅋㅋ': 34, '없다': 35, '가다': 36, '못': 37, '님': 38, '한번': 39, '맵다': 40, '이다': 41, '오늘': 42, '들': 43, '보이다': 44, '좋아하다': 45, '보고': 46, 'ㅠㅠ': 47, '오다': 48, '자다': 49, '에서': 50, '만': 51, '나오다': 52, '않다': 53, '되다': 54, '싶다': 55, '냉': 56, '초': 57, '것': 58, 'ㅋㅋㅋ': 59, '전': 60, '만들다': 61, '나다': 62, '나': 63, '잘': 64, '영상': 65, '사먹다': 66, '의': 67, '농심': 68, '더': 69, '를': 70, '많이': 71, '해': 72, '볶음': 73, '아니다': 74, '개': 75, '아': 76, '향': 77, '고': 78, '정말': 79, '오뚜기': 80, '좀': 81, '꼭': 82, '로': 83, 'ㅎ': 84, '국물': 85, '네': 86, '감사하다': 87, '궁금하다': 88, '느낌': 89, '그': 90, '적': 91, '해보다': 92, '팔도': 93, '해먹': 94, '그냥': 95, '음식': 96, '버리다': 97, '왜': 98, 'ㅠ': 99, '제': 100, '맛없다': 101, '냄새': 102, '때': 103, '인데': 104, '오': 105, '입': 106, '처음': 107, '컵라면': 108, '하고': 109, '그렇다': 110, '짜다': 111, '별로': 112, '두': 113, '입맛': 114, '밥': 115, '말다': 116, '근데': 117, '침': 118, '게': 119, '분': 120, '넘다': 121, '인': 122, '알다': 123, '걸': 124, 'ㅜㅜ': 125, '하': 126, '물': 127, '내': 128, '최고': 129, 'ㅎㅎㅎ': 130, '새': 131, '역시': 132, '생각': 133, '많다': 134, '이랑': 135, '끓이다': 136, '듯': 137, '겠다': 138, '마트': 139, '식초': 140, '마': 141, '이렇게': 142, '과': 143, '리뷰': 144, '엄청': 145, '소스': 146, '중국': 147, '광마니': 148, '난': 149, '스프': 150, '이건': 151, '삼양': 152, '또': 153, '까지': 154, '모르다': 155, '뚜기': 156, '제일': 157, '처럼': 158, '어': 159, '맞다': 160, '개인': 161, '괜찮다': 162, '끼': 163, '요즘': 164, '지금': 165, '엔': 166, '콤': 167, '그래도': 168, '진라면': 169, '이번': 170, 'ㅋ': 171, '이에요': 172, '도전': 173, 'ㅋㅋㅋㅋ': 174, '향신료': 175, '다이어트': 176, '이네': 177, '매콤': 178, '강하다': 179, '중': 180, '신라면': 181, '사람': 182, '요리': 183, 'ㄹㅇ': 184, '집': 185, '딱': 186, '임': 187, '제품': 188, '라': 189, '번': 190, '불호': 191, '들어가다': 192, '아직': 193, '땡기다': 194, '말': 195, '매다': 196, '보': 197, '이라': 198, '항상': 199, '정도': 200, '서': 201, '때문': 202, '그리고': 203, '저렇게': 204, '식': 205, '재료': 206, '한국': 207, '간단하다': 208, '잇다': 209, '시원하다': 210, '백': 211, '여름': 212, '여': 213, '탱': 214, '늘다': 215, '완전': 216, '느끼다': 217, '갓': 218, '라는': 219, '오이': 220, '초무': 221, '이렇다': 222, '해주다': 223, '치다': 224, '사다': 225, '바로': 226, '따르다': 227, '청양고추': 228, 'ㅠㅠㅠ': 229, '존맛': 230, '계속': 231, '고추': 232, '레시피': 233, '랑': 234, '내일': 235, '미역국': 236, '무슨': 237, '초장': 238, '얼얼하다': 239, '종류': 240, '점심': 241, '니까': 242, '이나': 243, '일': 244, '크다': 245, '야': 246, '꺼': 247, '짱': 248, '고물': 249, '지': 250, '인지': 251, '사서': 252, '편의점': 253, '비비다': 254, '용': 255, '히': 256, '얼': 257, '다른': 258, '개맛': 259, '수': 260, '선생님': 261, '냉면': 262, '하나': 263, 'ㅋㅋㅋㅋㅋ': 264, '대박': 265, '조금': 266, '쓰다': 267, '뭐': 268, '비슷하다': 269, '니': 270, '뭔가': 271, '영': 272, '대': 273, '마라샹궈': 274, '올리다': 275, '같이': 276, '인가': 277, '야채': 278, '배': 279, '에는': 280, '우와': 281, '진': 282, '다르다': 283, '콩나물': 284, '설탕': 285, '덥다': 286, '팔다': 287, '미치다': 288, '유': 289, '어제': 290, '밉다': 291, '습': 292, '차다': 293, '예요': 294, '싸다': 295, '다음': 296, '신제품': 297, '면도': 298, '사': 299, '어떻다': 300, '이상하다': 301, '사르다': 302, '그거': 303, '풀': 304, '배고프다': 305, '건': 306, '저녁': 307, '당장': 308, '구매': 309, '삶다': 310, '시': 311, '라고': 312, '양': 313, '비쥬': 314, '주말': 315, '살짝': 316, '방금': 317, '다시': 318, '니당다': 319, '음': 320, '자주': 321, '반': 322, '왠지': 323, '갑자기': 324, '별': 325, '인가요': 326, 'ㅜ': 327, '생각나다': 328, '끄다': 329, '자체': 330, '응원': 331, '함': 332, '싫어하다': 333, '돼다': 334, '약간': 335, '이제': 336, '탕면': 337, '남다': 338, '부터': 339, '행복하다': 340, '중독': 341, '추가': 342, '보이': 343, '어떤': 344, '비교': 345, '비빔': 346, '기대': 347, '해봤다': 348, '듬뿍': 349, '호': 350, '낼': 351, '남': 352, '대로': 353, '기본': 354, '육수': 355, '말아먹다': 356, '가요': 357, '새롭다': 358, '댓글': 359, '믿다': 360, '추천': 361, '뎅': 362, '젤': 363, '비싸다': 364, '내다': 365, '노맛': 366, '인터넷': 367, '비': 368, '막': 369, '먹방': 370, '살다': 371, '파다': 372, '아쉽다': 373, '대신': 374, '숟갈': 375, '존나': 376, '마니': 377, '뿅': 378, '싫다': 379, '나서다': 380, '화장품': 381, '원래': 382, '버': 383, '따로': 384, 'ㅎㅎㅎㅎㅎ': 385, '시청': 386, '헉': 387, '저번': 388, '느껴지다': 389, '쫄면': 390, '가장': 391, '비주': 392, '기분': 393, '가격': 394, '시중': 395, '사오다': 396, '찾다': 397, '드리다': 398, '세': 399, '글': 400, '사랑': 401, '날': 402, '백종원': 403, '친구': 404, '양파': 405, '첨': 406, '토핑': 407, '안성탕면': 408, '무난': 409, '무': 410, '요새': 411, '솔직하다': 412, '전혀': 413, '김밥': 414, '가끔': 415, '서다': 416, '호불호': 417, '소리': 418, '써다': 419, '에서는': 420, '눈': 421, '따다': 422, 'ㅡ': 423, '군침': 424, '들어오다': 425, '생기다': 426, '진심': 427, '에도': 428, '가루': 429, '시간': 430, '저희': 431, '쌀국수': 432, '원': 433, '제이제이': 434, '고수': 435, '혀': 436, '알': 437, '신기하다': 438, '주': 439, '오이랑': 440, '와우': 441, '보기': 442, '건강하다': 443, '와': 444, '이지': 445, '나름': 446, '거의': 447, '이라니': 448, '몇': 449, '가면': 450, '사보다': 451, '짐': 452, '간장': 453, '결론': 454, '불다': 455, '읍': 456, '개다': 457, '그게': 458, '겁나다': 459, '순': 460, '부족하다': 461, 'ㅠㅠㅠㅠ': 462, '그릇': 463, '마싯다': 464, '굿': 465, '첫': 466, '흑': 467, '참고': 468, '씹다': 469, '먹음': 470, '건가': 471, '번은': 472, '시리즈': 473, '출시': 474, '살': 475, '혹시': 476, '욤': 477, '그때': 478, '지다': 479, '보내다': 480, '만큼': 481, '생': 482, '워낙': 483, '갈다': 484, '빼다': 485, '으로만': 486, '맛임': 487, '꿀맛': 488, '엄마': 489, '특유': 490, '맵': 491, '국밥': 492, '라황샹': 493, '얼큰하다': 494, '그래서': 495, '찬': 496, '만두': 497, '쎄다': 498, '인기': 499, '썰다': 500, '감자': 501, '건강': 502, '직접': 503, '궁합': 504, '아삭아삭': 505, '때우다': 506, '함께': 507, '등': 508, '오랜': 509, '여러': 510, '곁들이다': 511, '점': 512, '굿굿': 513, '젓가락': 514, '급': 515, '감다': 516, '삭': 517, '고이': 518, '제대로': 519, '바': 520, '이름': 521, '고명': 522, '에겐': 523, '일지': 524, '가지': 525, '짬뽕': 526, '이기다': 527, '김치': 528, '얼마나': 529, '그렇게': 530, '손': 531, '존맛임': 532, '감': 533, '콤달콤': 534, '래': 535, '담': 536, 'ㄴ': 537, '뜨다': 538, '얼다': 539, '뚝딱': 540, '삼': 541, '줄': 542, '해도': 543, '국수': 544, '뻔': 545, '가능하다': 546, '쉬다': 547, '시키다': 548, '응용': 549, '버전': 550, '땐': 551, '여러분': 552, '아침': 553, '데': 554, '안되다': 555, '앞': 556, '컵': 557, '아주': 558, '밤': 559, '불닭': 560, '들이다': 561, '찌다': 562, '좀더': 563, '인거': 564, '년': 565, '갠': 566, '본': 567, '뚜': 568, '루': 569, '되어다': 570, '치킨': 571, 'ㅈㄴ': 572, '회사': 573, '이상': 574, '꼬마': 575, '는걸': 576, '만족하다': 577, '의외로': 578, '여서': 579, '에요': 580, '알바': 581, '타다': 582, '이르다': 583, '움': 584, '마지막': 585, '매번': 586, '자꾸': 587, '웃기다': 588, '구': 589, '츄릅': 590, '우리': 591, '두다': 592, '상': 593, '뒤': 594, '기대하다': 595, '살리다': 596, '기다': 597, '후': 598, '봉': 599, '나중': 600, '찾아보다': 601, '싱겁다': 602, '둘': 603, '씩': 604, '달걀': 605, '볼': 606, '다가': 607, '적당하다': 608, '자극': 609, '걍': 610, '똑같다': 611, '약': 612, '지나다': 613, '가보다': 614, '돌리다': 615, '광': 616, '불닭볶음면': 617, '상보': 618, '입문': 619, '남기다': 620, 'ㅋㅋㅋㅋㅋㅋ': 621, '적다': 622, '꽃': 623, '극': 624, '오히려': 625, '우리나라': 626, '중경': 627, '채': 628, '노': 629, '찍다': 630, '꾹': 631, '이구나': 632, '오이도': 633, '보지': 634, '인스턴트': 635, '식품': 636, '하루': 637, '은근': 638, '꿀꺽': 639, '식욕': 640, '먹기': 641, '성': 642, '필요': 643, '니깐': 644, '에서도': 645, '고기': 646, '벌써': 647, '푸다': 648, '삼양라면': 649, '비다': 650, '기절': 651, '한수': 652, '쌤': 653, '누구': 654, '터러': 655, 'ㅇ': 656, '돌다': 657, '뽕': 658, '자기': 659, '웃다': 660, '버섯': 661, '모습': 662, '참기름': 663, '얼른': 664, '실패하다': 665, '봉지': 666, '죽다': 667, '애': 668, 'ㅎㅎㅎㅎ': 669, '성공하다': 670, '나요': 671, '배다': 672, '아깝다': 673, '편': 674, '너구리': 675, 'ㅜㅠ': 676, 'ㅏ': 677, '옹': 678, '충분하다': 679, '단무지': 680, '곳': 681, '인정': 682, '에다가': 683, '없이': 684, '건더기': 685, '그런데': 686, '받다': 687, '런가': 688, '해장': 689, '스푼': 690, '깔끔하다': 691, '낫다': 692, '차': 693, '말고': 694, '트렌드': 695, '스럽다': 696, '밀가루': 697, '뒤지다': 698, '대세': 699, '언제': 700, '세트': 701, '상상': 702, '겨자': 703, '마약': 704, '간다': 705, '상큼': 706, '심하다': 707, '마무리': 708, '첨가': 709, '기회': 710, '몸': 711, '재밌다': 712, '즐감': 713, '이런': 714, '고민': 715, '봣': 716, '힘내다': 717, '이야': 718, '자취': 719, '고맙다': 720, '아우': 721, '엉': 722, '약하다': 723, '터': 724, '후르': 725, '꾸다': 726, '끝': 727, '털다': 728, '갑': 729, '제발': 730, '뿌리다': 731, '덕': 732, '잉': 733, '최악': 734, '날다': 735, '새벽': 736, '맺다': 737, '최애': 738, '신선하다': 739, '늘': 740, '야하다': 741, '면은': 742, '계란': 743, '존맛탱': 744, '끊다': 745, 'ㅠㅠㅠㅠㅠ': 746, '느끼하다': 747, '모든': 748, '이유': 749, '대리': 750, '헐다': 751, '으으': 752, '돈': 753, '표': 754, '미국': 755, '면발': 756, '시도': 757, '전자레인지': 758, '로는': 759, '스럽게': 760, '청경채': 761, '동네': 762, '막국수': 763, '든': 764, '괜히': 765, '어묵': 766, '표정': 767, '본적': 768, '공기': 769, '흥': 770, '조합': 771, '수향': 772, '얼마': 773, '두번째': 774, 'ㅠㅠㅠㅠㅠㅠ': 775, '진하다': 776, '되게': 777, '대만': 778, '도저히': 779, '혓바닥': 780, '안나': 781, '베트남': 782, '던데': 783, '훠궈': 784, '제제': 785, '기름': 786, '비위': 787, '라야': 788, '위장': 789, '향수': 790, '과자': 791, '그만': 792, '어우': 793, '충격': 794, '빠지다': 795, '영양가': 796, '줄다': 797, '그런': 798, '무지': 799, '화면': 800, '쫄깃': 801, '안녕하다': 802, '만나다': 803, '환상': 804, '묵다': 805, '대용': 806, '더욱': 807, '맛날': 808, '꺄': 809, '부르다': 810, '지만': 811, '귀찮다': 812, '끝나다': 813, '날씨': 814, '만해': 815, '무섭다': 816, '뿐이다': 817, '딱이다': 818, '으로도': 819, '이지만': 820, '좋아지다': 821, '신의': 822, '깻잎': 823, '쮸압': 824, '주부': 825, '무조건': 826, '훨씬': 827, '나가다': 828, '도움': 829, '조미료': 830, '너': 831, '모': 832, '사의': 833, '악': 834, '웬일': 835, '느므느므': 836, '슴': 837, '즉': 838, '속': 839, '치고': 840, '그대로': 841, '아무래도': 842, '난리': 843, '똥손': 844, '째': 845, '만들기': 846, '욥': 847, '점심때': 848, '덕분': 849, '얼음': 850, '밖에': 851, '샘': 852, '참외': 853, '등등': 854, '대충': 855, '보다도': 856, '꼬': 857, '실망': 858, '햇': 859, '필수': 860, '홍콩': 861, '반점': 862, '왠만하다': 863, '예전': 864, '반드시': 865, '태어나다': 866, '뜨겁다': 867, '로만': 868, '복': 869, '힘드다': 870, '유통': 871, '달': 872, 'ㄷㄷ': 873, '색다르다': 874, '풍부하다': 875, '재미': 876, '미리': 877, '풋': 878, '어디서': 879, '우': 880, '저렴하다': 881, '멀티': 882, '팩': 883, '시식': 884, '불가': 885, '위험하다': 886, '즐기다': 887, '다행하다': 888, '비리다': 889, '굳이': 890, '품': 891, '개발': 892, '자신': 893, '바쁘다': 894, '부끄럽다': 895, '넉넉하다': 896, '놈': 897, '찌': 898, '걸다': 899, '영화': 900, '반성': 901, '오래': 902, '꽤': 903, '신다': 904, '그것': 905, '에여': 906, '곳도': 907, '섞다': 908, '드네': 909, '실제': 910, '봉투': 911, '아버지': 912, '뜻': 913, '공감': 914, '테러': 915, '악플': 916, '한데': 917, '모으다': 918, '허위': 919, '예': 920, '검색': 921, '올해': 922, '자료': 923, '전체': 924, '사실': 925, '멘트': 926, '최애라': 927, '지겹다': 928, '답': 929, '겁니다': 930, '줄평': 931, '매': 932, '사라지다': 933, '네넴띤': 934, '보다는': 935, '존': 936, '요미': 937, '이라고': 938, '집다': 939, '달콤하다': 940, '이겠다': 941, '놀라다': 942, '매력': 943, '조화': 944, '엄지': 945, '디': 946, '값': 947, '이후': 948, '신기': 949, '간': 950, '일본': 951, '소비자': 952, '부다': 953, '돌아가다': 954, '그나저나': 955, '죠': 956, '으로는': 957, '걸리다': 958, '접시': 959, '계': 960, '밍밍': 961, '퀄리티': 962, '짜지다': 963, '달달': 964, '엄청나다': 965, '끌리다': 966, '무치다': 967, '묻다': 968, '초록색': 969, '야식': 970, '문제': 971, '륵': 972, '죽': 973, '조리': 974, '간편하다': 975, '열심히': 976, '싹싹': 977, '비우다': 978, '강': 979, '저런': 980, '땜': 981, '마다': 982, '씻다': 983, '탈탈': 984, '물이': 985, '저건': 986, '색': 987, '짜증나다': 988, '입장': 989, '에선': 990, '원조': 991, '담그다': 992, '튀기다': 993, '형': 994, '장': 995, '농도': 996, '군': 997, '인생': 998, '반응': 999, '캬': 1000, '으': 1001, '김쿵짝': 1002, '에게': 1003, '아무': 1004, '차라리': 1005, '먹어주다': 1006, '내내': 1007, '라도': 1008, '나쁘다': 1009, '로써': 1010, '달려가다': 1011, '멀다': 1012, '담다': 1013, '채소': 1014, '실망하다': 1015, '해외': 1016, '건면': 1017, '토': 1018, '위': 1019, '김': 1020, '댐': 1021, '매우': 1022, '리얼': 1023, '새우': 1024, '꿀': 1025, '아아': 1026, '긁다': 1027, '문': 1028, '심': 1029, '저만': 1030, '역대': 1031, '스낵면': 1032, '세상': 1033, '마시다': 1034, '팔': 1035, '엇': 1036, '숫': 1037, '가락': 1038, '고춧가루': 1039, '자세하다': 1040, '거지': 1041, '간이': 1042, '따라서': 1043, '특히': 1044, '차갑다': 1045, '우동': 1046, '짬': 1047, '증세': 1048, '당뇨': 1049, '인들': 1050, '러': 1051, '고급': 1052, '형님': 1053, '크으': 1054, '어차피': 1055, '돼지국밥': 1056, '캔': 1057, '후기': 1058, '재미있다': 1059, '놓다': 1060, '꼴깍': 1061, '여기': 1062, '켄': 1063, '파': 1064, '흠': 1065, '후루룩': 1066, '승승장구': 1067, '강추': 1068, '한국인': 1069, '유익하다': 1070, '마랑': 1071, '근접하다': 1072, '설명': 1073, '전자렌지': 1074, '대단하다': 1075, '때리다': 1076, '가게': 1077, '하니': 1078, '분명': 1079, '꼬르륵': 1080, '째다': 1081, '신맛': 1082, '즉석': 1083, '떡볶이': 1084, '착각': 1085, '지나치다': 1086, '이고': 1087, '식당': 1088, '혼자': 1089, '드': 1090, '고생': 1091, '쑥갓': 1092, '볼륨': 1093, '애기': 1094, '이라도': 1095, '뿅뿅': 1096, '뿌리': 1097, '기르다': 1098, '만족': 1099, '힐링': 1100, '도안': 1101, 'ㅜㅋㅋ': 1102, '집중': 1103, '즐겁다': 1104, '징': 1105, '마음': 1106, '확': 1107, '근처': 1108, 'ㅋㅋㅋㅋㅋㅋㅋㅋ': 1109, '특집': 1110, '배추': 1111, '더하다': 1112, '엿': 1113, '끝내주다': 1114, '말씀': 1115, '부': 1116, '가야': 1117, '며칠': 1118, '천': 1119, '가성': 1120, '놀래다': 1121, '방울': 1122, '질리다': 1123, '의견': 1124, '한개': 1125, '입술': 1126, '먼저': 1127, '드디어': 1128, '매장': 1129, '자연': 1130, '주다': 1131, '비추다': 1132, '주변': 1133, '본토': 1134, '훅': 1135, '씨유': 1136, '오렌지': 1137, '식사': 1138, '마라도': 1139, '보통': 1140, '산초': 1141, '개꿀맛': 1142, '화장실': 1143, '설사': 1144, '표현': 1145, '갈리다': 1146, 'ㅈㅅ': 1147, '피똥': 1148, '선풍': 1149, '드럽다': 1150, '담날': 1151, '저급하다': 1152, '샹궈': 1153, '상태': 1154, '햄': 1155, '역겹다': 1156, '취향': 1157, '토나오다': 1158, '아직도': 1159, '우육': 1160, '머거다': 1161, '곧': 1162, '떨어지다': 1163, '먹이': 1164, '도대체': 1165, '으로서': 1166, '붓다': 1167, '강렬하다': 1168, '아쉬움': 1169, '더럽다': 1170, '평소': 1171, '절대': 1172, '수준': 1173, '혈관': 1174, '쓰레기통': 1175, '양치질': 1176, '화이팅': 1177, '레': 1178, '번째': 1179, '이면': 1180, '품격': 1181, '차원': 1182, '절로': 1183, '오이오이오이': 1184, '단순하다': 1185, '까맣다': 1186, '편집': 1187, '하고도': 1188, '잠깐': 1189, '흐리다': 1190, '또렷': 1191, '요게': 1192, '엊그제': 1193, '초로': 1194, '바꾸다': 1195, '이예': 1196, '손색': 1197, '편안': 1198, '한밤': 1199, '다용': 1200, '아이': 1201, '공': 1202, '무척': 1203, '파가': 1204, '지고': 1205, 'ㅜㅋ': 1206, '아양': 1207, '온갖': 1208, '편안하다': 1209, '제도': 1210, '땜시': 1211, '아하': 1212, '요것': 1213, '에잉': 1214, '오훗길': 1215, '때로는': 1216, '넹': 1217, '라기': 1218, '침샘': 1219, '점심시간': 1220, '주얼': 1221, '화려하다': 1222, '맛있쥬': 1223, '풍부': 1224, '꼬들꼬들': 1225, '오동통': 1226, '쩐다': 1227, '떠오르다': 1228, '차이': 1229, '특징': 1230, '따뜻하다': 1231, '계절': 1232, '돌아오다': 1233, '막다': 1234, '상비약': 1235, '신': 1236, '박하': 1237, '진리': 1238, '김치라면': 1239, '이채': 1240, '상추': 1241, '맛날듯': 1242, '팁': 1243, '만으로': 1244, '달라지다': 1245, '꼬옥': 1246, 'ㅜㅠㅠㅠ': 1247, '넘어가다': 1248, '트릉타롱': 1249, '츄': 1250, '로동': 1251, '츠크둑': 1252, '슈르읍': 1253, '슈오로옵': 1254, '쮸쥿': 1255, '업': 1256, '후루루': 1257, '취해': 1258, '쩡': 1259, '업그레이드': 1260, '려고': 1261, '뽀인트': 1262, '조절': 1263, 'ㅠㅠㅠㅠㅠㅠㅠ': 1264, '갘': 1265, '저걸': 1266, '해줫는데': 1267, '방법': 1268, '언니': 1269, '옄': 1270, '어이없다': 1271, '불만': 1272, '하네욘': 1273, '슨상님': 1274, '안성': 1275, '임기응변': 1276, '딩': 1277, '해치다': 1278, '개존맛': 1279, '호다닥': 1280, '존경': 1281, '어후': 1282, '땡': 1283, '핵존맛': 1284, '어유': 1285, '죽이다': 1286, '초가': 1287, '에이': 1288, '셈': 1289, '뿐': 1290, '완벽하다': 1291, '업글': 1292, '맨날': 1293, '굶다': 1294, '곰손': 1295, '기전': 1296, '과일': 1297, '수박': 1298, '토마토': 1299, '감동': 1300, '유튜브': 1301, '조회': 1302, '좌절': 1303, '고프다': 1304, '기울다': 1305, 'ㄱ': 1306, '미쳣다': 1307, '시판': 1308, '계량': 1309, '실패': 1310, '감사히': 1311, '고추가': 1312, '분뒤': 1313, '간단': 1314, '진짜진짜': 1315, '동생': 1316, '쓰앵': 1317, '오오': 1318, '안다': 1319, '연휴': 1320, '가즈': 1321, 'ㅋㅋㅋㅋㅋㅋㅋ': 1322, '집밥': 1323, '보구': 1324, '똑같이': 1325, '아부지': 1326, '물만두': 1327, '우왕': 1328, '컵누': 1329, '사리': 1330, '대표': 1331, '그동안': 1332, '대박나다': 1333, '시대': 1334, '영광': 1335, '그랬는데': 1336, '그렇다고': 1337, '양배추': 1338, '냉수': 1339, '무리다': 1340, '오이사': 1341, '다음생': 1342, '최고다': 1343, '휴가': 1344, '둥지냉면': 1345, '밀면': 1346, '각': 1347, '기한': 1348, '지난': 1349, '해물': 1350, '띵맛': 1351, '확실하다': 1352, '잔뜩': 1353, '별거': 1354, '세콤': 1355, '탁월하다': 1356, '선택': 1357, '바이바이': 1358, '더넣엇어': 1359, '파반': 1360, '왜케': 1361, '효': 1362, '쵸': 1363, '겟또': 1364, '비슷': 1365, '불리다': 1366, '녕': 1367, '냥': 1368, '사면': 1369, '넴띠': 1370, '이해': 1371, '도박': 1372, '메롱': 1373, '뽈': 1374, '시보': 1375, '효과': 1376, '존재': 1377, '튜닝안': 1378, '순정': 1379, '용광로': 1380, '주년': 1381, '기획': 1382, '건지다': 1383, '텐데': 1384, '그저': 1385, '쫓아가다': 1386, '관련': 1387, '떳을까': 1388, '궁그': 1389, '무엇': 1390, '줌': 1391, '얹다': 1392, '누가': 1393, '내면': 1394, '아멘': 1395, '보더': 1396, '때깔': 1397, '직': 1398, '낭낭': 1399, '어울리다': 1400, '바람': 1401, '풍년': 1402, '미역냉국': 1403, '주제가': 1404, '딱하다': 1405, '하얗다': 1406, '짜장': 1407, '열풍': 1408, '임팩트': 1409, '갈비': 1410, '티비': 1411, '이슈': 1412, '또역': 1413, '언밸러스': 1414, '부턴': 1415, '당연하다': 1416, '이니까': 1417, '엥': 1418, '작년': 1419, '히트': 1420, '안터': 1421, '시기': 1422, '어마어마하다': 1423, '보도': 1424, '같': 1425, '라묜이닷': 1426, '와중': 1427, '어찌나': 1428, '광장시장': 1429, '괄도네넴띤': 1430, '삿는데': 1431, '지하철': 1432, '지나가다': 1433, '오뎅': 1434, '해초': 1435, '비빔밥': 1436, '냉동': 1437, '깨소금': 1438, '일라나': 1439, '아무리': 1440, '해충': 1441, '다수': 1442, '기생': 1443, '사원': 1444, '잡종': 1445, '심정': 1446, '만도': 1447, '처분': 1448, '란': 1449, '깨끗해지다': 1450, '퍼나르': 1451, '선동': 1452, '대길': 1453, '그랬더니': 1454, '월': 1455, '일자': 1456, '언론': 1457, '기사': 1458, '공식': 1459, '년도': 1460, '매출': 1461, '톱': 1462, '허구': 1463, '언': 1464, '게시판': 1465, '시작': 1466, '레퍼토리': 1467, '혐오': 1468, '불러일으키다': 1469, '악성': 1470, '종자': 1471, '개무시': 1472, '눈치': 1473, '정직하다': 1474, 'ㅡㅡ': 1475, '쏟아지다': 1476, 'ㅅㅅ': 1477, '건너다': 1478, '팔고': 1479, '낫': 1480, '다시다': 1481, '어흥님': 1482, '깍': 1483, '인사': 1484, '사죄': 1485, '마냥': 1486, '어렵다': 1487, '냉장고': 1488, '사정': 1489, '마다의': 1490, '물의': 1491, '소개': 1492, '망설이다': 1493, '붙잡다': 1494, '겄어연': 1495, '바가지': 1496, '연구': 1497, '보여주다': 1498, '척도': 1499, '웬만하다': 1500, '저리': 1501, '가르다': 1502, '추석': 1503, '융': 1504, '고저': 1505, '근': 1506, '척': 1507, '해피': 1508, '가이드': 1509, '실하다': 1510, '하여간': 1511, '덩어리': 1512, '물기': 1513, '꽉': 1514, '다시면': 1515, '모녀': 1516, '번영': 1517, '상당하다': 1518, '풀리다': 1519, '맛궁금': 1520, '네요': 1521, '오호': 1522, '영양': 1523, '보아': 1524, '상술': 1525, '대기업': 1526, '끼리': 1527, '컨퍼런스': 1528, '분발': 1529, '젓다': 1530, '결국': 1531, '찰비빔면': 1532, '횟집': 1533, '애매하다': 1534, '그다음': 1535, '띄다': 1536, '컨셉': 1537, '평이': 1538, '의외': 1539, '로서': 1540, '기계': 1541, '이용': 1542, '객관': 1543, '식칼': 1544, '데스티네이션': 1545, '페트': 1546, '리': 1547, '염도': 1548, '당': 1549, '도계': 1550, '객관성': 1551, '진다리': 1552, '얇다': 1553, '골뱅이': 1554, '면반': 1555, '계열': 1556, '명가': 1557, '결과': 1558, '승복': 1559, '높다': 1560, '어디': 1561, '레이크': 1562, '아버님': 1563, '신경': 1564, '쑤시다': 1565, '네오': 1566, '정': 1567, '마주치다': 1568, '맙시': 1569, '세다': 1570, '핵노맛': 1571, '팡': 1572, '퓨': 1573, '함흥': 1574, '말고는': 1575, '이어지다': 1576, '종': 1577, '맘': 1578, '이라는': 1579, '차이다': 1580, '괜찬나봐': 1581, '어린이': 1582, '에게도': 1583, '잘만': 1584, '듬': 1585, '궁금': 1586, '친': 1587, '부터가': 1588, '인게': 1589, '첨부': 1590, '색깔': 1591, '도토리': 1592, '쫄쫄면': 1593, '좌뚜기': 1594, '쯧': 1595, '불매': 1596, '이어폰': 1597, '요건': 1598, '봤슴': 1599, '춥다': 1600, '예술': 1601, '맴': 1602, '빨간색': 1603, '이스': 1604, '이군': 1605, '아공': 1606, '슝': 1607, 'ㅜㅡ': 1608, '돋다': 1609, '추강': 1610, '추': 1611, '아들': 1612, '도데': 1613, '체': 1614, '하나님': 1615, '작다': 1616, '래야': 1617, '덜': 1618, '쩝쩝쫘': 1619, 'ㅂ': 1620, '여기다': 1621, '스탈': 1622, '빠뜨리다': 1623, '호우': 1624, '탈수': 1625, '최대로': 1626, '생기': 1627, '군용': 1628, '조언': 1629, '최대한': 1630, '비릿': 1631, '회랑': 1632, '소고기': 1633, '초고추장': 1634, '믄': 1635, '훨': 1636, '극한': 1637, '욕': 1638, '소마': 1639, 'ㅁㅊ': 1640, '거르': 1641, '길': 1642, '해조류': 1643, '쫄쫄이': 1644, '괄': 1645, '홈플': 1646, '왠': 1647, '스까묵으': 1648, '양도': 1649, '석': 1650, '이조일': 1651, '것좀': 1652, '게뭐': 1653, '실험': 1654, '정신': 1655, '싸우다': 1656, '승자': 1657, '어허': 1658, '묽다': 1659, '장이': 1660, '편하다': 1661, '구독': 1662, '기술': 1663, '력': 1664, '업계': 1665, '떨다': 1666, '고추장': 1667, '열무': 1668, '헹굴때': 1669, '달라붙다': 1670, '뭘': 1671, '유명하다': 1672, '랄': 1673, '중요성': 1674, '깨달음': 1675, '생애': 1676, '혐호해': 1677, '나가사끼': 1678, '나때': 1679, '으딜': 1680, '킹': 1681, '학계': 1682, '정설': 1683, '쓰윽': 1684, '득': 1685, '뙇뙇': 1686, '특블루핑거님': 1687, '만의': 1688, '블루': 1689, '장갑': 1690, '패': 1691, '스': 1692, '앞서다': 1693, '파프리카': 1694, '주자': 1695, '그닥': 1696, '야들야들하다': 1697, '맛보다': 1698, '이웃': 1699, '채널': 1700, '부탁': 1701, '이역': 1702, '조사': 1703, '왤다': 1704, '캐': 1705, '뽑기': 1706, '갈릴': 1707, '패스': 1708, '기여': 1709, '우세': 1710, 'ㅋㅋㅋㅋㅋㅋㅋㅋㅋㅋㅋㅋㅋㅋㅋㅋㅋㅋㅋㅋㅋㅋㅋㅋ': 1711, '통쾌하다': 1712, '부리다': 1713, '환호': 1714, '청소': 1715, '뉴': 1716, '어머': 1717, '기대다': 1718, '열': 1719, '가타': 1720, '중인': 1721, '이랗': 1722, '친하다': 1723, '오우': 1724, '풀다': 1725, '청하면': 1726, '멋': 1727, '종종': 1728, '단': 1729, '억지로': 1730, '분량': 1731, '쪼': 1732, '커버': 1733, '쿵': 1734, '짤': 1735, '꿀팁': 1736, '소금': 1737, '분간': 1738, '반숙': 1739, '맛남': 1740, '적자': 1741, '드릴': 1742, '유성': 1743, '쬐다': 1744, '멋지다': 1745, '공개': 1746, '그러하다': 1747, '돌아서다': 1748, '면빨': 1749, '식감': 1750, '게살': 1751, '지단': 1752, '사스': 1753, '샘샘': 1754, '마늘': 1755, '나이스': 1756, '으아아': 1757, '앜': 1758, '잡다': 1759, '번역': 1760, '어순': 1761, '어색하다': 1762, '자수정': 1763, '지리다': 1764, '땅': 1765, '극적': 1766, '이던': 1767, '떠나다': 1768, '청량고추': 1769, '칼칼하다': 1770, '마법': 1771, '앗다': 1772, '맛있겄다': 1773, '하라': 1774, '싹': 1775, '갖다': 1776, '주의': 1777, '빙초산': 1778, '경우': 1779, '무시': 1780, '사은': 1781, '어찌': 1782, '묵': 1783, '맛있드': 1784, '매일': 1785, '이라서': 1786, '감흥': 1787, '누군가': 1788, '원츄': 1789, '불가능하다': 1790, '게맛살': 1791, '흡입': 1792, '중임': 1793, '별미': 1794, '물병': 1795, '통': 1796, '닭': 1797, '가슴': 1798, '후후': 1799, '불어': 1800, '함정': 1801, '만하': 1802, '겟': 1803, '숙주': 1804, '린': 1805, '대파': 1806, '대체': 1807, '상관없다': 1808, '맡다': 1809, '짓말': 1810, '뭔': 1811, '짓': 1812, '덩': 1813, '상덕': 1814, '베이스': 1815, '만으로도': 1816, '국': 1817, '빼놓다': 1818, '흐으': 1819, '짜웠음': 1820, '동면': 1821, '혹은': 1822, '핵꿀맛': 1823, '그러나': 1824, '순하다': 1825, '취미': 1826, '불행하다': 1827, '당뇨병': 1828, '집안': 1829, '남동생': 1830, '사촌': 1831, '의존': 1832, '살아가다': 1833, '스콘': 1834, '탄수화물': 1835, '혈당': 1836, '비꼬다': 1837, '나타나다': 1838, '아시아': 1839, '인종': 1840, '취약': 1841, '맛옶을듯': 1842, '졸라': 1843, '일단': 1844, '리좀': 1845, '쯤': 1846, '오글거리다': 1847, '키': 1848, '뼈': 1849, '대량': 1850, '가루타': 1851, '국밥집': 1852, '돼지': 1853, '누리다': 1854, '부산': 1855, '반동': 1856, '일으키다': 1857, '선물': 1858, '쪽': 1859, '전인': 1860, '와아': 1861, '별의별': 1862, '다나': 1863, '드뎌': 1864, '욧': 1865, '다양하다': 1866, '남자라면': 1867, '포장': 1868, '매각': 1869, '거저': 1870, '영원하다': 1871, '욱': 1872, '나용': 1873, '지도': 1874, '와웅': 1875, '왜냐면': 1876, '대기': 1877, '오이나': 1878, '환영': 1879, '바다': 1880, '비빔국수': 1881, '역할': 1882, '도면': 1883, '쫄깃쫄깃': 1884, '한인': 1885, '확인': 1886, '별개': 1887, '나왓네': 1888, '지인': 1889, '한테': 1890, '달라': 1891, '꼭꼭': 1892, '포만': 1893, '뱃속': 1894, '그럴듯하다': 1895, '복잡하다': 1896, '제보': 1897, '고기랑': 1898, '짭짭': 1899, '순영': 1900, '방': 1901, '찾아오다': 1902, '겄': 1903, '얼얼': 1904, '리황샹': 1905, '구조': 1906, '포크': 1907, '가기': 1908, '도중': 1909, '상이': 1910, '검은색': 1911, '탕쳄': 1912, '집앞': 1913, '세븐': 1914, '슬픔': 1915, '수입': 1916, '그나마': 1917, '기쁘다': 1918, '친절하다': 1919, '차분하다': 1920, '먹이다': 1921, '정보': 1922, '골고루': 1923, '적도': 1924, '곤': 1925, '구성': 1926, '그리다': 1927, '거리': 1928, '손질': 1929, '쭈욱': 1930, '순간': 1931, '욕심': 1932, '커지다': 1933, '바램': 1934, '거지같다': 1935, '유언비어': 1936, '상처': 1937, '스트': 1938, '디오': 1939, '방송': 1940, '부분': 1941, 'ㅡㅜㅜ': 1942, '집들이': 1943, '군데': 1944, '대해': 1945, '곁': 1946, '배우다': 1947, '샤브샤브': 1948, '쥬시쿨': 1949, '결정': 1950, '햇습니': 1951, '전투': 1952, '선댓': 1953, '감상': 1954, 'ㅡㅋ': 1955, '자동': 1956, '윙크': 1957, '오심': 1958, '란말': 1959, '실실': 1960, '배우': 1961, '신분': 1962, 'ㅠㅠㅠㅎㅎㅎ': 1963, '조아하다': 1964, '으아': 1965, '과음': 1966, '아이템': 1967, '마이크': 1968, '키우다': 1969, '광고': 1970, '시끄럽다': 1971, '깨': 1972, '줄이다': 1973, '스킬': 1974, '오르다': 1975, '태풍': 1976, '피해': 1977, '에어컨': 1978, '켜': 1979, '아이디어': 1980, '슈퍼': 1981, '동치미': 1982, '레알': 1983, '강원도': 1984, '여야': 1985, '이랑은': 1986, '숙주나물': 1987, '가깝다': 1988, '이든': 1989, '얼굴': 1990, '붓기': 1991, '가관': 1992, '앗': 1993, '뎃': 1994, 'ㅋㅜ': 1995, '겁': 1996, '쿨': 1997, '피스': 1998, '토핑그': 1999, '기다리다': 2000, '최애영': 2001, '떼다': 2002, '십': 2003, '맛깔': 2004, '밝다': 2005, '문자': 2006, '무덥다': 2007, '더위': 2008, '조심하다': 2009, '곤란하다': 2010, '년전': 2011, '최근': 2012, '휴무': 2013, '몇번': 2014, '하고프다': 2015, '아무튼': 2016, '이태리': 2017, '다녀오다': 2018, '쁑쁑쁑': 2019, '자르다': 2020, 'ㅜㅡㅜ': 2021, '입안': 2022, '공기밥': 2023, '직전': 2024, '이유식': 2025, '유의': 2026, '족': 2027, '꽂히다': 2028, '불': 2029, '갈아타다': 2030, '스트레스': 2031, '나르다': 2032, '오는': 2033, '한웅': 2034, '드갈때': 2035, '열무김치': 2036, '까지는': 2037, '컨텐츠': 2038, '조만간': 2039, '냠냠': 2040, '초보자': 2041, '토요일': 2042, '어머나': 2043, '가족': 2044, '편이': 2045, '당면': 2046, '조제': 2047, '장마': 2048, '관리': 2049, '팍팍': 2050, '끓다': 2051, '참다': 2052, '살아나다': 2053, '마력': 2054, '상품': 2055, '빵빵': 2056, '터뜨리다': 2057, '옛날': 2058, '명성': 2059, '되찾다': 2060, '광니': 2061, '고급스럽다': 2062, '질': 2063, '수도': 2064, '의미': 2065, '범죄': 2066, '도시': 2067, '가재': 2068, '던': 2069, '암튼': 2070, '셧음': 2071, '삼계탕': 2072, '마님': 2073, '자제': 2074, '부탁드리다': 2075, '시원': 2076, '치기': 2077, '여요': 2078, '간간히': 2079, '트리': 2080, '후추': 2081, '현재': 2082, '가능': 2083, '마치다': 2084, '우리동네': 2085, '슬프다': 2086, '가시다': 2087, '수고': 2088, '선도': 2089, '기업': 2090, '포기': 2091, '들어서다': 2092, '괜': 2093, '뽑다': 2094, '금기': 2095, '화조': 2096, '서너': 2097, '변하다': 2098, '뉴비': 2099, '이라기': 2100, '아리다': 2101, '그렇지만': 2102, '추하다': 2103, '잘나오다': 2104, '쓰레기': 2105, '국적': 2106, '엄정': 2107, '지는': 2108, '카레': 2109, '안질리다': 2110, '주르륵': 2111, '메인': 2112, 'ㄷㄷㄷ': 2113, '두세': 2114, '터지다': 2115, 'ㅇㅣㄴ': 2116, '큰일': 2117, '날뻔': 2118, '가미': 2119, '걱정스럽다': 2120, '속이다': 2121, '달래다': 2122, '바라다': 2123, '탕맛': 2124, '마유': 2125, '한동안': 2126, '비비고': 2127, '유사하다': 2128, 'ㅠㅠㅠㅠㅠㅠㅠㅠㅠㅠㅠ': 2129, '면개': 2130, '스타일': 2131, '짱짱': 2132, '해내다': 2133, '날막': 2134, '우어': 2135, '오유': 2136, '유유': 2137, '저렇다': 2138, '만듀': 2139, '난왜': 2140, '금요일': 2141, '출근': 2142, '버스': 2143, '메뉴': 2144, '확정': 2145, '취': 2146, '언능': 2147, '용다': 2148, '싸르': 2149, '르': 2150, '아프다': 2151, '격': 2152, '뒹굴뒹굴': 2153, '분다': 2154, '다니다': 2155, '내놓다': 2156, '정확하다': 2157, '나프탈렌': 2158, '동남아': 2159, '버렷다': 2160, '은은하다': 2161, '뛰다': 2162, 'ㅜㅜㅠ': 2163, 'ㅉ': 2164, '조지': 2165, '증발': 2166, '소통': 2167, '소린': 2168, '정작': 2169, '위생': 2170, '뉴스': 2171, '트러플': 2172, '대가리': 2173, '개짬': 2174, '따갑다': 2175, '옥수수': 2176, '온면': 2177, '화학': 2178, '섬유': 2179, '사골': 2180, '시바': 2181, '구리': 2182, '중화': 2183, '살때': 2184, '일주일': 2185, '기선': 2186, '한다는': 2187, '에가': 2188, 'ㅇㅅㅇ': 2189, '릅': 2190, '쩝쩝': 2191, '햐': 2192, '마자': 2193, '향기': 2194, '낮': 2195, '홍탕': 2196, '면서': 2197, '역함': 2198, '말리다': 2199, '안구': 2200, '사신': 2201, '곳좀': 2202, '주심': 2203, 'ㅇㅈ': 2204, '쪼끔': 2205, '뚝': 2206, '시프': 2207, '뭐케': 2208, '잘먹엌': 2209, '진득': 2210, '진입': 2211, '장벽': 2212, '시궁창': 2213, '처럼도': 2214, '바닥': 2215, '더라고요': 2216, '샴푸': 2217, '바디': 2218, '워시': 2219, '땅콩': 2220, '안녕': 2221, '계세': 2222, '끄덕': 2223, '끄덕이다': 2224, '거부감없엇어': 2225, 'ㅠㅜㅜㅜㅠ': 2226, '댜': 2227, 'ㅏㅏ': 2228, 'ㅓ': 2229, 'ㅏㅏㅏㅏㅏㅠㅠㅠㅠㅠㅠㅠㅠㅠㅠ': 2230, '윽': 2231, '땀샘': 2232, '고장': 2233, '죵': 2234, '맛깔나다': 2235, 'ㅋㅋㅌㅋㅋㅋㅋㅋㅋㅋㅋ': 2236, '홀쭉하다': 2237, '도왜': 2238, '선호': 2239, '볼때': 2240, '이듭': 2241, '부럽다': 2242, '부제': 2243, '심해': 2244, '위경련': 2245, '밤새': 2246, '잠도': 2247, '못자다': 2248, '중국인': 2249, 'ㅠㅜ': 2250, '오리': 2251, '줄알': 2252, '안좋다': 2253, '추억': 2254, '사기': 2255, '부도': 2256, '훨신': 2257, '볶음밥': 2258, '어도': 2259, '유행': 2260, '온': 2261, '마라향궈': 2262, 'ㅋㅋㅋㅋㅋㅋㅋㅋㅋㅋㅋㅋㅋㅋㅋㅋ': 2263, '나대다': 2264, '빠구리': 2265, '짜파게티': 2266, '반정': 2267, '볶다': 2268, '처': 2269, '돌이': 2270, '라반': 2271, '고무줄': 2272, '도둑': 2273, '복음': 2274, '깊다': 2275, '맥주': 2276, '머': 2277, '나이': 2278, '힘들다': 2279, '신호': 2280, '싸구려': 2281, '분홍색': 2282, '소세지': 2283, '익히다': 2284, 'ㅅㅍ': 2285, '음청': 2286, '불안하다': 2287, 'ㅋㅌㅋㅋㅌㅋㅌㅌ': 2288, '졔졔림': 2289, '부대찌개': 2290, '우유': 2291, '금방': 2292, '잊다': 2293, '류': 2294, '아마': 2295, '올라오다': 2296, '예민하다': 2297, '민감하다': 2298, 'ㅌㅂ': 2299, '중간': 2300, '아이스크림': 2301, '국가': 2302, '허락': 2303, '똥꼬': 2304, '스고이': 2305, '떨리다': 2306, '타이어': 2307, '이안': 2308, 'ㅏㅁ': 2309, '나다니다': 2310, '던뎅': 2311, '쓰리다': 2312, '큐': 2313, '공격': 2314, '도망치다': 2315, '염': 2316, '시구': 2317, '낭': 2318, '퓨저': 2319, '색갈': 2320, 'ㄹ': 2321, '이란': 2322, '적딩히': 2323, '비닐': 2324, '나쵸': 2325, '칩': 2326, '메다': 2327, '본연': 2328, '기준': 2329, '민트': 2330, '치약': 2331, '못먹엇어': 2332, '구경만': 2333, '필요하다': 2334, '레전드': 2335, '사천팔백원': 2336, '고도': 2337, '상해': 2338, '희멀겋': 2339, '내용물': 2340, '흔하다': 2341, '로양': 2342, '빡': 2343, '쨍하': 2344, 'ㅇㅇ': 2345, '이남': 2346, '비밀': 2347, '학': 2348, '풀무원': 2349, '에세': 2350, '젤맛': 2351, '마라썅궈': 2352, '다기': 2353, '고르다': 2354, '매운정도': 2355, '아해': 2356, '접': 2357, '폭풍': 2358, '덕후': 2359, '울': 2360, '은진': 2361, '기침': 2362, 'ㅜㅋㅋㅋㅋㅋㅋㅋㅋㅋ': 2363, '혈중': 2364, '죽음': 2365, '파스': 2366, '바른': 2367, '하지만': 2368, '싸': 2369, '찡긋': 2370, '질색': 2371, '손절': 2372, '쇼크': 2373, '코너': 2374, '으악': 2375, '눈물나다': 2376, '기억': 2377, '해안': 2378, '묶다': 2379, '깨물다': 2380, '자살': 2381, '드삼': 2382, '보단': 2383, '짜장라면': 2384, '놨습니': 2385, '응': 2386, '거절': 2387, '벌컥벌컥': 2388, '풀맛': 2389, '짝퉁': 2390, '액': 2391, '수프': 2392, '뜯다': 2393, '단것': 2394, '이도': 2395, '쓸데없다': 2396, '하씨': 2397, '엄두': 2398, '못내': 2399, '똥': 2400, '꾸역꾸역': 2401, '게다가': 2402, '시큼하다': 2403, '살맛': 2404, '근대': 2405, '남자': 2406, '스킨': 2407, '향도': 2408, '같이나': 2409, 'ㅋㅋㅋㅋㅋㅋㅋㅋㅋ': 2410, '환장하다': 2411, '머그': 2412, '지옥': 2413, '마랏땅': 2414, '녀': 2415, '무족': 2416, '권': 2417, '전하': 2418, '초보': 2419, 'ㅈ': 2420, '빵': 2421, '노른자': 2422, '개극혐': 2423, '거보': 2424, '오빠': 2425, '선': 2426, '두부': 2427, '강아지': 2428, '빼꼼': 2429, '쳐다보다': 2430, '귀엽다': 2431, '알바생': 2432, '이이': 2433, '질리': 2434, '진렬님': 2435, '지르르': 2436, '르르': 2437, 'ㅜㅜㅜㅜ': 2438, 'ㅗㅜㅑ': 2439, '전문가': 2440, '워니': 2441, '마시쩡': 2442, '짝': 2443, '괜촌': 2444, '이리': 2445, '거기': 2446, '가추': 2447, '가로': 2448, '맛있겄': 2449, '빨리': 2450, '볼걸': 2451, '페북': 2452, '고해': 2453, '어쩌구': 2454, '함무': 2455, '더니': 2456, '붇': 2457, '올바르다': 2458, '예입': 2459, '맹맹하다': 2460, '끝맛': 2461, '론데': 2462, '흡사하다': 2463, 'ㅠㅜㅜㅜ': 2464, '오오오': 2465, '돗': 2466, '이마': 2467, '신지': 2468, '게속': 2469, '거들다': 2470, '떠보다': 2471, '입히다': 2472, '진국': 2473, '참치': 2474, '서민': 2475, '벗어나다': 2476, '병진': 2477, '최강': 2478, '지대': 2479, '단점': 2480, '연태': 2481, '고량주': 2482, '안주': 2483, 'ㅋㅋㅋㅋㅋㅋㅋㅋㅋㅋㅋㅋ': 2484, '파괴': 2485, '호기심': 2486, '게임': 2487, '고만': 2488, '유니폼': 2489, '녀석': 2490, '나와라': 2491, '듣다': 2492, '전문점': 2493, '가도': 2494, '떡': 2495, '칠하다': 2496, '거나': 2497, '쌍욕': 2498, '나트륨': 2499, '슬슬': 2500, '내지': 2501, '찍어내다': 2502, '그먀': 2503, '년대': 2504, '굳히다': 2505, '아예': 2506, '지독하다': 2507, '중국사람': 2508, '장담': 2509, '너무나': 2510, '팬': 2511, '겉절이': 2512, '미라': 2513, '밥말': 2514, '흡': 2515, 'ㅋㅋㅋㅋㅋㅋㅋㅋㅋㅋㅋㅋㅋ': 2516, 'ㅋㅋㅋㅋㅋㅋㅋㅋㅋㅋㅋㅋㅋㅋㅋ': 2517, '열라면': 2518, '쥐': 2519, '에스': 2520, '돌아다니다': 2521, '사고': 2522, '걸어가다': 2523, 'ㅋㅋㅋㅋㄱㄲ': 2524, '제군': 2525, '텔': 2526, '느므': 2527, '다행': 2528, '물론': 2529, '세번': 2530, '롸': 2531, '미고': 2532, '랭': 2533, '박다': 2534, '떠다니다': 2535, '씹히다': 2536, '제이': 2537, '쫌': 2538, '천식': 2539, '탄탄': 2540, '식다': 2541, '천원': 2542, '끈': 2543, '만가': 2544, '맛잉으': 2545, '토핑무': 2546, '주문': 2547, '뺨': 2548, '순위': 2549, '매기': 2550}\n"
     ]
    }
   ],
   "source": [
    "print(tokenizer.word_index)"
   ]
  },
  {
   "cell_type": "markdown",
   "metadata": {
    "id": "SMTsTzAYM8tG"
   },
   "source": [
    "- 위에서 정수는 등장빈도가 높은 순서로 부여 즉 뒤로 갈수록 등장빈도가 낮다는 것을 의미\n",
    "- 이때 등장빈도가 2회 미만인 (1회인) 토큰이 등장하는 비율은 8%밖에 되지 않으므로 제거"
   ]
  },
  {
   "cell_type": "code",
   "execution_count": null,
   "metadata": {
    "id": "M31_U0S9M8tH",
    "outputId": "0b35e64d-2ecb-4b4b-e172-89637d0f5086"
   },
   "outputs": [
    {
     "name": "stdout",
     "output_type": "stream",
     "text": [
      "단어 집합(vocabulary)의 크기 : 2550\n",
      "등장 빈도가 1번 이하인 희귀 단어의 수: 1370\n",
      "단어 집합에서 희귀 단어의 비율: 53.72549019607843\n",
      "전체 등장 빈도에서 희귀 단어 등장 빈도 비율: 8.268453135373287\n"
     ]
    }
   ],
   "source": [
    "threshold = 2\n",
    "total_cnt = len(tokenizer.word_index) # 단어의 수\n",
    "rare_cnt = 0 # 등장 빈도수가 threshold보다 작은 단어의 개수를 카운트\n",
    "total_freq = 0 # 훈련 데이터의 전체 단어 빈도수 총 합\n",
    "rare_freq = 0 # 등장 빈도수가 threshold보다 작은 단어의 등장 빈도수의 총 합\n",
    "\n",
    "# 단어와 빈도수의 쌍(pair)을 key와 value로 받는다.\n",
    "for key, value in tokenizer.word_counts.items():\n",
    "    total_freq = total_freq + value\n",
    "\n",
    "    # 단어의 등장 빈도수가 threshold보다 작으면\n",
    "    if(value < threshold):\n",
    "        rare_cnt = rare_cnt + 1\n",
    "        rare_freq = rare_freq + value\n",
    "\n",
    "print('단어 집합(vocabulary)의 크기 :',total_cnt)\n",
    "print('등장 빈도가 %s번 이하인 희귀 단어의 수: %s'%(threshold - 1, rare_cnt))\n",
    "print(\"단어 집합에서 희귀 단어의 비율:\", (rare_cnt / total_cnt)*100)\n",
    "print(\"전체 등장 빈도에서 희귀 단어 등장 빈도 비율:\", (rare_freq / total_freq)*100)"
   ]
  },
  {
   "cell_type": "code",
   "execution_count": null,
   "metadata": {
    "id": "NfcFF-qUM8tJ",
    "outputId": "bf4683c8-69c8-4b79-c6b9-9722639d0151"
   },
   "outputs": [
    {
     "name": "stdout",
     "output_type": "stream",
     "text": [
      "단어 집합의 크기 : 1181\n"
     ]
    }
   ],
   "source": [
    "vocab_size = total_cnt - rare_cnt + 1\n",
    "print('단어 집합의 크기 :',vocab_size)"
   ]
  },
  {
   "cell_type": "code",
   "execution_count": null,
   "metadata": {
    "id": "dRIte6kEM8tL"
   },
   "outputs": [],
   "source": [
    "tokenizer = Tokenizer(vocab_size, oov_token = 'OOV') \n",
    "tokenizer.fit_on_texts(X_train)\n",
    "X_train = tokenizer.texts_to_sequences(X_train)\n",
    "X_test = tokenizer.texts_to_sequences(X_test)"
   ]
  },
  {
   "cell_type": "code",
   "execution_count": null,
   "metadata": {
    "id": "68pb-fqDM8tN",
    "outputId": "f91700b4-ffed-4033-c307-1942b02a1de8"
   },
   "outputs": [
    {
     "name": "stdout",
     "output_type": "stream",
     "text": [
      "[[13, 68, 1, 21, 30, 1, 276, 65, 2, 37], [16, 58, 18, 163, 45, 29, 383, 221, 71, 629, 501, 18, 136, 277, 255, 72, 2, 87, 384, 20, 4, 39, 15, 221, 71, 385, 24, 35, 43, 11, 796, 54, 502, 74, 177, 206, 15, 75, 143, 2, 177, 20, 1, 55, 59, 19, 29], [1, 43, 11, 1, 797, 23, 83, 193, 30, 164, 178, 31, 386, 14, 1, 16, 278]]\n"
     ]
    }
   ],
   "source": [
    "#문장별로 정수인코딩이 진행되었는지 확인\n",
    "print(X_train[:3])"
   ]
  },
  {
   "cell_type": "code",
   "execution_count": null,
   "metadata": {
    "id": "Nj0shz8wM8tP"
   },
   "outputs": [],
   "source": [
    "y_train = np.array(train_data['label']) #학습 자료의 라벨을 y_train으로\n",
    "y_test = np.array(test_data['label']) #테스트 자료의 라벨을 y_test로"
   ]
  },
  {
   "cell_type": "markdown",
   "metadata": {
    "id": "VVB_nERGM8tR"
   },
   "source": [
    "- 위에서 제거했던 단어의 공백을 제거"
   ]
  },
  {
   "cell_type": "code",
   "execution_count": null,
   "metadata": {
    "id": "bnBVw5LeM8tR"
   },
   "outputs": [],
   "source": [
    "drop_train = [index for index, sentence in enumerate(X_train) if len(sentence) < 1]"
   ]
  },
  {
   "cell_type": "code",
   "execution_count": null,
   "metadata": {
    "id": "B4vWCDenM8tT",
    "outputId": "08112335-9945-4c5b-fa31-bc8188663e7e"
   },
   "outputs": [
    {
     "name": "stdout",
     "output_type": "stream",
     "text": [
      "1078\n",
      "1078\n"
     ]
    }
   ],
   "source": [
    "#1160에서 1078로 학습데이터가 줄었당\n",
    "X_train = np.delete(X_train, drop_train, axis=0)\n",
    "y_train = np.delete(y_train, drop_train, axis=0)\n",
    "print(len(X_train))\n",
    "print(len(y_train))"
   ]
  },
  {
   "cell_type": "markdown",
   "metadata": {
    "id": "qszojM-8M8tV"
   },
   "source": [
    "## 5.패딩\n",
    "- 리뷰길이를 유사하게 맞춰 모델이 데이터를 처리하는데 오류가 없도록 한다"
   ]
  },
  {
   "cell_type": "code",
   "execution_count": null,
   "metadata": {
    "id": "HQmG2FezM8tW",
    "outputId": "d79b35c6-a38e-4155-ca12-0b7fbd030e42"
   },
   "outputs": [
    {
     "name": "stdout",
     "output_type": "stream",
     "text": [
      "리뷰의 최대 길이 : 214\n",
      "리뷰의 평균 길이 : 15.37012987012987\n"
     ]
    },
    {
     "data": {
      "image/png": "[encoded data removed]",
      "text/plain": [
       "<Figure size 432x288 with 1 Axes>"
      ]
     },
     "metadata": {
      "needs_background": "light",
      "tags": []
     },
     "output_type": "display_data"
    }
   ],
   "source": [
    "print('리뷰의 최대 길이 :',max(len(l) for l in X_train))\n",
    "print('리뷰의 평균 길이 :',sum(map(len, X_train))/len(X_train))\n",
    "plt.hist([len(s) for s in X_train], bins=50)\n",
    "plt.xlabel('length of samples')\n",
    "plt.ylabel('number of samples')\n",
    "plt.show()"
   ]
  },
  {
   "cell_type": "code",
   "execution_count": null,
   "metadata": {
    "id": "4FTe68wYM8tY"
   },
   "outputs": [],
   "source": [
    "def below_threshold_len(max_len, nested_list):\n",
    "    cnt = 0\n",
    "    for s in nested_list:\n",
    "        if(len(s) <= max_len):\n",
    "            cnt = cnt + 1\n",
    "    print('전체 샘플 중 길이가 %s 이하인 샘플의 비율: %s'%(max_len, (cnt / len(nested_list))*100))"
   ]
  },
  {
   "cell_type": "code",
   "execution_count": null,
   "metadata": {
    "id": "yGHA17PiM8tZ",
    "outputId": "b8d8d75e-2d77-4d67-e3b1-4a8c8417216e"
   },
   "outputs": [
    {
     "name": "stdout",
     "output_type": "stream",
     "text": [
      "전체 샘플 중 길이가 40 이하인 샘플의 비율: 95.17625231910947\n"
     ]
    }
   ],
   "source": [
    "max_len = 40\n",
    "below_threshold_len(max_len, X_train)"
   ]
  },
  {
   "cell_type": "code",
   "execution_count": null,
   "metadata": {
    "id": "PFKH-gVSM8tb"
   },
   "outputs": [],
   "source": [
    "X_train = pad_sequences(X_train, maxlen = max_len)\n",
    "X_test = pad_sequences(X_test, maxlen = max_len)"
   ]
  },
  {
   "cell_type": "markdown",
   "metadata": {
    "id": "YDew9WKuM8td"
   },
   "source": [
    "## 6.감성분류"
   ]
  },
  {
   "cell_type": "code",
   "execution_count": null,
   "metadata": {
    "id": "W3txCbYXM8te"
   },
   "outputs": [],
   "source": [
    "from tensorflow.keras.layers import Embedding, Dense, LSTM\n",
    "from tensorflow.keras.models import Sequential\n",
    "from tensorflow.keras.models import load_model\n",
    "from tensorflow.keras.callbacks import EarlyStopping, ModelCheckpoint"
   ]
  },
  {
   "cell_type": "code",
   "execution_count": null,
   "metadata": {
    "id": "kfpSZrD9M8th"
   },
   "outputs": [],
   "source": [
    "model = Sequential()\n",
    "model.add(Embedding(vocab_size, 100))\n",
    "model.add(LSTM(128))\n",
    "model.add(Dense(1, activation='sigmoid'))"
   ]
  },
  {
   "cell_type": "code",
   "execution_count": null,
   "metadata": {
    "id": "nyikQA7xM8tj"
   },
   "outputs": [],
   "source": [
    "es = EarlyStopping(monitor='val_loss', mode='min', verbose=1, patience=4)\n",
    "mc = ModelCheckpoint('best_model.h5', monitor='val_acc', mode='max', verbose=1, save_best_only=True)"
   ]
  },
  {
   "cell_type": "code",
   "execution_count": null,
   "metadata": {
    "id": "-mEb5Gn7M8tl",
    "outputId": "59e33b32-1a63-496e-a826-7af36183d8db"
   },
   "outputs": [
    {
     "name": "stdout",
     "output_type": "stream",
     "text": [
      "Epoch 1/15\n",
      "15/15 [==============================] - ETA: 0s - loss: 0.6278 - acc: 0.7216\n",
      "Epoch 00001: val_acc improved from -inf to 0.56944, saving model to best_model.h5\n",
      "15/15 [==============================] - 1s 83ms/step - loss: 0.6278 - acc: 0.7216 - val_loss: 0.6674 - val_acc: 0.5694\n",
      "Epoch 2/15\n",
      "14/15 [===========================>..] - ETA: 0s - loss: 0.5278 - acc: 0.7357\n",
      "Epoch 00002: val_acc improved from 0.56944 to 0.60648, saving model to best_model.h5\n",
      "15/15 [==============================] - 0s 32ms/step - loss: 0.5314 - acc: 0.7320 - val_loss: 0.6353 - val_acc: 0.6065\n",
      "Epoch 3/15\n",
      "14/15 [===========================>..] - ETA: 0s - loss: 0.4261 - acc: 0.7929\n",
      "Epoch 00003: val_acc improved from 0.60648 to 0.71296, saving model to best_model.h5\n",
      "15/15 [==============================] - 0s 31ms/step - loss: 0.4264 - acc: 0.7912 - val_loss: 0.5860 - val_acc: 0.7130\n",
      "Epoch 4/15\n",
      "13/15 [=========================>....] - ETA: 0s - loss: 0.3249 - acc: 0.8577\n",
      "Epoch 00004: val_acc improved from 0.71296 to 0.75463, saving model to best_model.h5\n",
      "15/15 [==============================] - 1s 34ms/step - loss: 0.3207 - acc: 0.8619 - val_loss: 0.5595 - val_acc: 0.7546\n",
      "Epoch 5/15\n",
      "14/15 [===========================>..] - ETA: 0s - loss: 0.2543 - acc: 0.9083\n",
      "Epoch 00005: val_acc did not improve from 0.75463\n",
      "15/15 [==============================] - 0s 30ms/step - loss: 0.2565 - acc: 0.9095 - val_loss: 0.5354 - val_acc: 0.7407\n",
      "Epoch 6/15\n",
      "13/15 [=========================>....] - ETA: 0s - loss: 0.2112 - acc: 0.9333\n",
      "Epoch 00006: val_acc did not improve from 0.75463\n",
      "15/15 [==============================] - 1s 39ms/step - loss: 0.2093 - acc: 0.9327 - val_loss: 0.5684 - val_acc: 0.7546\n",
      "Epoch 7/15\n",
      "15/15 [==============================] - ETA: 0s - loss: 0.1882 - acc: 0.9339\n",
      "Epoch 00007: val_acc did not improve from 0.75463\n",
      "15/15 [==============================] - 0s 32ms/step - loss: 0.1882 - acc: 0.9339 - val_loss: 0.6147 - val_acc: 0.7454\n",
      "Epoch 8/15\n",
      "13/15 [=========================>....] - ETA: 0s - loss: 0.1300 - acc: 0.9564\n",
      "Epoch 00008: val_acc improved from 0.75463 to 0.75926, saving model to best_model.h5\n",
      "15/15 [==============================] - 0s 33ms/step - loss: 0.1320 - acc: 0.9548 - val_loss: 0.6015 - val_acc: 0.7593\n",
      "Epoch 9/15\n",
      "15/15 [==============================] - ETA: 0s - loss: 0.1218 - acc: 0.9582\n",
      "Epoch 00009: val_acc did not improve from 0.75926\n",
      "15/15 [==============================] - 1s 33ms/step - loss: 0.1218 - acc: 0.9582 - val_loss: 0.6935 - val_acc: 0.7315\n",
      "Epoch 00009: early stopping\n"
     ]
    }
   ],
   "source": [
    "model.compile(optimizer='rmsprop', loss='binary_crossentropy', metrics=['acc'])\n",
    "history = model.fit(X_train, y_train, epochs=15, callbacks=[es, mc], batch_size=60, validation_split=0.2)"
   ]
  },
  {
   "cell_type": "code",
   "execution_count": null,
   "metadata": {
    "id": "7ukhEc9QM8tn",
    "outputId": "9e2edd71-df23-46e1-f360-6d5df412d2b6"
   },
   "outputs": [
    {
     "name": "stdout",
     "output_type": "stream",
     "text": [
      "12/12 [==============================] - 0s 7ms/step - loss: 0.5467 - acc: 0.7880\n",
      "\n",
      " 테스트 정확도: 0.7880\n"
     ]
    }
   ],
   "source": [
    "loaded_model = load_model('best_model.h5')\n",
    "print(\"\\n 테스트 정확도: %.4f\" % (loaded_model.evaluate(X_test, y_test)[1]))"
   ]
  },
  {
   "cell_type": "code",
   "execution_count": null,
   "metadata": {
    "id": "Cfml2A1UM8tp"
   },
   "outputs": [],
   "source": [
    "def sentiment_predict(new_sentence):\n",
    "    new_sentence = okt.morphs(new_sentence, stem=True) # 토큰화\n",
    "    new_sentence = [word for word in new_sentence if not word in stopwords] # 불용어 제거\n",
    "    encoded = tokenizer.texts_to_sequences([new_sentence]) # 정수 인코딩\n",
    "    pad_new = pad_sequences(encoded, maxlen = max_len) # 패딩\n",
    "    score = float(loaded_model.predict(pad_new)) # 예측\n",
    "            \n",
    "    if score > 0.5:\n",
    "        label = 1\n",
    "    else: \n",
    "        label = 0    \n",
    "    return(label)"
   ]
  },
  {
   "cell_type": "code",
   "execution_count": null,
   "metadata": {
    "id": "kIt7RWkhM8tr"
   },
   "outputs": [],
   "source": [
    "sinsin = pd.read_csv('신라면건면_Raw.csv',encoding='cp949')\n",
    "garlic = pd.read_csv('갈릭버터_Raw.csv',encoding='cp949')"
   ]
  },
  {
   "cell_type": "code",
   "execution_count": null,
   "metadata": {
    "id": "7XOFi1rCM8tt",
    "outputId": "c22a4efc-239b-47db-f79c-334cab5032ba"
   },
   "outputs": [
    {
     "name": "stdout",
     "output_type": "stream",
     "text": [
      "['갈릭버터볶음면!!저도먹어볼게요^^*', '맛있을것같아요!겉포장도이쁘네요', '5:43첫입', 'ㅠㅠ밴쯔님ㅠㅠㅠㅠ맛표현좀제대로해주셧으면조켓어요..ㅋㅋㅋㅋ애가타는마음,,,ㅠㅠ맨날궁금증만더커져서감미당~', '컵라면5개가밴쯔님한테는왜이리적어보일까요ㅋㅋ제가먹으면2개먹고느끼해서못먹겠지만요ㅋㅋㅋ', '아니...어떻게한젓가락이1인분같은데두세번씹고넘기지....목구멍이어떻게생긴거야.......', '밴쯔님!안성탕면해물로새로나왔어요!!다음먹방으로부탁드려요!!지금먹고있는데맛괜찮네요!벌써4개째먹고있습니다ㅜㅜ', 'honestlylookgoodalsoiffullofconservantkkkk', '벤쯔님쫌씹고삼키세욬ㅋㅋㅋ너무안씹고삼키시는거같아요그면몸에안좋아용ㅎㅎ', '이거짱맛있어요ㅠㅠ버터향도나고마늘향도나고근데매콤해.대존맛.한번만드셔보세요??????', '라면이나음식리뷰는밴쯔님채널에서', '오늘학교에서힘들었는데밴쯔님영상보니까기분이좋아지네요??', '첫입먹고다섯번도안씹는거같은ㅋㅋ진공청소기느낌이네요', '저거먹어봤는데진짜맛있던데이거보니까편의점가야겠네...', '그릇이세숫대야같아요ㅋㅋ', 'MuchloveasalwaysfortheEnglishsubs????????', '보디빌더대회준비중밴쯔님먹방보면서항상대리만족합니다저도하루빨리대회끝나고밴쯔님처럼폭풍흡힙하는날이왔으면좋겠습니다ㅠㅠ', 'IappreciatetheenglishSUB!!:D', '이거맛있어요알바하면서자주먹었어요', '편의점에서이거먹고집에오는길인데소름이네요ㅎㅎㅎㅎㅎㅎㅎ와우', '오오!!!', 'Garlicfriedsoundsfantastic,thanksfortheEnglishsubtitlesIloveyourvideos', '맛있겠어요..저씨유알반데먹어봐야할듯', '배고파ㅠㅜㅠ', '6:03라면을스파게티처럼드시네요ㅋㅋㅋ', \"Youveryclearlydon'tlikeit,butyoufinishit.Thaaaatisdedication!LoveyouBanzz!SupportfromCanada!????????????????\", '4:35트트로베리에이드형너무귀여워요', '이렇게맛표현하기힘들어하시는건처음봐요ㅋㅋㅋ밴쯔님이랑같이초반에기대했는데생각보다낮은3.5점☆댓글에좋은평도있던데역시직접사먹어봐야겠네요.', '오홍', '벤쯔님꼭꼭씹어드세여ㅠㅠ알아서잘하시겠디만소화기관에무리갈까걱정..??', 'ThanksfortheEnglishsubtitles!!!!!!!!!', '11:45발우공양하는느낌ㅋㅋㅋㅋ', '소리너무작아요', '대박오늘완전빨리왔어용ㅜ????', '맛있겟네염힣', 'Ilikehowyoueat..lol', '5:47기대가실망으로바뀌는순간', '이거오늘처음먹었는데너무짜서놀랐어요ㅠㅠ', '헉얘맛있겠당ㅠㅠ매운거랑섞어먹으면좋을듯', '언제나맞있게보고있어용', '24등1분밖에안느졌는데댓이수두룩하다♥', '5:50혼...종..?', '밴쯔팬입니다', '애써말을수습하시는밴쯔님...ㅋㅋㅋㅋㅋㅋㅋ그래도솔직한평이라좋아욬ㅋㅋㅋ', '1등!!', '광고급영상ㄷㄷ응원할게요밴쯔님!', '헐ㄹ♡', '이거진짜마싯..한개너무아쉽고두개이상먹어야해여ㅠㅠ', '라면맛있어보이는사람손', '그와중에딸기에이드와안어울린다고ㅋㅋㅋㅋㅋㅋㅋㅋㅋ밴쯔님귀여워요', '맛있겠다.ㆍ.', '아이배고파', '갈릭버터볶음면에새우삶아서같이먹으면진짜개꿀ㅜㅜㅜ', '거의막판에는빨리이상황을끝내고싶어소와구와구!하고먹는느낌ㅋㅋㅋㅋ한번먹어볼께요ㅇㅁㅇ!', '맛있겡ㅅㅇ다', '침고인당...', '대박', '35빠다ㅠㅠ', '10:56거의컵라면하나를드셨는데..?', '제거는요?ㅠㅠ맛있겠다????', '꼭먹어야징♡', '그나저나젤리티셔츠너무예쁘네요.ㅎ', '밴쯔님영상4일만에보네요ㅠㅠ자님들안녕하세요너무듣고싶었어요ㅠㅠ변하신건없네요ㅠㅠ정주행지금부터ㄱㄱ', '댓글빨리달기!!!!', '밴쯔님먹방오늘도잘보고갑니다.', '맛있겠다', '벤쯔님300만가즈아아아!!!', '맛있을것같아요!한번먹어봐야겠어요', '어우마늘에버터...', '먹어보고싶다', 'thankyouforengsub^_^', '스테이크먹으면서보는중', '맛있겠다ㅠㅠ저도한번먹어봐야겠어요!', '밴츠형치즈죽엇대요ㅠ', '벤쯔님한텐스마일물통이너무잘어울리셔ㅎㅎ기여웡ㅎ', '저도이거먹어봤는데개인적으로는맛있었어요ㅎㅎ!그런데호불호가약간갈릴맛인거는인정!저는무조건맛있다고하시는것보다솔직하게맛평가해주시는벤쯔님이좋습니당^--^', '저는VlP입니다밴쯔님안녕하세용!!!', '651등!!(쩝...늦었네)', '수학여행같다왔어요^ㅎ^', '밴쯔님술도잘다루시나요?', '6빠일찍옴ㅎㅎ', '사러가볼게요ㅎㅎ/또생각날맛은아니네요ㅋㅋㅋㅋㅋ', '느끼할꺼같드아...', '라면...먹고싶다ㄸ', '편의점가서사왔어요!!', '헐저런조합이면맛읎을수가읎자너,,', '잘생겼어요', '항상편의점에서먹을까말까고민했는데밴쯔님덕분에용기내어먹어볼게요!감사합니다!', '진짜파스타로만들면맛있을맛전자레인지로하면맛있어요', 'Tqengsub..', '얼마전첨으로실시간봤는데실시간은영상안올라오나요?', '저는', '저거사먹어봤는데완전존맛탱', '밴쯔님디저트방송해주세요~', '70번째댓글????', '젤리옷', '삼양허니치즈볶음면이랑비교해주실수있을지부탁드려도될까유..!할라피뇨맛나는게비슷할거같아서..!!저것도제조는삼양이라고하니..', '앜밤에보니까라면땡긴다먹고와야지...(먹으면살로갈듯....어떻해)', '밴쯔님곳있음300만명축하해요!', '영상에서귀뚜라미소리나는데저만그런거아닌가요?', '신상인가?ㅋㅋ씨유가면사먹어봐야겟당ㅋㅋ', '갈릭버터라니..맛없을수가없는조합!ㅠㅠ맛있겠당ㅠㅠㅠ밴쯔님이드시니까더맛있어보이네요ㅠㅠ대리만족하고갑니다..^^내일일어나면당장씨유로달려가야겠어요ㅎㅎㅎㅎ영상잘봤습니다~~', '저옷에있는곰잴리도먹어주세요', '댓글에서맛있다길래사먹어봤는데댓글보단밴쯔님의미~묘한표정을더믿을걸그랬네요^^;;', '밴쯔님뉴이스트JR님과먹방한번해주세요~~', '이거그냥먹어도맛있고크래미찢어서비벼먹어도맛있습니당????', 'ㅋㅋㅋㅋㅋ.....며칠전저희집앞CU에신제품나온거보고조만간밴쯔님이먹방하겠구나....생각했었어요...ㅎㅎㅎ~^^;;;역쉬....~^^♥', '바로그집딱볶이해주세영ㅠㅠ', '싫어요0개실화?', '저거맛기괴하던데...우리집에있는거드리고싶다', '역시밴쯔지렸다', '셀레브에서밴쯔님인터뷰한거보고들어옴', '학교축제후해장하고싶어서바로밴쯔님채널레릿고,비몽사몽으로씨유레릿고,지금은물붇고레릿고', '밴쯔님한테는매우셨던듯싶네요~~~양장피드실때겨자소스적게넣고드셨을때처럼고추가루같은양념이아닌마늘이나겨자와사비같은종류에약하신거같아요~~그래도먹고싶어요~~ㅋㅋ', '저도알리오올리오비슷하겠거니했는데...조금다른가보네요!밴쯔님입엔*호인듯한건제느낌인가요^^', '아;;위통;;', '삼양에서만들었던허니치즈볶음면엄청좋아했는데이젠안보여서인터넷으로만주문해먹어요ㅠㅠ그허니치즈볶음면에도할라피뇨오일이들어가서알싸한매콤함이있었는데이것도그런류인가봐요!', '사람마다다르겠지만저한테는너무짰어요', '니맛도ㅡ내맛도ㅡ아닌맛..표현좋다', '이거스파게티콕콕콕이랑믹스해서드셔보세요~~!!!최고임!!!', '편의점신매뉴는역시밴쯔', '이거찐한마늘빵맛임', '밴쯔님떡갈비고작시리즈부탁드려요', '감기때문에일본갈것데힘들어요벤쯔님감기걸리지마요.정말힘들어요.밤에기침때문에잠을못자요', '오레오오즈바로사러갑니다', '이갈릭버터볶음면은얼마인가요??', '엽떡+중국당면+명랑핫도그+교촌허니콤보먹어주세요ㅠㅠㅠ??', '스파게티?', '밴쯔님축카해요책까지나오쎴내요책재목위즈키즈라는책', '그냥까르보불닭맛11분의1정도가나는맛임...두번먹고싶지는않은맛...', '낚였네', '혈관이막히는만큼기가막히는맛이야', '서양에서김치흉내내서음식만들면어설픈것처럼우리도서양재료로퓨전음식만들면맛이어설픈경우가있지요...^^;;;', '호불호많이갈리는맛일듯', '말레이시아오시져?', '저번주에봤는데걍딴거먹음', '??????????????????????????????????', '벤쯔님대전에우송대학교앞쌍둥이네라고분식집이있는데여기먹방꼭해보셨으면좋겠어요!!??진짜여기중독맛집이에요??(가게홍보는아니에요;;!!^^)진짜진짜떡볶이어묵까지맛있어요ㅜㅜ', '보기전에댓달기', '복음면넘맞있겠네요.먹고싶네요.잘보고갑니다.즐거운하루되세요', '423', '전개인적으로생각했던것보다마늘의알싸함보단매콤했고,고소하다기보다는조금느끼에가까웠고,물조절을실패했는진모르지만조금짰어요...솔직히덜짰으면전더좋았을것같네요.', '저거소스조절해서넣으세요저번에아무것도모르고먹었다가저한테는엄청짜더라고요맛있긴했지만제취행은아니었죠...', '버터마늘..맛난지모르것던데님들은', '밴쯔님은역시한개론부족한거였어..', '맛잇다는말으안하시네', '아프리카티비정지당했나요?', '마이크바꿔주세요', '벤쯔형님서브웨이모든음식먹방도좀해주세요!!!!', '이거미니스톱에서15년도에자주먹었다가왜요즘안보이나했더니씨유로갔었군....', '헐과자살때마다맨날보여서먹을까말까했는대밴쯔님이먹어주시니깐기쁘당사랑해용', '갓밴', '그래도선뜻안사짐', '비주얼로봐선맛있겠다', '오', '아!할라피뇨맛?이군요.', 'Ushouldordertomyumonlineitisreallynice.Thetasteissourandlittlespicy', '앙', 'SBS골목식당처럼골목식객으로해서골목길에있는식당음식하나씩다먹어보기컨텐츠어떠신가요?', '5:43', '29등', '19', '가격이어떻게되나요??', '밴쯔님bhc치하오먹어주세요신메뉴나왔어요부탁드리겠습니다', '광고받았나맛이으면맛있다맛없으면맛없다확실하게해주면좋을듯.', '엌', '5개를끓여먹어도여전히알쏭달쏭그럭저럭하다면일반인은1개다먹을동안절대감동못할맛인가본데...궁금하니까오늘사먹어봐야징??', '애가탄다넘늦게먹어', 'T?ihi?uc?ig?t?ich?tli?n:(', 'Ok', '호', '이번라면은좀아닌건가요??', 'ㅎ', '대한민국세상많이변햇내저런것도나오고..', '저는개인적으로이맛도저맛도아닌거같아서별로던데..딱한번먹어볼만한맛이었어요', 'Ho', '두입6:15', '광어먹방해주세요', '별미로는먹어볼만한데또먹고싶다!급은아닌듯...뭔가왜아쉽지.생각보다마늘향이약해서그런가.알싸함은좋은데마늘덕후입장에서는마늘빵급냄새를기대했어서아쉽더라고요.먹다보면갈릭향을버터향이이김ㅠㅠ', '진정한1등은영상을다보고댓글을먼저다는것이다', '밴쯔가최고의먹방러라고인정하는이유는항상새로운메뉴에관심을가지고소개를해준다는점.밴쯔싫어하는부분도있긴하지만먹방에대한열정과관심만큼은최고라고본다.', '삼양라면치즈맛이랑안성탕면해물맛나왔기에밴쯔님생각이나서찾아왔어유기다릴께요어서어서사먹어요!!', '문뜩밴쯔님오프닝보다가떠오른건데밴쯔님로고원피스해적기같아요ㅋㅋㅋ밴쯔카이조쿠단해적기ㅋㅋㅋ해적기그렸었는데나중에밴쯔님로고도그려봐야겠네용????', '????????????????????', '용기에있는새우그림~실제론없어서~새우눈탱이?맞았구나~~~생각했었는데~~~맛도눈탱이?맞은느낌??!!!!ㅋㅋㅋㅋㅋㅋㅋㅋ', 'Kingofmukbang,always!', '??????????????????????', '....', '일본팬이에요~~~!!맨날밴쯔오빠동영상보고먹고싶어도못먹는한국음식대리만족하고있어요....ㅠㅠㅠ밴쯔오빠앞으로도건강하게좋은동영상많이올려주떼용~~~~!!밴쯔오빠쨩??????', 'TryeatingVi?tNamfood', '맛있겠다~^^', '실어요0게실화???ㄷㄷ', '삼양라면에새로나온치즈라면먹어주세요', '????', 'mninij', '그와중에밴쯔님일회용컵줄이고?개인머그컵?사용하시는모습멋지십니다!!!', '.', '표현력답없다걍잘먹을뿐ㅋ', '편의점도시락특집해주세요', '근데밴쯔님입맛에맞지않나보네요.개인적으로무척좋아하는라면이어서맛있게드셔주었으면좋겠는데먹는내내표정이심오하고좋지않아보여요.물론이거는개개인차고모든걸다항상맛있게드실수있는게아니니이해합니다.다만살짝아쉽네요.', '밴쯔님.항상영상잘보고잇엇요!항상라면이나분식같은그런음식이많아보이는데가끔씩좀고급진음식들도드셔주세여ㅠㅠ대리만족좀하게ㅠㅠ돈도잘버시자나요ㅎㅎ부탁드려요~*^^*', '협찬받은거같은데....', '종류는갈수록많아지는데실속은갈수록없어지는라면...', '자기지갑을희생시켜구독자들의지갑을수호하는고물님ㅋㅋㅋㅋㅋ', '가격올리는데제일불만인게과자같은거보면양을줄이거나가격을올리거나해야하는데둘다함', '오늘명언:시~공~좋~아', '하루에구독자100명씩은오르고계시네요ㅎㅎㅎ', '계속리뷰보다보니까브이로그같은것도보고싶네얌...고물의일상..궁금쓰', '요즘이런라면이엄청양산되네요ㅠㅠ이름은좋아하는것만합쳐놨는데,건더기나스프도나오는것마다거기서거기여서그냥걸렀네요..이런종류로제대로맛있는거하나나왔음좋겠네용*.*', '재미있고자세하게설명해주셔서잘보고있어요:D', '항상잘보고있습니다~', '고물님잘보고있어요ㅎㅎ!', '고물님구독자수점점오르고있어요!앞으로도더욱승승장구하시길!!!!저도늘응원할게요??????', '크믿고보는고물님', '이거겁나맛있던데', '오글거리지도않고부담스럽지않고전달력이굉장히좋아요제가본유튜버중에가장깔끔하게영상잘만드시는거같아요!더떴으면좋겠습니다!', '그냥지에스독도새우맛라면을먹겠습니다아...그리고(진에어xe마트라면)리뷰가능하신가요?가격은580원..??', '내취향에맞겠다', '편의점음식이나여타주변에간단한신제품이나오면저도꼭먹어볼려고노력하는데이런제마음과같이고물님채널에서항상먼저좋은정보얻고가요~제품리뷰도많아지고하는데마음에들었던혹은가성비가좋왔던제품같이컨셉별로(?)top5정도소개해주는건어떨까요?ex)버거,컵라면,봉지라면,편의점도시락등등등..?이런것도재미있을거같아서요..!', '0:56최고의대사입니다??', '2:19포도라니ㅋㅋ항상볼때마다느끼는건머릿결이너무좋네요ㅎ조만간엘라스틴에스연락올듯그리고라면에서항상느끼는건데..왜볶음면이지..비빔면아닌가?...따뜻한종류는다볶음면인듯ㅋㅋㅋ아까마침핸드폰을켰는데영상이업로드됐더라고요ㅎㅎ이건고물님과의운명인것이틀림없어ㅎㅎ', '저럴바엔그냥새우탕먹겠습니다ㅠㅠ오늘도잘봤어요!', '오묘~~', '0.7질뻐기ㅋㅋㅋㅋㅋㅋㅋㅋㅋㅋㅋㅋㅋ', '드레싱누들같은비비는스타일???옥수수는맘에드내요♡', '많이짜다고하신걸로봐서는김밥이나샌드위치아니면튀김같은거랑같이먹어야될것같네요ㅎㅎㅎ.', '영상잘보고있어요??유튜브새로시작했어요놀러오세요??', '고물님편의점최애탬top5영상찍는건어떠세요?', '고물이형구독자애칭은꼬물이어때?형근데답글은한번만달고그다음에는똑같은댓글에답글더안달더라', '늘감사', '겜개발하신다고들었는데요즘도하시나요?', '라푼젤ㅋㅋㅋㅋㅋㅋㅋ', '오늘도잼게잘보고가요~', '저는잡고쓰레기통에슛골인돈이아까울것같다', '한번쯤먹어볼만한거네요그냥', '으컵라면은역시육계장', '팬됬어요~ㅎㅎ', '이거오늘처음보고무슨맛일지궁금했는데빠르게올려주셨군요ㅋㅋㅋㅋㅋㅋ감사합니당', '짜라짜라짜라~짜요하시는거중독성있네영ㅎㅎㅎㅎ:)유행어로밀고나가셔야할듯', 'ㄴㄱㄴㄱㄴㄱ...?ㅇㅍㅇㅇㄷ', '우ㅗ아오와왕~뭔가요런라면리뷰에서고물님의맛표현이더빛을발하는것같아여.지금내혀언저리어딘가와콧쿠멍어딘가에저라면이얹혀있는거같아....', '라면치고칼로리는낮지만1600ㅜㅜ요즘라면다비싸요ㅜㅜ', '신상품이네요><저도찾아볼게요><', '왜..신제품라은1500이넘능가', '오리뷰부탁들어주셨네요!ㄱㅅㄱㅅ근데짜다니..이름보곤절대예상치못한짠맛ㄷㄷ어차피콘들어가있는김에통조림옥수수라도넣어먹어봐야하나ㅋㅋㅋ국물없는컵라면좋아해서그렇게라도함조제해서먹어봐야겠어요...ㅋㅋ', '오빠는왜인스턴트많이먹는데살이안쪄요?', '느끼한거좋아해서먹어봤는데마늘바게트맛이랑똑같아서놀랐어요ㅋㄱㅋ', '농심참치마요보다더느낌함니까??', '이거다시내줬으면ㅜㅜ', '참치마요볶음면(?)이맛있었던저는저것도맛있어보이네요ㅋㅋ', '13등', '1600원넘나양아취', '오,,갈릭버터볶음면먹어보려고샀는데리뷰를이제봤네요,,자세히알려주셔서감사합니다', '브로콜리방생에기뻐하다니..명불허전고불호', '초코맛새우깡리뷰해주세요', '믿고보는Gowater!', '어디영상날라갔나요?편집을너무잘해서하하하하하하하트', '맛은어때요???', '이빠닷', '3빠..?', '일빠', '라면특유의짠내가나는건아마모든라면스프에들어있는버섯과멸치등에서추출한감칠맛을구성하는성분이들어있기때문입니다.(msg맛)', '요즘나오는신제품컵라면들은약속이나한듯이1600원이네요ㅎㅎ', '아무리소비자들이관대해졌다곤하지만조리예사진이랑갭이너무크네요ㅋㅋㅋ한국돌아갈때쯤이면새로운라면스무개정도생겨있을것같아요.고물님통해서미리맛봐야겠네여ㅎㅎ', '새로나오는라면들은별로다를것도없는데가격만불려서나오는거같아요.', '국가에서허락한유일한마약.고.물', '씨유갔을때살까말까고민하다그냥놓고나왔는데탁월한선택이었는듯하네요.', '브로콜리를동결건조하니까되게볼폼없어보이네요;차라리시금치를넣는게나았을지도모르겠어요그리고시공250렙으로써시공드립을장난으로치는건초큼불-편하네요!ㅋㅋㅋㅋ', '전삼양라면은면이극혐임.삼양라면은밀가루꾸릉내가유달리심함.', '이거진짜한달용돈다쏟아부었다고해도이상할거없을만큼너무맛있어요특히이거는전자렌지조리해먹으면더맛있구요ㅠㅠㅠ자꾸생각나고매번물조절마다맛이조금씩달라져서너무맛있어요두명한테영업했더니두명다너무맛있다고자꾸생각난다고할정도에요...너무맛있어요이거리뷰보니까또생각나요처음에는저후레이크너무별로였는데지금은식감부터시작해서그냥모든게다맛있어요....또먹고싶다...찬양글같지만맞습니다너무맛있어요이거.........', '요즘라면들은왜케가격양심없냐', '이무슨끔찍한혼종이람', '컨셉은좋은뎅...1600원...구성에비해비싸긴하넴....', '제목보면최애라면각인데생각보다마늘보단버터?크림?의비율이높아보이는듯...그나저나라면1000원초반대도비싸다고느꼈던옛날이그립네요ㅠ요즘은다1500원이상인듯', '오늘아침에이영상보고방금사먹었답니다...진짜맛있어용!!!!!앞으로씨유상품리뷰많이부탁드립니다.?', '잘보고갑니다ㅎㅎ좋아요구독누르고갑니다^^', '면은끊어먹으면라면의대한모욕임', '국물조금남기니까진짜신의한수다', '와....', '편순이세요?', '집사님같은집사로서진ㅁ자부탁드려요제발쭈꾸미랑천사채꼭먹어줘요제발부탁이야제발나16년동안못먹엇어요불쌍한사람구원해준다치고그리고요제가호쥬사는데여기잇는이상한(...특이한)라면이나이런거보내주고싶은ㄷ왜냐면먹방으로보고싶으니까어케하면되져마음만받겟다는말은거절한다', '4년차세요???머지..본지엄청오래됐는데4년밖에안됐나..이집전전집때부터봤는데...친구가개업한바삭돌이본지가엊그제같은디', '갈릭버터볶음면이고나발이고김치진짜맛있겠다', '00:07혹시아프신거아니에요?3개밖에안드시다니.....ㅠㅠ', 'ㅋㅋㅋㅋㅋㅋㅋㅋ먹방4년차맛표현에대한위기감을느껴버려따!', '너비아니가더맛있어보이는건나뿐인가...', '박병진용사님몇번뵜는데영상이랑성격똑같구ㄹㅇ착함ㅠㅠㅠㅠㅠ그때방탈출성공하셨나욤...?퇴근하느라못봤네욤헤헷오늘도배고파지고갑니다...??흥해라흥!!!!', '용사님5일뒤에설빙에서민트초코설빙나온데요ㅋㅋ나중에나오면꼭먹방해주세요...☆', '초창기때부터봐온팬으로써원래맛표현많이하시는스타일은아니셨어용ㅋㅋㅋㅋㅋ맛표현보단너무맛있게먹어서구매욕구를불러오는스타일이신거가타여', '저거약간허니버터칩에마늘하고간장넣은맛남느끼한거좋아하면한번드셔보세용.글고김치랑같이드시는게나아요ㅋㅋ다른라면에비해좀짜다고느낄수있으니소스조절하면서드세여', '저거약간간장소스에말그대로갈릭하고버터맛남그리고와사마요비빔면에느낄수있는특유의코를약간쏘는그런맛임ㅇㅇ', '머리색도갈릭..', '0:53첫입이라개', 'Iloveyourhair,andyourpersonality!Youjustseemlikeagenuineguy:-)', '면보다너비아니가더맛있어보이는건기분탓인가요', '0:28오이고추소주잔에담아보여주셔서오이소주드시는줄알았습니다ㅋㅋㅌㅋㅌㅋㅋㅌㅋㅋㅋㅋ', '주제는갈릭버터볶음면인데너비아니가더맛있어보이는1인ㅋ', '브금빼고몇년동안초심을잃지않는병진님3년동안잘보고있습니다~!~!~!', '?♡??(??????)병진님을위한하트!!', '와진짜맛있겠다ㅠ저도한입아~~~~!ㅠ', '0:29이젠플레이팅도하는........진정고맴ㅋㅋㅋㅋㅋㅋㅋㅋㅋ', '어모나병진님염색이쁜색으로또하셨넹뿌리까지..!!ㅋㅋㅋㅋㅋ레몬병진~!~!!!!그나저나너비아니겁나도톰하니맛나보이네여...주객전도,,,,,,ㅋㅋㅋㅋㅋㅋㅋ', '병진님때문이라도사먹어봐야겠어요ㅋㅋㅌㅋㅋㅋㅋㅋ무슨맛이길래표현을못하시지', '오늘먹을음식은!(들뜸)갈릭버터볶음면', '드디어알림이울렸다!!', '햄벽에있는거불표누', '뭔가저오이고추게임에서게임에나오는어떤목숨같네요ㅋㅋㅋ', '항상5시업로드시간에맞춰서업로드해주셔서너무감사합니다ㅎㅎ', 'ㅁㅊㅋㅋㅋㅋㅋㅋㅋㅋㅋㅋㅋㅋㅋㅋㅋㅋ자막ㅋㅋㅋㅋ짜~~잔~~☆', '너비아니가더맛있는라면먹방이었따~', 'ㅋ오이고추는소주컵에하나씩~특별대우받아마땅함!병진용사님이애정하는오이고추포에버~~!', '남친하고여친사이에낀친구랰ㅋㅋㅋㅋㅋㅋㅋㅋㅋㅋㅋ', '진짜말투ㅋㅋㅋㅋㅋㅋㅋㅋㅋㅋㅋ커엽', '0:27오이고추침투력ㄷㄷ', '그거맛없던데ㅠㅠ', '0:52첫입', '진짜솔직해서너무좋아요ㅎㅎ', '먹울때행복해보여서좋네요ㅎㅎ', '보니까먹고싶다....갈릭버터볶음면에김치떡갈비크~조합봐', 'ㅋㅋㅋㅋ중간에낀맛', '김치랑먹는소리ㅠㅠㅜㅜ', '간장계란밥주세효!!!!', '이거진짜맛있음ㅠㅠ', '1:23표정웃기다ㅋ', '웰케조금드세요?', '(요약)후루룩오물오물아삭아삭후루룩쩝쩝', '잘먹고갑니다!', '그냥너비아니먹방같다ㅋㅋㅋㅋㅋㅋㅋㅋㅋ', '머리넘나귀엽', '대박잘먹음', '너비아니랑김치를더맛있게드시네요ㅋㅋㅋㅋㅋㅋㅋㅋ', '0:28오이고추2개에', '돼지고기편육부탁드립니다특히귓때기오독오독부분~정말듣고보고싶습니다.', '지하~??', '아니저런갑작스런고해성사...ㅋㅋㅋㅋㅋㅋㅋㅋㅋㅋㅋㅋㅋㅋㅋ', '키야~기름좔좔버터맛있겠다~먹어봐야겠음^0^', '저거맛있죠ㅠㅠㅠㅠ전저거너무제스타일이라서가격이쪼금있지만먹는답니다?저기에국물조금넣어서김밥이랑같이먹으면완전대박이죠ㅠㅠㅠ??', '오늘따라완죤비버같구짱귀엽다', '0:52', '머리색이쁘네욯ㅎㅎ', '용사님먹을때볼더빵빵해지는거ㅋㅋ넘귀여우셔요.오물오물거릴때빨라지는턱.ㅋㅋㅋㅋㅋ', 'ㅋㅋ재미있군', '어머!먹방4년차!!축하해요!!', '나름주인공이었는데커플사이에낀눈치없는친구ㅋㅋㅋ', '엄마분장영상보다...왔네요~^^맛나게드쇼~', '콩나물어디있어여', '비디오에서좋은직장!그것은매우즐거웠다!??????', '앗용사님저도저티셔츠있는데...ㅋㅋㅋㅋㅋㅋㅋㅋ(매우반갑)', 'CU치즈맛라면먹어주세요진짜맛있어요!', '갈릭버터짱좋아!!!!!!!마늘맛많이나면좋겠네용', '너무맛있게드셔서라면3개먹음ㅎㅎ', '저도미각을잃었어요..ㅋㅋ', '틱톡보다형핫도그먹는거봐서바로달려옴ㅋㅋㅋㅋ', '백종원선생님인줄ㅋㅋㅋㅋ', '오맛나겠다갈릭버터면~~', 'ㅎㅎㅎ', '그렇게밋있게먹어야후련했냐~!!!!!', '자막있는게너무좋네요', '헐오랜만에이분영상보는데구독자수엄청늘엇네요대박ㅋㅊㅊㅊㅊㅊㅊ', '와오져다뼈빠지게둥둥탁', '오랜만에다시보는데염색하셨네요~', '저거먹어봤는데약간맵고맛있어요.', '고추는매일있넼ㅋㅋ', '안녕하세요!', '스워디고다시해주세요제발요..안되나요~~~♬?', '일찍왔다', '머리색이랑비슷한색이네용~~!갈릭버터헤어스타일~~~!!', '오이고추를왜소주병에ㅋㅋㅋㅋㅋㅋㅋ', '맛표현은원래부터....ㅋㅋ그냥머든맛있게드셔서넘조아요', '면색깔이랑머리색이랑비슷하네요배고프다', '진심으로사랑해요진짜로사랑해요용사님', '우와', '아너비아니곁들여주시는센스는대체어디서...????????', '맛있겟어요', '3개만맛보시다니..뭘좀아시는군..??', '맛없는데맛없다고차마말은못하겠고ㅋㅋㅋㅋㅋㅋㅋㅋ답답할듯', '제가진짜오랜만에봐서그런데후식이가안보이네요,,,,,', '0:28:05', '이거맛있는데..ㅠㅠ느끼하다고느끼시는분들이많구나??알싸한맛이좀있어서느끼하진않던데..', '탈색하셨어용???', '동지...', '오맛잇어보야요', '역시김치는엄마가해준김치!!', '병진님영상보면왠지힐링돼요..착함이뿜뿜해서인가', '머리색이조만간백색되는거아니예요?ㅋㅋ', '아핫', 'ㄹㅇ여전한유튜버1위', '저거먹어봤는데역겨울정도로짜요...진짜로...제입맛은그래요...근데진짜짜요...ㅜㅜ', '헐랭쓰염색하셨네', '개맛있겠다', '스..스물여덟..91년생이세요??!??오우생각보다어리시네요어쩐지너무귀여우셧덩아잉~??', '너비아니맛있겠다', '병진님영상보고배고파서라면먹었...', '갈릭버터볶음면난엄청맛있어!젤루좋아', '아너비아니랑김치진짜맛있겠다', '참치마요먹방해줘요', '떡갈비와김치가다했네요????????볶음면은사이드메뉴가되어버린??????ㅎ오늘도넘잘봤어영~츄릅~?', '야외먹방일기편백나무샤브찜해주세요!', '대박잘억음', '병진님왜앞머리만감으셨나요', '오이고추플레이팅즤리네ㅎ', '처음으로끝까지다봤어요', '쇼파는어디갔어요?', '용사님을좋아하지만구독할수없는이유가있어요..보고나면꼭그음식을먹게되더라그말입니다..하아..', '오마자마자설빙에서민초빙수ㅎㅎㅎ개조아민초단가즈아', '접시에받아서먹지잘안보인다...', '니뽕내뽕야외먹방', '용사님솔직하게말해여너비아니가더마싯었죠', '벽에붙어있던햄후레이크엄청신경쓰였는데용사님이마지막에싹싹긁어먹어주셔서평온해졌습니다.ㅎㅎ^^', '예전영상보다생각났는데고추장찌개직접끓여서먹방해주세요ㅠㅠ피콕고추장찌개였어서좀아쉽', '족발족발족발족발!!!!!!!!', '다들빠르다', '병진님정식이랑머리색이같아졌어요!!!!정식이아빠!!', '젓가락....어디서구매하셨는지기억안나시겠죠....?너무탐나......', '병진형곤약면맛있다며', '시작부터손과얼굴이빨개져따!!', '김치없인못먹을맛인가요?ㅋ', '다이어트언제할꺼에요?할생각없다면죄송합니다...', '머리도갈릭볶음면', '?오이고추왜소주잔에있죠', '용사님영상은양치하고봐도밥이땡기게만드는힘이있네요..밥먹고와야지~??????', '30만명가즈아', '동성로낭만쭈꾸미먹어주세요!', '딱간장소스보다연한간장맛에버터에약간알싸한마늘에면맛', '근대병진이유튜버염색햇내요?', '방금밥먹었는데병진님라면먹방보고나도라면먹고싶다는생각중(ing…)', '와김치의4분의3이없어짐...', '갈릭버터솔직히조금느끼한감이있더라구용갈릭맛은어디있는지허니버터칩?병진님말대로치즈맛이나기도하고좀먹다보면질리는라면??????????돈주고사먹기는비추하는라면이에용!!??차라리리얼치즈라면이나파스타라면을드시는게낳아요저는진짜비추입니당용사님도haha같으생각을하셨을것같으네용??????', '예감갈릭버터맛이라하면되지않나그거너무마늘맛나서못먹겟던뎅', '댓글은4인데좋아요는0이네..댓글다는것보다좋아요누르는게쉽지않나..ㅋㅋ꾸욱누르고갑니당', '매운버터???!!!끔찍한혼종이다', '김치전드셔주세요!!', '용사님먹방보면항상뭔가먹고싶어집니다.쓰까묵기도잘하시네요.뭔가생각하면서먹는듯한...ㅋㅋㅋ아...라면끊이러가야겠어요.', '병진님머리색이랑면색이랑비슷하네요', '맛은궁금하지만사먹진않아야지', '호혹혹ㅡㅡㅡㅡ', '집에서음식을처치하는박병진용사님구독자수많아졌음좋겠다...☆', '면색깔이병진님머리카락색깔이랑똑같네요!', 'Marvaherman이라는사람이이상한링크올려주는데이것좀빨리처리해주세요ㅠㅠ깨끗한댓글을위해!', '나는저거..치즈볶이냄새나서먹었다가3가닥에그런충격적인냄새가잇는줄몰랐음맛은있었음하지만저거남자친구나중요한일있으면먹지마셈맛은있으나입냄새많이날거같은맛임', '와오이고추고급스럽네요레스토랑에있을것같은느낌', '뭔가마늘빵맛날듯', '용진이형짜장면이먹고싶으니담에는짜장면먹어줘요', '?ㅇ??ㅇ?맛보다의의미가식사였나??', '빨리100만가즈아!!!!!!!!!!!!!!!!!!!!!!!!!!!!!!!!!!!!!!!', 'ㅎ', '진짜끌리는느낌의방송은병진님이최고다원래는보통욕조금하는데병진님은안하시니까좋다', '내꺼만하네', '이형갈수록볼살과턱살이더풍성해지고있어!', '결국사고싶지않은맛이라이건가', '병진이의야외먹방일기', '가끔생방할때아바타먹방하면좋겟다시청자가김치먹으라면먹고라면한입먹으라면먹고오이고추먹으라면먹는아바타먹방', '맛없는것도늘맛나게잘드시는분인데..이건정말더럽게맛없나보다..', '개인적으로좀물이많이필요한라면ㅎ', '개인적으로진짜짭기만짭고맛없음..그냥느끼한마늘향에소금에라면비빈맛..그냥느끼한소금라면', '언제부터용사님이집사가된거지..ㅋ', '형님옆머리신경많이쓰이져?저도형처럼심한직모인데형은며칠에한번씩머리깎으세요?', '이분김치랑김이랑밥먹었을때가엊그제같은데', '맛이참치마요비빔면비슷할것같다..', '!', 'H', '오늘은라면세개랑너비아니랑오이고추두개만먹어야지정량먹방해야되니까데헷', '너혹시비아니?...', '너희가너비아니를아니???', '그런데용사임은인터넷에서산너비아니가어떤인터넷졸린지알려주실수있으세여ㅣㅛ?', '요즘골목식당보시나요?백종원이맛없을때하는행동인데요한입드시고고민하는모습이(결론:맛이가없지만난먹방한다)', '용사님중국당면먹방해주세여ㅜ엽떡에', '율송님아프지마세요ㅠㅠ율동이들맘이아프답니다.????푹쉬시면서빨리낫길바라요????오늘도영삿잘보고갑니당~!!', '지금사러갑니다', '무엇보다도아프지않는게우선입니다..율송님아프시면우리구독자분들도맘이많이아플거에요..너무무리하지마시구건강먼저되찾은후에영상찍으셔도좋을거같아요!!치료잘받으시구율송님의좋은소식기다리구있을게요!!^^', '이거CU갈릭버터볶음면함먹어볼까하다가망설이다그냥가버렸는데..율송님영상보니다시사러가야겠네요ㅎㅎ출근길이거간단하게먹구출근해도좋을거같아요!!^^', '눈관리잘하시고오세용??요즘은라면들이많이나와서한귝가서라면만먹어도다못먹고올거같은느낌이예요??????', '헠율송님아프지마세요ㅠㅠ!!저희율동들은율송님이건강해지신모습으로오실때까지기다릴께요ㅠ', '율송님아프지마세여ㅠㅜ그리고앞으로나올뚱카롱과케잌먹방기대할께용!!', 'ㅋㅋㅋㅋㅋㅋㅋㅋ역시나오늘도솔직한리뷰잘봤습니다ㅎㅎ편순이인데아직도발주가안돼서슬프네요ㅜㅠ있으면먹을만하다하시니한번쯤먹어보고싶네요!??', '에궁ㅠㅠ아프지마세요율송님ㅠㅠㅠ올려주시는방송보면서기다릴테니까얼른완쾌하시길바라요ㅠㅠ????', '율송님표현이너무귀여워요!!영상초반부터드시기에양이적지않나했는데역시조금부족했네요.주말동안푹쉬시면서쾌차하시길바래요??', '율동이가아프지말라구기도하구있굴게요ㅠㅠ언니건강하시규용????????', '요즘라면종류가다양하고개성있네요.저도사먹으로gogo~!^^', 'ㅋㅋㅋㅋㅋ햄이하나라니..ㅠ', '단발하면이쁠거같애요', '지금바로사러고고씽하갰습니다ㅋㅋ', '눈건강잘챙기십쇼!!', '매력이넘치시네ㅋㅋㅋㅋㅋㅋ행복하셨으면해요', '양이넘작아용ㅜㅜ', '언니ㅜㅜㅜㅜ아프지마세요..ㅜㅜ항상잘보구있고응원합니당!!!♡!♡!♡', '저도율송님이있어서행복해요♥', '율송님영상너무좋은것같아요...', '인스타글보고넘놀랏엇어요ㅠㅠ언니꼭푹쉬고하고싶은거먹고싶은거다해요???????????', '깐지나는안대쓰고해줘요ㅎㅎ멋질듯ㅎㅎ', '기여워진짜ㅠㅠ오물오물', '눈건강해져라얍ㅋ', '율송님오늘리뷰도잘보고갑니다~좋은주말되세요??', '율송님눈빨리나으세요ㅜㅜ건강하게돌아오시는모습기달리고있을께요^^', '제가봐도양이작아보이네요3개는먹어야될것같습니다....', '아고ㅠㅠㅠ결막하출혈이라니ㅠㅠ지금은좀괜찮으신가요ㅜㅜ눈먼저낫는게먼저니까넘조급히생각하지마시고무리하지마세용ㅠㅠ얼른나으셨음좋겠어요??!!!기다리구있을게용????', '이거저맛잇엇음ㅋ', '예쁘네ㅎㅎ', '세븐일레븐편의점강릉교동반점짬뽕컵라면맵고맛있대요리뷰해주세요ㅠㅠ', '라면회사가다들별별걸만들어내내염ㅋㅋㅋㅋㅠㅠ무슨라면까지나오려나', '저도쏭님영상보면서행복해요>_<♡', '오내일먹어봤야됐겠네요추천했줘서고맙워요ㅎㅎㅎㅎㅎ', '언니힘내용♡♡♡눈관리잘하시공빨리뵈요???', '에고..눈언능나으시길바랍니다', '율송화이띵', '이제율송이님혼자의몸이아니에요율동이도지분이있어요ㅠㅜ치료잘하시구푹쉬고건강하게다시돌아와요!!!', '헉뚱카롱너무기대된다', '칵테일초콜릿도영상있으면얼른보고싶네요ㅎㅎ날씨가많이추워졌는데감기안걸리게조심해요누나!!', '누나얼른나아요ㅠㅠ사랑해요♥♥♥♥', '맵나요?', '아이고ㅠㅠ아프지말구꼭완쾌해서오세요기다리고있을게요ㅎㅎㅎ', '결마카뭐란가조심하시고항상리뷰잘해주셔서고맙습니다아', '아프다니....ㅠ엉엉ㅠ쾌차하시길바라요!', '내가1빠', '오른쪽팔왜그러세융??ㅠㅠㅠㅠㅠㅠ??멍심하게나셧네용ㅠㅠㅠㅠㅠㅠㅠ어뜩해ㅐㅠㅠ', '커엽=)커엽해서돌아오세오', '빨리완쾌되길바래요안대쓰고먹방해도그나름대로귀여울거같기는하지만ㅎㅎ', '울-하??????', 'WoW!!!맛나겠어요~~', '핳', '다이어트해요?', 'https://youtu.be/7r-a3q_Av48우연히시청하던외국유튜브채널에율송님이띠용!', 'Socute!', '?', '????', '여러분들~제가CU신상!갈릭버터볶음면을먹었습니다!오예이예~혹시드셔보신분이있으시다면,여러분의생각은어땠는지알려주세용호홋오늘도지니영상보러와주셔서감사합니다~♡', '언니편집실력이엄청는느낌!!', '와6개!ㅋ개이득..어떤분은1개들어있는거봣슴ㅋㅋㅋㅋㅋㅋ', '후기보고제끼겠습니다ㅎㅎ', '제가너무좋아할것같은라면이네요!꼭먹어보겠어요!', '오저거편의점에서보고먹어볼까하다가못먹었는데먹어봐야겠어요!!갈릭이랑버터중에향이뭐가더강한가요?', '화이팅입니다!헿', '군침도네요ㅎㅎ좋아요구독누르고갈게요^^', '우와~~~처음보는면이네요!!!ㅋㅋㅋㅋㅋ오일파스타맛도날꺼같고정말맛있겠네요!!ㅋㅋㅋㅋ영상잘보고갑니당~~~ㅋㅋㅋ', '이따야식해야징^~^', '만두속이솨라있네요!!!!구독누르고갈게요~~!', '히지님안녕하세요?만두도좋고갈릭버터볶은면~~~참좋습니다제가구독31번째이네요꾹~~~했습니다감사합니다제채널도놀러와주실거죠?꾹~~~~감사합니다', '오우맛있게잢숪싮넶', 'ㅋㅋㄱㅋ', '목소리바뀌셨넹좀더걸쭉해졌다해야할까...', '갈릭버터볶음면진짜맛있어서흡입했어요!다음엔두개사와야겠습니다...영상재밌게보셨다면[좋아요]와[구독버튼]부탁드려요!', '구독합니다!!좋은소통이어가며함께해요~풀시청하고가요^^기분좋은하루되세요~알람도꾸욱!!', '어!!저런컵라면을한번도못봤는데.신기하닷!오늘편의점가서다시한번뒤적거려야지맛있는음식과소리감사합니다', '저라면거의매일먹어요ㅎ댓글타고왔습니다초보유튜버입니다라면너무좋아합니다구독알람설정하고가요제채널도놀러오세요자주뵈요??', '랴랴님무슨일있으신가요이번주왜안오시나욤ㅠㅠ', '개인적인생각이지만지금동영상길이가딱좋은거같아요!!ㅎㅎㅎ왜이렇게맛있게드시는거에요!!!!!!지금당장편의점으로달려갑니다!!!!']\n"
     ]
    }
   ],
   "source": [
    "label_list = []\n",
    "comment_list = list(garlic['Comments'])\n",
    "print(comment_list)"
   ]
  },
  {
   "cell_type": "code",
   "execution_count": null,
   "metadata": {
    "id": "iy6xgFegM8tu"
   },
   "outputs": [],
   "source": [
    "label_list = []\n",
    "for item in comment_list:\n",
    "    label_list.append(sentiment_predict(item))"
   ]
  },
  {
   "cell_type": "code",
   "execution_count": null,
   "metadata": {
    "id": "I3TWymiXM8tw",
    "outputId": "415f3221-0c4c-470c-b3d2-53ac5c547daa"
   },
   "outputs": [
    {
     "data": {
      "text/html": [
       "<div>\n",
       "<style scoped>\n",
       "    .dataframe tbody tr th:only-of-type {\n",
       "        vertical-align: middle;\n",
       "    }\n",
       "\n",
       "    .dataframe tbody tr th {\n",
       "        vertical-align: top;\n",
       "    }\n",
       "\n",
       "    .dataframe thead th {\n",
       "        text-align: right;\n",
       "    }\n",
       "</style>\n",
       "<table border=\"1\" class=\"dataframe\">\n",
       "  <thead>\n",
       "    <tr style=\"text-align: right;\">\n",
       "      <th></th>\n",
       "      <th>Comments</th>\n",
       "      <th>label</th>\n",
       "    </tr>\n",
       "  </thead>\n",
       "  <tbody>\n",
       "    <tr>\n",
       "      <th>0</th>\n",
       "      <td>갈릭버터볶음면!!저도먹어볼게요^^*</td>\n",
       "      <td>1</td>\n",
       "    </tr>\n",
       "    <tr>\n",
       "      <th>1</th>\n",
       "      <td>맛있을것같아요!겉포장도이쁘네요</td>\n",
       "      <td>1</td>\n",
       "    </tr>\n",
       "    <tr>\n",
       "      <th>2</th>\n",
       "      <td>5:43첫입</td>\n",
       "      <td>0</td>\n",
       "    </tr>\n",
       "    <tr>\n",
       "      <th>3</th>\n",
       "      <td>ㅠㅠ밴쯔님ㅠㅠㅠㅠ맛표현좀제대로해주셧으면조켓어요..ㅋㅋㅋㅋ애가타는마음,,,ㅠㅠ맨날궁금...</td>\n",
       "      <td>0</td>\n",
       "    </tr>\n",
       "    <tr>\n",
       "      <th>4</th>\n",
       "      <td>컵라면5개가밴쯔님한테는왜이리적어보일까요ㅋㅋ제가먹으면2개먹고느끼해서못먹겠지만요ㅋㅋㅋ</td>\n",
       "      <td>1</td>\n",
       "    </tr>\n",
       "    <tr>\n",
       "      <th>5</th>\n",
       "      <td>아니...어떻게한젓가락이1인분같은데두세번씹고넘기지....목구멍이어떻게생긴거야.......</td>\n",
       "      <td>0</td>\n",
       "    </tr>\n",
       "    <tr>\n",
       "      <th>6</th>\n",
       "      <td>밴쯔님!안성탕면해물로새로나왔어요!!다음먹방으로부탁드려요!!지금먹고있는데맛괜찮네요!벌...</td>\n",
       "      <td>1</td>\n",
       "    </tr>\n",
       "    <tr>\n",
       "      <th>7</th>\n",
       "      <td>honestlylookgoodalsoiffullofconservantkkkk</td>\n",
       "      <td>1</td>\n",
       "    </tr>\n",
       "    <tr>\n",
       "      <th>8</th>\n",
       "      <td>벤쯔님쫌씹고삼키세욬ㅋㅋㅋ너무안씹고삼키시는거같아요그면몸에안좋아용ㅎㅎ</td>\n",
       "      <td>0</td>\n",
       "    </tr>\n",
       "    <tr>\n",
       "      <th>9</th>\n",
       "      <td>이거짱맛있어요ㅠㅠ버터향도나고마늘향도나고근데매콤해.대존맛.한번만드셔보세요??????</td>\n",
       "      <td>1</td>\n",
       "    </tr>\n",
       "    <tr>\n",
       "      <th>10</th>\n",
       "      <td>라면이나음식리뷰는밴쯔님채널에서</td>\n",
       "      <td>0</td>\n",
       "    </tr>\n",
       "    <tr>\n",
       "      <th>11</th>\n",
       "      <td>오늘학교에서힘들었는데밴쯔님영상보니까기분이좋아지네요??</td>\n",
       "      <td>1</td>\n",
       "    </tr>\n",
       "    <tr>\n",
       "      <th>12</th>\n",
       "      <td>첫입먹고다섯번도안씹는거같은ㅋㅋ진공청소기느낌이네요</td>\n",
       "      <td>1</td>\n",
       "    </tr>\n",
       "    <tr>\n",
       "      <th>13</th>\n",
       "      <td>저거먹어봤는데진짜맛있던데이거보니까편의점가야겠네...</td>\n",
       "      <td>1</td>\n",
       "    </tr>\n",
       "    <tr>\n",
       "      <th>14</th>\n",
       "      <td>그릇이세숫대야같아요ㅋㅋ</td>\n",
       "      <td>1</td>\n",
       "    </tr>\n",
       "    <tr>\n",
       "      <th>15</th>\n",
       "      <td>MuchloveasalwaysfortheEnglishsubs????????</td>\n",
       "      <td>0</td>\n",
       "    </tr>\n",
       "    <tr>\n",
       "      <th>16</th>\n",
       "      <td>보디빌더대회준비중밴쯔님먹방보면서항상대리만족합니다저도하루빨리대회끝나고밴쯔님처럼폭풍흡힙...</td>\n",
       "      <td>1</td>\n",
       "    </tr>\n",
       "    <tr>\n",
       "      <th>17</th>\n",
       "      <td>IappreciatetheenglishSUB!!:D</td>\n",
       "      <td>0</td>\n",
       "    </tr>\n",
       "    <tr>\n",
       "      <th>18</th>\n",
       "      <td>이거맛있어요알바하면서자주먹었어요</td>\n",
       "      <td>1</td>\n",
       "    </tr>\n",
       "    <tr>\n",
       "      <th>19</th>\n",
       "      <td>편의점에서이거먹고집에오는길인데소름이네요ㅎㅎㅎㅎㅎㅎㅎ와우</td>\n",
       "      <td>1</td>\n",
       "    </tr>\n",
       "    <tr>\n",
       "      <th>20</th>\n",
       "      <td>오오!!!</td>\n",
       "      <td>0</td>\n",
       "    </tr>\n",
       "    <tr>\n",
       "      <th>21</th>\n",
       "      <td>Garlicfriedsoundsfantastic,thanksfortheEnglish...</td>\n",
       "      <td>0</td>\n",
       "    </tr>\n",
       "    <tr>\n",
       "      <th>22</th>\n",
       "      <td>맛있겠어요..저씨유알반데먹어봐야할듯</td>\n",
       "      <td>1</td>\n",
       "    </tr>\n",
       "    <tr>\n",
       "      <th>23</th>\n",
       "      <td>배고파ㅠㅜㅠ</td>\n",
       "      <td>1</td>\n",
       "    </tr>\n",
       "    <tr>\n",
       "      <th>24</th>\n",
       "      <td>6:03라면을스파게티처럼드시네요ㅋㅋㅋ</td>\n",
       "      <td>1</td>\n",
       "    </tr>\n",
       "    <tr>\n",
       "      <th>25</th>\n",
       "      <td>Youveryclearlydon'tlikeit,butyoufinishit.Thaaa...</td>\n",
       "      <td>0</td>\n",
       "    </tr>\n",
       "    <tr>\n",
       "      <th>26</th>\n",
       "      <td>4:35트트로베리에이드형너무귀여워요</td>\n",
       "      <td>0</td>\n",
       "    </tr>\n",
       "    <tr>\n",
       "      <th>27</th>\n",
       "      <td>이렇게맛표현하기힘들어하시는건처음봐요ㅋㅋㅋ밴쯔님이랑같이초반에기대했는데생각보다낮은3.5...</td>\n",
       "      <td>1</td>\n",
       "    </tr>\n",
       "    <tr>\n",
       "      <th>28</th>\n",
       "      <td>오홍</td>\n",
       "      <td>1</td>\n",
       "    </tr>\n",
       "    <tr>\n",
       "      <th>29</th>\n",
       "      <td>벤쯔님꼭꼭씹어드세여ㅠㅠ알아서잘하시겠디만소화기관에무리갈까걱정..??</td>\n",
       "      <td>0</td>\n",
       "    </tr>\n",
       "    <tr>\n",
       "      <th>30</th>\n",
       "      <td>ThanksfortheEnglishsubtitles!!!!!!!!!</td>\n",
       "      <td>0</td>\n",
       "    </tr>\n",
       "    <tr>\n",
       "      <th>31</th>\n",
       "      <td>11:45발우공양하는느낌ㅋㅋㅋㅋ</td>\n",
       "      <td>1</td>\n",
       "    </tr>\n",
       "    <tr>\n",
       "      <th>32</th>\n",
       "      <td>소리너무작아요</td>\n",
       "      <td>0</td>\n",
       "    </tr>\n",
       "    <tr>\n",
       "      <th>33</th>\n",
       "      <td>대박오늘완전빨리왔어용ㅜ????</td>\n",
       "      <td>1</td>\n",
       "    </tr>\n",
       "    <tr>\n",
       "      <th>34</th>\n",
       "      <td>맛있겟네염힣</td>\n",
       "      <td>1</td>\n",
       "    </tr>\n",
       "    <tr>\n",
       "      <th>35</th>\n",
       "      <td>Ilikehowyoueat..lol</td>\n",
       "      <td>0</td>\n",
       "    </tr>\n",
       "    <tr>\n",
       "      <th>36</th>\n",
       "      <td>5:47기대가실망으로바뀌는순간</td>\n",
       "      <td>0</td>\n",
       "    </tr>\n",
       "    <tr>\n",
       "      <th>37</th>\n",
       "      <td>이거오늘처음먹었는데너무짜서놀랐어요ㅠㅠ</td>\n",
       "      <td>1</td>\n",
       "    </tr>\n",
       "    <tr>\n",
       "      <th>38</th>\n",
       "      <td>헉얘맛있겠당ㅠㅠ매운거랑섞어먹으면좋을듯</td>\n",
       "      <td>1</td>\n",
       "    </tr>\n",
       "    <tr>\n",
       "      <th>39</th>\n",
       "      <td>언제나맞있게보고있어용</td>\n",
       "      <td>1</td>\n",
       "    </tr>\n",
       "    <tr>\n",
       "      <th>40</th>\n",
       "      <td>24등1분밖에안느졌는데댓이수두룩하다♥</td>\n",
       "      <td>0</td>\n",
       "    </tr>\n",
       "    <tr>\n",
       "      <th>41</th>\n",
       "      <td>5:50혼...종..?</td>\n",
       "      <td>0</td>\n",
       "    </tr>\n",
       "    <tr>\n",
       "      <th>42</th>\n",
       "      <td>밴쯔팬입니다</td>\n",
       "      <td>0</td>\n",
       "    </tr>\n",
       "    <tr>\n",
       "      <th>43</th>\n",
       "      <td>애써말을수습하시는밴쯔님...ㅋㅋㅋㅋㅋㅋㅋ그래도솔직한평이라좋아욬ㅋㅋㅋ</td>\n",
       "      <td>0</td>\n",
       "    </tr>\n",
       "    <tr>\n",
       "      <th>44</th>\n",
       "      <td>1등!!</td>\n",
       "      <td>0</td>\n",
       "    </tr>\n",
       "    <tr>\n",
       "      <th>45</th>\n",
       "      <td>광고급영상ㄷㄷ응원할게요밴쯔님!</td>\n",
       "      <td>1</td>\n",
       "    </tr>\n",
       "    <tr>\n",
       "      <th>46</th>\n",
       "      <td>헐ㄹ♡</td>\n",
       "      <td>1</td>\n",
       "    </tr>\n",
       "    <tr>\n",
       "      <th>47</th>\n",
       "      <td>이거진짜마싯..한개너무아쉽고두개이상먹어야해여ㅠㅠ</td>\n",
       "      <td>1</td>\n",
       "    </tr>\n",
       "    <tr>\n",
       "      <th>48</th>\n",
       "      <td>라면맛있어보이는사람손</td>\n",
       "      <td>1</td>\n",
       "    </tr>\n",
       "    <tr>\n",
       "      <th>49</th>\n",
       "      <td>그와중에딸기에이드와안어울린다고ㅋㅋㅋㅋㅋㅋㅋㅋㅋ밴쯔님귀여워요</td>\n",
       "      <td>0</td>\n",
       "    </tr>\n",
       "  </tbody>\n",
       "</table>\n",
       "</div>"
      ],
      "text/plain": [
       "                                             Comments  label\n",
       "0                                 갈릭버터볶음면!!저도먹어볼게요^^*      1\n",
       "1                                    맛있을것같아요!겉포장도이쁘네요      1\n",
       "2                                              5:43첫입      0\n",
       "3   ㅠㅠ밴쯔님ㅠㅠㅠㅠ맛표현좀제대로해주셧으면조켓어요..ㅋㅋㅋㅋ애가타는마음,,,ㅠㅠ맨날궁금...      0\n",
       "4       컵라면5개가밴쯔님한테는왜이리적어보일까요ㅋㅋ제가먹으면2개먹고느끼해서못먹겠지만요ㅋㅋㅋ      1\n",
       "5   아니...어떻게한젓가락이1인분같은데두세번씹고넘기지....목구멍이어떻게생긴거야.......      0\n",
       "6   밴쯔님!안성탕면해물로새로나왔어요!!다음먹방으로부탁드려요!!지금먹고있는데맛괜찮네요!벌...      1\n",
       "7          honestlylookgoodalsoiffullofconservantkkkk      1\n",
       "8                벤쯔님쫌씹고삼키세욬ㅋㅋㅋ너무안씹고삼키시는거같아요그면몸에안좋아용ㅎㅎ      0\n",
       "9       이거짱맛있어요ㅠㅠ버터향도나고마늘향도나고근데매콤해.대존맛.한번만드셔보세요??????      1\n",
       "10                                   라면이나음식리뷰는밴쯔님채널에서      0\n",
       "11                      오늘학교에서힘들었는데밴쯔님영상보니까기분이좋아지네요??      1\n",
       "12                         첫입먹고다섯번도안씹는거같은ㅋㅋ진공청소기느낌이네요      1\n",
       "13                       저거먹어봤는데진짜맛있던데이거보니까편의점가야겠네...      1\n",
       "14                                       그릇이세숫대야같아요ㅋㅋ      1\n",
       "15          MuchloveasalwaysfortheEnglishsubs????????      0\n",
       "16  보디빌더대회준비중밴쯔님먹방보면서항상대리만족합니다저도하루빨리대회끝나고밴쯔님처럼폭풍흡힙...      1\n",
       "17                       IappreciatetheenglishSUB!!:D      0\n",
       "18                                  이거맛있어요알바하면서자주먹었어요      1\n",
       "19                     편의점에서이거먹고집에오는길인데소름이네요ㅎㅎㅎㅎㅎㅎㅎ와우      1\n",
       "20                                              오오!!!      0\n",
       "21  Garlicfriedsoundsfantastic,thanksfortheEnglish...      0\n",
       "22                                맛있겠어요..저씨유알반데먹어봐야할듯      1\n",
       "23                                             배고파ㅠㅜㅠ      1\n",
       "24                               6:03라면을스파게티처럼드시네요ㅋㅋㅋ      1\n",
       "25  Youveryclearlydon'tlikeit,butyoufinishit.Thaaa...      0\n",
       "26                                4:35트트로베리에이드형너무귀여워요      0\n",
       "27  이렇게맛표현하기힘들어하시는건처음봐요ㅋㅋㅋ밴쯔님이랑같이초반에기대했는데생각보다낮은3.5...      1\n",
       "28                                                 오홍      1\n",
       "29               벤쯔님꼭꼭씹어드세여ㅠㅠ알아서잘하시겠디만소화기관에무리갈까걱정..??      0\n",
       "30              ThanksfortheEnglishsubtitles!!!!!!!!!      0\n",
       "31                                  11:45발우공양하는느낌ㅋㅋㅋㅋ      1\n",
       "32                                            소리너무작아요      0\n",
       "33                                   대박오늘완전빨리왔어용ㅜ????      1\n",
       "34                                             맛있겟네염힣      1\n",
       "35                                Ilikehowyoueat..lol      0\n",
       "36                                   5:47기대가실망으로바뀌는순간      0\n",
       "37                               이거오늘처음먹었는데너무짜서놀랐어요ㅠㅠ      1\n",
       "38                               헉얘맛있겠당ㅠㅠ매운거랑섞어먹으면좋을듯      1\n",
       "39                                        언제나맞있게보고있어용      1\n",
       "40                               24등1분밖에안느졌는데댓이수두룩하다♥      0\n",
       "41                                       5:50혼...종..?      0\n",
       "42                                             밴쯔팬입니다      0\n",
       "43              애써말을수습하시는밴쯔님...ㅋㅋㅋㅋㅋㅋㅋ그래도솔직한평이라좋아욬ㅋㅋㅋ      0\n",
       "44                                               1등!!      0\n",
       "45                                   광고급영상ㄷㄷ응원할게요밴쯔님!      1\n",
       "46                                                헐ㄹ♡      1\n",
       "47                         이거진짜마싯..한개너무아쉽고두개이상먹어야해여ㅠㅠ      1\n",
       "48                                        라면맛있어보이는사람손      1\n",
       "49                   그와중에딸기에이드와안어울린다고ㅋㅋㅋㅋㅋㅋㅋㅋㅋ밴쯔님귀여워요      0"
      ]
     },
     "execution_count": 86,
     "metadata": {
      "tags": []
     },
     "output_type": "execute_result"
    }
   ],
   "source": [
    "garlic['label']=label_list\n",
    "garlic.head(50)"
   ]
  },
  {
   "cell_type": "code",
   "execution_count": null,
   "metadata": {
    "id": "i_83K8uCM8ty"
   },
   "outputs": [],
   "source": []
  }
 ],
 "metadata": {
  "colab": {
   "collapsed_sections": [
    "8cnVN6f5M8sh",
    "FXxePpBAM8sr",
    "96m0QjX1M8s2",
    "5S4Lw7HrM8s7",
    "Mhx5qzG-M8tC",
    "qszojM-8M8tV",
    "YDew9WKuM8td"
   ],
   "name": "OKT머신러닝.ipynb",
   "provenance": []
  },
  "kernelspec": {
   "display_name": "Python 3",
   "language": "python",
   "name": "python3"
  },
  "language_info": {
   "codemirror_mode": {
    "name": "ipython",
    "version": 3
   },
   "file_extension": ".py",
   "mimetype": "text/x-python",
   "name": "python",
   "nbconvert_exporter": "python",
   "pygments_lexer": "ipython3",
   "version": "3.7.9"
  }
 },
 "nbformat": 4,
 "nbformat_minor": 1
}
