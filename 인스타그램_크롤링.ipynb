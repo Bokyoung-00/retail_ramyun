{
  "nbformat": 4,
  "nbformat_minor": 0,
  "metadata": {
    "kernelspec": {
      "display_name": "Python 3",
      "language": "python",
      "name": "python3"
    },
    "language_info": {
      "codemirror_mode": {
        "name": "ipython",
        "version": 3
      },
      "file_extension": ".py",
      "mimetype": "text/x-python",
      "name": "python",
      "nbconvert_exporter": "python",
      "pygments_lexer": "ipython3",
      "version": "3.7.9"
    },
    "colab": {
      "name": "인스타그램 크롤링.ipynb",
      "provenance": [],
      "include_colab_link": true
    }
  },
  "cells": [
    {
      "cell_type": "markdown",
      "metadata": {
        "id": "view-in-github",
        "colab_type": "text"
      },
      "source": [
        "<a href=\"https://colab.research.google.com/github/Bokyoung-00/retail_ramyun/blob/master/%EC%9D%B8%EC%8A%A4%ED%83%80%EA%B7%B8%EB%9E%A8_%ED%81%AC%EB%A1%A4%EB%A7%81.ipynb\" target=\"_parent\"><img src=\"https://colab.research.google.com/assets/colab-badge.svg\" alt=\"Open In Colab\"/></a>"
      ]
    },
    {
      "cell_type": "code",
      "metadata": {
        "id": "DKP-r8l1a5Z8"
      },
      "source": [
        "import requests\n",
        "from selenium import webdriver as wd \n",
        "import time\n",
        "import re\n",
        "import pandas as pd\n",
        "keyword = \"트러플\"\n",
        "url = \"https://www.instagram.com/explore/tags/{}/\".format(keyword)\n",
        "instagram_tags = []\n",
        "driver = wd.Chrome()\n",
        "driver.get(url)\n",
        "\n",
        "time.sleep(3)"
      ],
      "execution_count": null,
      "outputs": []
    },
    {
      "cell_type": "code",
      "metadata": {
        "id": "MA5okeFza5aA"
      },
      "source": [
        "# 클릭하기\n",
        "driver.find_element_by_css_selector('div._9AhH0').click()"
      ],
      "execution_count": null,
      "outputs": []
    },
    {
      "cell_type": "code",
      "metadata": {
        "id": "T64goXtla5aD",
        "outputId": "c26956a1-ccfd-4514-801a-8774f228fab0"
      },
      "source": [
        "import random\n",
        "\n",
        "time_ran = [2,2,2,2,2,2,2,3,4,5]\n",
        "random.choice(time_ran)\n"
      ],
      "execution_count": null,
      "outputs": [
        {
          "output_type": "execute_result",
          "data": {
            "text/plain": [
              "2"
            ]
          },
          "metadata": {
            "tags": []
          },
          "execution_count": 144
        }
      ]
    },
    {
      "cell_type": "code",
      "metadata": {
        "id": "-djnWn6Oa5aG",
        "outputId": "766de678-e6c1-4e7c-9215-3a2c6a884866"
      },
      "source": [
        "random.choice(time_ran)"
      ],
      "execution_count": null,
      "outputs": [
        {
          "output_type": "execute_result",
          "data": {
            "text/plain": [
              "3"
            ]
          },
          "metadata": {
            "tags": []
          },
          "execution_count": 145
        }
      ]
    },
    {
      "cell_type": "code",
      "metadata": {
        "id": "P1Cy-C-8a_9X"
      },
      "source": [
        "# 2019년 찾기 위해 인스타 쭉 내리기!\n",
        "from selenium.webdriver.common.keys import Keys\n",
        "while True:\n",
        "    driver.find_element_by_css_selector('body').send_keys(Keys.SPACE)"
      ],
      "execution_count": null,
      "outputs": []
    },
    {
      "cell_type": "code",
      "metadata": {
        "id": "EAJc9a8EbEau"
      },
      "source": [
        "instagram_truffle = []\n",
        "for i in range(50000):  \n",
        "    driver.implicitly_wait(5)\n",
        "    try :\n",
        "        data = driver.find_element_by_xpath(\"/html/body/div[4]/div[2]/div/article/div[3]/div[2]/a/time\")\n",
        "        data = data.text\n",
        "        instagram_truffle.append(data)\n",
        "        #print(data)\n",
        "    except :\n",
        "        \n",
        "        pass\n",
        "        \n",
        "    if len(instagram_truffle) > 2500 :\n",
        "        insta = pd.DataFrame(instagram_truffle)\n",
        "        insta.to_csv('C:/Users/ASIA_07/유통프로젝트/truffle_insta{%s}.csv' % i)\n",
        "        print(data)\n",
        "        instagram_truffle = []\n",
        "    \n",
        "    \n",
        "    driver.find_element_by_css_selector('a._65Bje.coreSpriteRightPaginationArrow').click()\n",
        "    time.sleep(random.choice(time_ran))"
      ],
      "execution_count": null,
      "outputs": []
    },
    {
      "cell_type": "markdown",
      "metadata": {
        "id": "dTHU6Ld_a5aO"
      },
      "source": [
        "2019.11.24~ 시작"
      ]
    },
    {
      "cell_type": "code",
      "metadata": {
        "id": "ATr_JTlfbGyl"
      },
      "source": [
        "# 페이지 새로고침\n",
        "driver.refresh()"
      ],
      "execution_count": null,
      "outputs": []
    }
  ]
}