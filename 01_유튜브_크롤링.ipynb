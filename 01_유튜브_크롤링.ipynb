{
 "cells": [
  {
   "cell_type": "markdown",
   "metadata": {},
   "source": [
    "## Selenium으로 Youtube URL 리스트 만들기"
   ]
  },
  {
   "cell_type": "markdown",
   "metadata": {},
   "source": [
    "#### 1. 필요한 라이브러리와 프로그램 불러오기"
   ]
  },
  {
   "cell_type": "code",
   "execution_count": 2,
   "metadata": {},
   "outputs": [],
   "source": [
    "from selenium import webdriver\n",
    "from selenium.webdriver.common.keys import Keys"
   ]
  },
  {
   "cell_type": "code",
   "execution_count": 3,
   "metadata": {},
   "outputs": [],
   "source": [
    "import requests\n",
    "from bs4 import BeautifulSoup\n",
    "import time\n",
    "import urllib.request \n",
    "from selenium.webdriver import Chrome\n",
    "import re     \n",
    "from selenium.webdriver.chrome.options import Options\n",
    "from selenium.webdriver.common.keys import Keys\n",
    "import datetime as dt"
   ]
  },
  {
   "cell_type": "code",
   "execution_count": 1,
   "metadata": {},
   "outputs": [],
   "source": [
    "#if __name__ == \"__main__\":\n",
    "    #driver = webdriver.Chrome(\"../chromedriver.exe\")"
   ]
  },
  {
   "cell_type": "markdown",
   "metadata": {},
   "source": [
    "#### 2. Selenium으로 Youtube 페이지 열기 및 Keyword 검색"
   ]
  },
  {
   "cell_type": "code",
   "execution_count": 4,
   "metadata": {},
   "outputs": [],
   "source": [
    "delay=3\n",
    "browser = Chrome(\"../chromedriver.exe\")\n",
    "browser.implicitly_wait(delay)"
   ]
  },
  {
   "cell_type": "code",
   "execution_count": 5,
   "metadata": {},
   "outputs": [],
   "source": [
    "start_url  = 'https://www.youtube.com'\n",
    "browser.get(start_url)  \n",
    "browser.maximize_window()"
   ]
  },
  {
   "cell_type": "code",
   "execution_count": 6,
   "metadata": {},
   "outputs": [],
   "source": [
    "keyword=\"농심 트러플 짜파게티\"\n",
    "search_text= browser.find_element_by_name(\"search_query\")\n",
    "search_text.send_keys(keyword)\n",
    "search_text.send_keys(Keys.RETURN)"
   ]
  },
  {
   "cell_type": "markdown",
   "metadata": {},
   "source": [
    "#### 3. Page Down 해 스크롤 내리기"
   ]
  },
  {
   "cell_type": "code",
   "execution_count": 7,
   "metadata": {},
   "outputs": [],
   "source": [
    "body = browser.find_element_by_tag_name('body') #스크롤하기 위해 소스 추출\n",
    "\n",
    "num_of_pagedowns = 30\n",
    "#10번 밑으로 내리는 것\n",
    "while num_of_pagedowns:\n",
    "    body.send_keys(Keys.PAGE_DOWN)\n",
    "    time.sleep(2)\n",
    "    num_of_pagedowns -= 1"
   ]
  },
  {
   "cell_type": "markdown",
   "metadata": {},
   "source": [
    "#### 4. 페이지에서 URL만 추출하기 "
   ]
  },
  {
   "cell_type": "code",
   "execution_count": 26,
   "metadata": {},
   "outputs": [],
   "source": [
    "html0 = browser.page_source\n",
    "html = BeautifulSoup(html0,'html.parser')\n",
    "video_list0 = html.find('div',{'id':'contents'})\n",
    "video_list2 = video_list0.find_all(\"a\",{\"class\":\"yt-simple-endpoint inline-block style-scope ytd-thumbnail\"})"
   ]
  },
  {
   "cell_type": "code",
   "execution_count": 27,
   "metadata": {
    "scrolled": true
   },
   "outputs": [],
   "source": [
    "base_url = 'https://www.youtube.com' #영상별url이 유튜브 기본 url을 포함하지 않기 때문에 꼭 확인해줘야 함\n",
    "nongshim_url = []\n",
    "for item2 in video_list2:\n",
    "    link1 = item2.attrs['href']\n",
    "    url= base_url + link1\n",
    "    nongshim_url.append(url) "
   ]
  },
  {
   "cell_type": "code",
   "execution_count": 28,
   "metadata": {},
   "outputs": [
    {
     "data": {
      "text/plain": [
       "['https://www.youtube.com/watch?v=YD0WvZwpPj8',\n",
       " 'https://www.youtube.com/watch?v=a3kNauSNRrY',\n",
       " 'https://www.youtube.com/watch?v=ZbNDlvFpgfQ',\n",
       " 'https://www.youtube.com/watch?v=7fB40sg6TH4',\n",
       " 'https://www.youtube.com/watch?v=r3hQkY1RgfM',\n",
       " 'https://www.youtube.com/watch?v=Gbknf7gBysE',\n",
       " 'https://www.youtube.com/watch?v=JPtBmh_PAYk',\n",
       " 'https://www.youtube.com/watch?v=5EZV7oSmnrw',\n",
       " 'https://www.youtube.com/watch?v=dE9xEGgzv5I',\n",
       " 'https://www.youtube.com/watch?v=_nOJkWO5HD8',\n",
       " 'https://www.youtube.com/watch?v=zSo15z9R69g',\n",
       " 'https://www.youtube.com/watch?v=qDwAlYde9Zc',\n",
       " 'https://www.youtube.com/watch?v=nsTvC8R5jzs',\n",
       " 'https://www.youtube.com/watch?v=gkDtAPM7EK4',\n",
       " 'https://www.youtube.com/watch?v=lbqLJ2MApnI',\n",
       " 'https://www.youtube.com/watch?v=x3DoPwDyh5s',\n",
       " 'https://www.youtube.com/watch?v=YVQf-3F37Ko',\n",
       " 'https://www.youtube.com/watch?v=WPmU-aP6diQ',\n",
       " 'https://www.youtube.com/watch?v=f0UhoZQSzd0',\n",
       " 'https://www.youtube.com/watch?v=4Xh89WiQRGs',\n",
       " 'https://www.youtube.com/watch?v=6rg1oEuTth8',\n",
       " 'https://www.youtube.com/watch?v=mo943cdEYGM',\n",
       " 'https://www.youtube.com/watch?v=6mBz4Q1ddcc',\n",
       " 'https://www.youtube.com/watch?v=hMIA-XZ2TuI',\n",
       " 'https://www.youtube.com/watch?v=LbQqx5cTbko',\n",
       " 'https://www.youtube.com/watch?v=iULoqNRGxRY',\n",
       " 'https://www.youtube.com/watch?v=iTU4wzoUmW8',\n",
       " 'https://www.youtube.com/watch?v=kqpOsJMPpzY',\n",
       " 'https://www.youtube.com/watch?v=q3E-CAoojPU',\n",
       " 'https://www.youtube.com/watch?v=vPPo3GMgvHo',\n",
       " 'https://www.youtube.com/watch?v=7oaWsiH37NE',\n",
       " 'https://www.youtube.com/watch?v=_dtgUjDX_BM',\n",
       " 'https://www.youtube.com/watch?v=kMo-0ntnJ3M',\n",
       " 'https://www.youtube.com/watch?v=NA7VxdU3KyU',\n",
       " 'https://www.youtube.com/watch?v=KPUxHmIcSTg',\n",
       " 'https://www.youtube.com/watch?v=-Oph4kXn0yM',\n",
       " 'https://www.youtube.com/watch?v=ko1EDxOfT1w',\n",
       " 'https://www.youtube.com/watch?v=PvSSgVS5uRE',\n",
       " 'https://www.youtube.com/watch?v=laOAFT_JEfs',\n",
       " 'https://www.youtube.com/watch?v=fr61jLsfbls',\n",
       " 'https://www.youtube.com/watch?v=8DwtSg6Yh5s',\n",
       " 'https://www.youtube.com/watch?v=PwOPf2wkoY0',\n",
       " 'https://www.youtube.com/watch?v=lMp_fOkvK-Q',\n",
       " 'https://www.youtube.com/watch?v=Gc45UkTkGCs',\n",
       " 'https://www.youtube.com/watch?v=_85_D2qrn9Y',\n",
       " 'https://www.youtube.com/watch?v=SLxtq79tHGI',\n",
       " 'https://www.youtube.com/watch?v=H-5nSZBL2qY',\n",
       " 'https://www.youtube.com/watch?v=a26pCJqetFk',\n",
       " 'https://www.youtube.com/watch?v=5nlgkj2Ka7A',\n",
       " 'https://www.youtube.com/watch?v=S4wzlvQBemc',\n",
       " 'https://www.youtube.com/watch?v=p-eMI2QCf_Q',\n",
       " 'https://www.youtube.com/watch?v=HqQSpEcjCKk',\n",
       " 'https://www.youtube.com/watch?v=pbo_Sp4oXo0',\n",
       " 'https://www.youtube.com/watch?v=soExxyK4A6Q',\n",
       " 'https://www.youtube.com/watch?v=XHm8bUn-voQ',\n",
       " 'https://www.youtube.com/watch?v=c2axSTtPgIE',\n",
       " 'https://www.youtube.com/watch?v=OgmH8S-b6uk',\n",
       " 'https://www.youtube.com/watch?v=WRrSe9dom7M',\n",
       " 'https://www.youtube.com/watch?v=6Ax78C40XJw',\n",
       " 'https://www.youtube.com/watch?v=s6d-eI6mhKI',\n",
       " 'https://www.youtube.com/watch?v=5B9Bnp8DJlE',\n",
       " 'https://www.youtube.com/watch?v=7eb0hCm8ocU',\n",
       " 'https://www.youtube.com/watch?v=twQgcHyl3CQ',\n",
       " 'https://www.youtube.com/watch?v=F3mmFgvZTDE',\n",
       " 'https://www.youtube.com/watch?v=MRUxi4FQkJw',\n",
       " 'https://www.youtube.com/watch?v=Za2FIj72F2M',\n",
       " 'https://www.youtube.com/watch?v=S8fgI6tZIu0',\n",
       " 'https://www.youtube.com/watch?v=tBSWQDsEXIg',\n",
       " 'https://www.youtube.com/watch?v=5BrfS1EyAjk',\n",
       " 'https://www.youtube.com/watch?v=3Baq1SZxUOM',\n",
       " 'https://www.youtube.com/watch?v=97NHgMozdmE',\n",
       " 'https://www.youtube.com/watch?v=WUmteen9IiA',\n",
       " 'https://www.youtube.com/watch?v=isqTaalYzBM',\n",
       " 'https://www.youtube.com/watch?v=nsnAGDF3ITg',\n",
       " 'https://www.youtube.com/watch?v=P7-xFe5MvOM',\n",
       " 'https://www.youtube.com/watch?v=tlgZfu3UbLk',\n",
       " 'https://www.youtube.com/watch?v=h33El-EqKV4',\n",
       " 'https://www.youtube.com/watch?v=VaOfOiCHJ7w',\n",
       " 'https://www.youtube.com/watch?v=ixjGB_d-CDw',\n",
       " 'https://www.youtube.com/watch?v=YvNgauCWUgA',\n",
       " 'https://www.youtube.com/watch?v=rKfrsz6NA78',\n",
       " 'https://www.youtube.com/watch?v=VynZ1EKzAPI',\n",
       " 'https://www.youtube.com/watch?v=B6t7M28kHxY',\n",
       " 'https://www.youtube.com/watch?v=B_23-i00Z78',\n",
       " 'https://www.youtube.com/watch?v=XvV_sFlRQqo',\n",
       " 'https://www.youtube.com/watch?v=yrc0Ts3fAgA',\n",
       " 'https://www.youtube.com/watch?v=PEhP2izMTtI',\n",
       " 'https://www.youtube.com/watch?v=vcKiUBoK-aw',\n",
       " 'https://www.youtube.com/watch?v=rdyrrlM-DtI',\n",
       " 'https://www.youtube.com/watch?v=0f4pYQ2JRfs',\n",
       " 'https://www.youtube.com/watch?v=OPQFvCh7Lug',\n",
       " 'https://www.youtube.com/watch?v=6pA5rB9lx-A',\n",
       " 'https://www.youtube.com/watch?v=jGzkJ3iCOu4',\n",
       " 'https://www.youtube.com/watch?v=gGz_3Vmp8CA',\n",
       " 'https://www.youtube.com/watch?v=4iCwN_hkSF4',\n",
       " 'https://www.youtube.com/watch?v=-tILtERry4k',\n",
       " 'https://www.youtube.com/watch?v=WGpI2ZwogRc',\n",
       " 'https://www.youtube.com/watch?v=2EeYuiibCIw',\n",
       " 'https://www.youtube.com/watch?v=h19aXq7JWMs',\n",
       " 'https://www.youtube.com/watch?v=mGz0UWoDtyg',\n",
       " 'https://www.youtube.com/watch?v=M24-QwREvMU',\n",
       " 'https://www.youtube.com/watch?v=nCl4tUVdqCY',\n",
       " 'https://www.youtube.com/watch?v=kzP387GkoSY',\n",
       " 'https://www.youtube.com/watch?v=KjXTk2hNKqs',\n",
       " 'https://www.youtube.com/watch?v=ZLjWOdmXe-Y',\n",
       " 'https://www.youtube.com/watch?v=UMh3iT850ko',\n",
       " 'https://www.youtube.com/watch?v=h7I-CefDNEE',\n",
       " 'https://www.youtube.com/watch?v=TGlmwDoiCF8',\n",
       " 'https://www.youtube.com/watch?v=rdnQJnegu5g',\n",
       " 'https://www.youtube.com/watch?v=s72O3R43zFo',\n",
       " 'https://www.youtube.com/watch?v=cYKA2kuOONY',\n",
       " 'https://www.youtube.com/watch?v=uTeCyqoIatI',\n",
       " 'https://www.youtube.com/watch?v=ecFw20mM0nM',\n",
       " 'https://www.youtube.com/watch?v=YzCtqfSNI8Y',\n",
       " 'https://www.youtube.com/watch?v=faFteosVmQQ',\n",
       " 'https://www.youtube.com/watch?v=pnAySI6W6Yo',\n",
       " 'https://www.youtube.com/watch?v=lNQKfh0VL5E',\n",
       " 'https://www.youtube.com/watch?v=Ba0lkQdrimw',\n",
       " 'https://www.youtube.com/watch?v=wYEvezLkA98',\n",
       " 'https://www.youtube.com/watch?v=qmCIt2PFQrE',\n",
       " 'https://www.youtube.com/watch?v=LAKBOOuhMmI',\n",
       " 'https://www.youtube.com/watch?v=EY5p3IV4IUg',\n",
       " 'https://www.youtube.com/watch?v=hbVNBOTgB9Y',\n",
       " 'https://www.youtube.com/watch?v=UZZ_XGoONNs',\n",
       " 'https://www.youtube.com/watch?v=FisdjqifnCI',\n",
       " 'https://www.youtube.com/watch?v=evFdNVBa-PA',\n",
       " 'https://www.youtube.com/watch?v=xZ8dY60vOeQ',\n",
       " 'https://www.youtube.com/watch?v=S_ozP7dqImA',\n",
       " 'https://www.youtube.com/watch?v=fpeV5GWWXSk',\n",
       " 'https://www.youtube.com/watch?v=XQy4qhM9wHI',\n",
       " 'https://www.youtube.com/watch?v=y02lgmFeZfw',\n",
       " 'https://www.youtube.com/watch?v=SuEsJt0D9A8',\n",
       " 'https://www.youtube.com/watch?v=giv5fUzXcBM',\n",
       " 'https://www.youtube.com/watch?v=ZexfZhVWrNk',\n",
       " 'https://www.youtube.com/watch?v=nRY19NKBKkc',\n",
       " 'https://www.youtube.com/watch?v=cshCujsVDc8',\n",
       " 'https://www.youtube.com/watch?v=B3-k1K0XkCw',\n",
       " 'https://www.youtube.com/watch?v=wtB__CTm7Rg',\n",
       " 'https://www.youtube.com/watch?v=_0rfp7dAepI',\n",
       " 'https://www.youtube.com/watch?v=j9v_2oAKQsw',\n",
       " 'https://www.youtube.com/watch?v=qYXYyQu9Woo',\n",
       " 'https://www.youtube.com/watch?v=bEdkdL3QAKE',\n",
       " 'https://www.youtube.com/watch?v=pGuEEV-ueww',\n",
       " 'https://www.youtube.com/watch?v=Ke1iVvpbIi4',\n",
       " 'https://www.youtube.com/watch?v=74avQwxR4BI',\n",
       " 'https://www.youtube.com/watch?v=-Dm5SLB1fqw',\n",
       " 'https://www.youtube.com/watch?v=AY2cx0EIzTU',\n",
       " 'https://www.youtube.com/watch?v=HPT2ahTu2CU',\n",
       " 'https://www.youtube.com/watch?v=YDyeXEDBM7I',\n",
       " 'https://www.youtube.com/watch?v=1Ved6kWEhwQ',\n",
       " 'https://www.youtube.com/watch?v=QAF6ioIqXc4',\n",
       " 'https://www.youtube.com/watch?v=3AjYHXDSBQc',\n",
       " 'https://www.youtube.com/watch?v=KBlMtRqRqSg',\n",
       " 'https://www.youtube.com/watch?v=_cj-GIhNaX8',\n",
       " 'https://www.youtube.com/watch?v=4b2s3h-Hmy4',\n",
       " 'https://www.youtube.com/watch?v=vLF091PNqwM',\n",
       " 'https://www.youtube.com/watch?v=TusXI_zybDA']"
      ]
     },
     "execution_count": 28,
     "metadata": {},
     "output_type": "execute_result"
    }
   ],
   "source": [
    "nongshim_url"
   ]
  }
 ],
 "metadata": {
  "kernelspec": {
   "display_name": "Python 3",
   "language": "python",
   "name": "python3"
  },
  "language_info": {
   "codemirror_mode": {
    "name": "ipython",
    "version": 3
   },
   "file_extension": ".py",
   "mimetype": "text/x-python",
   "name": "python",
   "nbconvert_exporter": "python",
   "pygments_lexer": "ipython3",
   "version": "3.7.9"
  }
 },
 "nbformat": 4,
 "nbformat_minor": 4
}
