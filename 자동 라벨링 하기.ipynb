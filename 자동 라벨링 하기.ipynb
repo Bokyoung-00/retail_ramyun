{
 "cells": [
  {
   "cell_type": "markdown",
   "metadata": {},
   "source": [
    "### 1. 필요 라이브러리 불러오기"
   ]
  },
  {
   "cell_type": "code",
   "execution_count": 1,
   "metadata": {},
   "outputs": [],
   "source": [
    "import pandas as pd\n",
    "import numpy as np"
   ]
  },
  {
   "cell_type": "markdown",
   "metadata": {},
   "source": [
    "### 2. Train 데이터프레임 만들기\n",
    "- 이미 라벨링 된 미역초무침 라면과 트러플 짜파게티 라면 댓글 라벨된 데이터프레임을 합친다.  "
   ]
  },
  {
   "cell_type": "code",
   "execution_count": 16,
   "metadata": {},
   "outputs": [],
   "source": [
    "data1 = pd.read_csv(\"you_label.csv\")\n",
    "data2 = pd.read_csv(\"final_0_1_with_bak.csv\")"
   ]
  },
  {
   "cell_type": "code",
   "execution_count": 17,
   "metadata": {},
   "outputs": [],
   "source": [
    "data1 = data1[['Comments','label']]\n",
    "data2 = data2[['Comments','label']]"
   ]
  },
  {
   "cell_type": "code",
   "execution_count": 18,
   "metadata": {},
   "outputs": [
    {
     "data": {
      "text/plain": [
       "(533, 2)"
      ]
     },
     "execution_count": 18,
     "metadata": {},
     "output_type": "execute_result"
    }
   ],
   "source": [
    "data2.shape"
   ]
  },
  {
   "cell_type": "code",
   "execution_count": 73,
   "metadata": {},
   "outputs": [],
   "source": [
    "# data1 = data1[:330]\n",
    "# data2 = data2[330:661]\n",
    "# data3 = data3[661:]"
   ]
  },
  {
   "cell_type": "code",
   "execution_count": 19,
   "metadata": {},
   "outputs": [],
   "source": [
    "data = pd.concat([data1, data2], axis = 0)"
   ]
  },
  {
   "cell_type": "code",
   "execution_count": 20,
   "metadata": {},
   "outputs": [
    {
     "data": {
      "text/html": [
       "<div>\n",
       "<style scoped>\n",
       "    .dataframe tbody tr th:only-of-type {\n",
       "        vertical-align: middle;\n",
       "    }\n",
       "\n",
       "    .dataframe tbody tr th {\n",
       "        vertical-align: top;\n",
       "    }\n",
       "\n",
       "    .dataframe thead th {\n",
       "        text-align: right;\n",
       "    }\n",
       "</style>\n",
       "<table border=\"1\" class=\"dataframe\">\n",
       "  <thead>\n",
       "    <tr style=\"text-align: right;\">\n",
       "      <th></th>\n",
       "      <th>Comments</th>\n",
       "      <th>label</th>\n",
       "    </tr>\n",
       "  </thead>\n",
       "  <tbody>\n",
       "    <tr>\n",
       "      <th>0</th>\n",
       "      <td>솔직히 먹어봤는데 트러플을 접해보지 못한 일반인인 나는 차이를 느끼지 못했다</td>\n",
       "      <td>0.0</td>\n",
       "    </tr>\n",
       "    <tr>\n",
       "      <th>1</th>\n",
       "      <td>그냥 짜파게티에 달걀후라이가 젤 맛있음</td>\n",
       "      <td>0.0</td>\n",
       "    </tr>\n",
       "    <tr>\n",
       "      <th>2</th>\n",
       "      <td>저는 짜파게티 맛이 예전맛이 안나는거 같아서 항상 아쉬웠었는데 트러플 소스 들어가고...</td>\n",
       "      <td>1.0</td>\n",
       "    </tr>\n",
       "    <tr>\n",
       "      <th>3</th>\n",
       "      <td>오   컵라면 뚜껑에 젓가락 끼워놓을 수 있는 곳이 있는줄 몰랐네요ㅋㅋㅋ 완전 꿀팁...</td>\n",
       "      <td>0.0</td>\n",
       "    </tr>\n",
       "    <tr>\n",
       "      <th>4</th>\n",
       "      <td>솔직한 리뷰 잘 봤구요  그냥 트러플 오일 하나 사서 두어 방울 뿌려먹는게 낫겠지 ...</td>\n",
       "      <td>0.0</td>\n",
       "    </tr>\n",
       "    <tr>\n",
       "      <th>...</th>\n",
       "      <td>...</td>\n",
       "      <td>...</td>\n",
       "    </tr>\n",
       "    <tr>\n",
       "      <th>528</th>\n",
       "      <td>미역이 많이 들어 있군요  저도 신제품 나오면 바로 사서 먹어 보는데 이 제품은 아...</td>\n",
       "      <td>1.0</td>\n",
       "    </tr>\n",
       "    <tr>\n",
       "      <th>529</th>\n",
       "      <td>꼭 한국에 가서 사먹을거야</td>\n",
       "      <td>1.0</td>\n",
       "    </tr>\n",
       "    <tr>\n",
       "      <th>530</th>\n",
       "      <td>맛있는 면</td>\n",
       "      <td>1.0</td>\n",
       "    </tr>\n",
       "    <tr>\n",
       "      <th>531</th>\n",
       "      <td>초장비빔면 너무  맛있어 보여요   차순영님 방에서  찾아와 친구맺고 갑니다 승승장...</td>\n",
       "      <td>1.0</td>\n",
       "    </tr>\n",
       "    <tr>\n",
       "      <th>532</th>\n",
       "      <td>아 겁나맛있겄네</td>\n",
       "      <td>1.0</td>\n",
       "    </tr>\n",
       "  </tbody>\n",
       "</table>\n",
       "<p>915 rows × 2 columns</p>\n",
       "</div>"
      ],
      "text/plain": [
       "                                              Comments  label\n",
       "0           솔직히 먹어봤는데 트러플을 접해보지 못한 일반인인 나는 차이를 느끼지 못했다    0.0\n",
       "1                                그냥 짜파게티에 달걀후라이가 젤 맛있음    0.0\n",
       "2    저는 짜파게티 맛이 예전맛이 안나는거 같아서 항상 아쉬웠었는데 트러플 소스 들어가고...    1.0\n",
       "3    오   컵라면 뚜껑에 젓가락 끼워놓을 수 있는 곳이 있는줄 몰랐네요ㅋㅋㅋ 완전 꿀팁...    0.0\n",
       "4    솔직한 리뷰 잘 봤구요  그냥 트러플 오일 하나 사서 두어 방울 뿌려먹는게 낫겠지 ...    0.0\n",
       "..                                                 ...    ...\n",
       "528  미역이 많이 들어 있군요  저도 신제품 나오면 바로 사서 먹어 보는데 이 제품은 아...    1.0\n",
       "529                                     꼭 한국에 가서 사먹을거야    1.0\n",
       "530                                              맛있는 면    1.0\n",
       "531  초장비빔면 너무  맛있어 보여요   차순영님 방에서  찾아와 친구맺고 갑니다 승승장...    1.0\n",
       "532                                           아 겁나맛있겄네    1.0\n",
       "\n",
       "[915 rows x 2 columns]"
      ]
     },
     "execution_count": 20,
     "metadata": {},
     "output_type": "execute_result"
    }
   ],
   "source": [
    "data"
   ]
  },
  {
   "cell_type": "code",
   "execution_count": 79,
   "metadata": {},
   "outputs": [],
   "source": [
    "# data.to_csv('youtube_with_positive_negative.csv')"
   ]
  },
  {
   "cell_type": "code",
   "execution_count": 81,
   "metadata": {},
   "outputs": [],
   "source": [
    "# data.to_csv('youtube_with_positive_negative_utf8.csv', encoding= 'utf-8')"
   ]
  },
  {
   "cell_type": "code",
   "execution_count": 21,
   "metadata": {},
   "outputs": [],
   "source": [
    "df= data[['Comments','label']]"
   ]
  },
  {
   "cell_type": "code",
   "execution_count": 133,
   "metadata": {},
   "outputs": [],
   "source": [
    "# data = pd.read_csv(\"C:/Users/ASIA_07/Downloads/you_label.csv\")"
   ]
  },
  {
   "cell_type": "code",
   "execution_count": 22,
   "metadata": {},
   "outputs": [
    {
     "data": {
      "text/html": [
       "<div>\n",
       "<style scoped>\n",
       "    .dataframe tbody tr th:only-of-type {\n",
       "        vertical-align: middle;\n",
       "    }\n",
       "\n",
       "    .dataframe tbody tr th {\n",
       "        vertical-align: top;\n",
       "    }\n",
       "\n",
       "    .dataframe thead th {\n",
       "        text-align: right;\n",
       "    }\n",
       "</style>\n",
       "<table border=\"1\" class=\"dataframe\">\n",
       "  <thead>\n",
       "    <tr style=\"text-align: right;\">\n",
       "      <th></th>\n",
       "      <th>Comments</th>\n",
       "      <th>label</th>\n",
       "    </tr>\n",
       "  </thead>\n",
       "  <tbody>\n",
       "    <tr>\n",
       "      <th>0</th>\n",
       "      <td>솔직히 먹어봤는데 트러플을 접해보지 못한 일반인인 나는 차이를 느끼지 못했다</td>\n",
       "      <td>0.0</td>\n",
       "    </tr>\n",
       "    <tr>\n",
       "      <th>1</th>\n",
       "      <td>그냥 짜파게티에 달걀후라이가 젤 맛있음</td>\n",
       "      <td>0.0</td>\n",
       "    </tr>\n",
       "    <tr>\n",
       "      <th>2</th>\n",
       "      <td>저는 짜파게티 맛이 예전맛이 안나는거 같아서 항상 아쉬웠었는데 트러플 소스 들어가고...</td>\n",
       "      <td>1.0</td>\n",
       "    </tr>\n",
       "    <tr>\n",
       "      <th>3</th>\n",
       "      <td>오   컵라면 뚜껑에 젓가락 끼워놓을 수 있는 곳이 있는줄 몰랐네요ㅋㅋㅋ 완전 꿀팁...</td>\n",
       "      <td>0.0</td>\n",
       "    </tr>\n",
       "    <tr>\n",
       "      <th>4</th>\n",
       "      <td>솔직한 리뷰 잘 봤구요  그냥 트러플 오일 하나 사서 두어 방울 뿌려먹는게 낫겠지 ...</td>\n",
       "      <td>0.0</td>\n",
       "    </tr>\n",
       "    <tr>\n",
       "      <th>...</th>\n",
       "      <td>...</td>\n",
       "      <td>...</td>\n",
       "    </tr>\n",
       "    <tr>\n",
       "      <th>910</th>\n",
       "      <td>미역이 많이 들어 있군요  저도 신제품 나오면 바로 사서 먹어 보는데 이 제품은 아...</td>\n",
       "      <td>1.0</td>\n",
       "    </tr>\n",
       "    <tr>\n",
       "      <th>911</th>\n",
       "      <td>꼭 한국에 가서 사먹을거야</td>\n",
       "      <td>1.0</td>\n",
       "    </tr>\n",
       "    <tr>\n",
       "      <th>912</th>\n",
       "      <td>맛있는 면</td>\n",
       "      <td>1.0</td>\n",
       "    </tr>\n",
       "    <tr>\n",
       "      <th>913</th>\n",
       "      <td>초장비빔면 너무  맛있어 보여요   차순영님 방에서  찾아와 친구맺고 갑니다 승승장...</td>\n",
       "      <td>1.0</td>\n",
       "    </tr>\n",
       "    <tr>\n",
       "      <th>914</th>\n",
       "      <td>아 겁나맛있겄네</td>\n",
       "      <td>1.0</td>\n",
       "    </tr>\n",
       "  </tbody>\n",
       "</table>\n",
       "<p>915 rows × 2 columns</p>\n",
       "</div>"
      ],
      "text/plain": [
       "                                              Comments  label\n",
       "0           솔직히 먹어봤는데 트러플을 접해보지 못한 일반인인 나는 차이를 느끼지 못했다    0.0\n",
       "1                                그냥 짜파게티에 달걀후라이가 젤 맛있음    0.0\n",
       "2    저는 짜파게티 맛이 예전맛이 안나는거 같아서 항상 아쉬웠었는데 트러플 소스 들어가고...    1.0\n",
       "3    오   컵라면 뚜껑에 젓가락 끼워놓을 수 있는 곳이 있는줄 몰랐네요ㅋㅋㅋ 완전 꿀팁...    0.0\n",
       "4    솔직한 리뷰 잘 봤구요  그냥 트러플 오일 하나 사서 두어 방울 뿌려먹는게 낫겠지 ...    0.0\n",
       "..                                                 ...    ...\n",
       "910  미역이 많이 들어 있군요  저도 신제품 나오면 바로 사서 먹어 보는데 이 제품은 아...    1.0\n",
       "911                                     꼭 한국에 가서 사먹을거야    1.0\n",
       "912                                              맛있는 면    1.0\n",
       "913  초장비빔면 너무  맛있어 보여요   차순영님 방에서  찾아와 친구맺고 갑니다 승승장...    1.0\n",
       "914                                           아 겁나맛있겄네    1.0\n",
       "\n",
       "[915 rows x 2 columns]"
      ]
     },
     "execution_count": 22,
     "metadata": {},
     "output_type": "execute_result"
    }
   ],
   "source": [
    "df.reset_index(inplace=True, drop=True)\n",
    "df"
   ]
  },
  {
   "cell_type": "markdown",
   "metadata": {},
   "source": [
    "### 3. 불용어 처리 및 토큰화 "
   ]
  },
  {
   "cell_type": "code",
   "execution_count": 23,
   "metadata": {},
   "outputs": [],
   "source": [
    "from konlpy.tag import Okt\n",
    "okt=Okt()\n",
    "# mecab 사용해 토큰화, 한글자 제거, stop_word 제거\n",
    "stop_word = ['께서','에서','이다','에게','으로','이랑','까지','부터','하다']\n",
    "stopPos = ['Determiner','Adverb','Conjuctions','Josa','PreEomi','Eomi','Suffix',\n",
    "          'Punctuation','Foreign','Alpha','Number','Unknown','KoreanParticle']\n",
    "def token_okt(text):\n",
    "    text = okt.pos(text)\n",
    "    text = [i for i in text if len(i[0])>1]\n",
    "    text = [i for i in text if i[0] not in stop_word]\n",
    "    text = [i[0] for i in text if i[1] not in stopPos]\n",
    "    return text"
   ]
  },
  {
   "cell_type": "code",
   "execution_count": 24,
   "metadata": {},
   "outputs": [
    {
     "name": "stdout",
     "output_type": "stream",
     "text": [
      "0 / 915\n"
     ]
    },
    {
     "name": "stderr",
     "output_type": "stream",
     "text": [
      "C:\\anaconda3\\envs\\py37\\lib\\site-packages\\ipykernel_launcher.py:9: SettingWithCopyWarning: \n",
      "A value is trying to be set on a copy of a slice from a DataFrame\n",
      "\n",
      "See the caveats in the documentation: https://pandas.pydata.org/pandas-docs/stable/user_guide/indexing.html#returning-a-view-versus-a-copy\n",
      "  if __name__ == '__main__':\n"
     ]
    },
    {
     "name": "stdout",
     "output_type": "stream",
     "text": [
      "500 / 915\n"
     ]
    }
   ],
   "source": [
    "# 토큰화 + 토큰리스트 생성 \n",
    "def make_tokens(df):\n",
    "    df['tokens'] = ''\n",
    "    tokens_list=[]\n",
    "    for i, row in df.iterrows():\n",
    "        if i%500==0:\n",
    "            print(i,'/',len(df))\n",
    "        token = token_okt(df['Comments'][i])\n",
    "        df['tokens'][i] = ' '.join(token)\n",
    "    return df\n",
    "\n",
    "df = make_tokens(df)"
   ]
  },
  {
   "cell_type": "code",
   "execution_count": 25,
   "metadata": {},
   "outputs": [
    {
     "data": {
      "text/html": [
       "<div>\n",
       "<style scoped>\n",
       "    .dataframe tbody tr th:only-of-type {\n",
       "        vertical-align: middle;\n",
       "    }\n",
       "\n",
       "    .dataframe tbody tr th {\n",
       "        vertical-align: top;\n",
       "    }\n",
       "\n",
       "    .dataframe thead th {\n",
       "        text-align: right;\n",
       "    }\n",
       "</style>\n",
       "<table border=\"1\" class=\"dataframe\">\n",
       "  <thead>\n",
       "    <tr style=\"text-align: right;\">\n",
       "      <th></th>\n",
       "      <th>Comments</th>\n",
       "      <th>label</th>\n",
       "      <th>tokens</th>\n",
       "    </tr>\n",
       "  </thead>\n",
       "  <tbody>\n",
       "    <tr>\n",
       "      <th>0</th>\n",
       "      <td>솔직히 먹어봤는데 트러플을 접해보지 못한 일반인인 나는 차이를 느끼지 못했다</td>\n",
       "      <td>0.0</td>\n",
       "      <td>솔직히 먹어 봤는데 트러플 해보지 일반인 차이 느끼지 했다</td>\n",
       "    </tr>\n",
       "    <tr>\n",
       "      <th>1</th>\n",
       "      <td>그냥 짜파게티에 달걀후라이가 젤 맛있음</td>\n",
       "      <td>0.0</td>\n",
       "      <td>그냥 짜파게티 달걀후라이 맛있음</td>\n",
       "    </tr>\n",
       "    <tr>\n",
       "      <th>2</th>\n",
       "      <td>저는 짜파게티 맛이 예전맛이 안나는거 같아서 항상 아쉬웠었는데 트러플 소스 들어가고...</td>\n",
       "      <td>1.0</td>\n",
       "      <td>짜파게티 안나는거 같아서 항상 아쉬웠었는데 트러플 소스 들어가고 나서 옜날 어릴 먹...</td>\n",
       "    </tr>\n",
       "    <tr>\n",
       "      <th>3</th>\n",
       "      <td>오   컵라면 뚜껑에 젓가락 끼워놓을 수 있는 곳이 있는줄 몰랐네요ㅋㅋㅋ 완전 꿀팁...</td>\n",
       "      <td>0.0</td>\n",
       "      <td>컵라면 뚜껑 젓가락 끼워놓을 있는 있는줄 몰랐네요 완전 꿀팁 트러플 오일 제조 송로...</td>\n",
       "    </tr>\n",
       "    <tr>\n",
       "      <th>4</th>\n",
       "      <td>솔직한 리뷰 잘 봤구요  그냥 트러플 오일 하나 사서 두어 방울 뿌려먹는게 낫겠지 ...</td>\n",
       "      <td>0.0</td>\n",
       "      <td>솔직한 리뷰 봤구요 그냥 트러플 오일 하나 사서 두어 방울 뿌려 먹는게 낫겠지 싶네...</td>\n",
       "    </tr>\n",
       "    <tr>\n",
       "      <th>...</th>\n",
       "      <td>...</td>\n",
       "      <td>...</td>\n",
       "      <td>...</td>\n",
       "    </tr>\n",
       "    <tr>\n",
       "      <th>910</th>\n",
       "      <td>미역이 많이 들어 있군요  저도 신제품 나오면 바로 사서 먹어 보는데 이 제품은 아...</td>\n",
       "      <td>1.0</td>\n",
       "      <td>미역 들어 있군요 신제품 나오면 바로 사서 먹어 보는데 제품 보여요 고기랑 먹으면 ...</td>\n",
       "    </tr>\n",
       "    <tr>\n",
       "      <th>911</th>\n",
       "      <td>꼭 한국에 가서 사먹을거야</td>\n",
       "      <td>1.0</td>\n",
       "      <td>한국 가서 사먹을거야</td>\n",
       "    </tr>\n",
       "    <tr>\n",
       "      <th>912</th>\n",
       "      <td>맛있는 면</td>\n",
       "      <td>1.0</td>\n",
       "      <td>맛있는</td>\n",
       "    </tr>\n",
       "    <tr>\n",
       "      <th>913</th>\n",
       "      <td>초장비빔면 너무  맛있어 보여요   차순영님 방에서  찾아와 친구맺고 갑니다 승승장...</td>\n",
       "      <td>1.0</td>\n",
       "      <td>초장 비빔면 맛있어 보여요 순영 찾아와 친구 맺고 갑니다 승승장구 하세요</td>\n",
       "    </tr>\n",
       "    <tr>\n",
       "      <th>914</th>\n",
       "      <td>아 겁나맛있겄네</td>\n",
       "      <td>1.0</td>\n",
       "      <td>겁나 맛있</td>\n",
       "    </tr>\n",
       "  </tbody>\n",
       "</table>\n",
       "<p>915 rows × 3 columns</p>\n",
       "</div>"
      ],
      "text/plain": [
       "                                              Comments  label  \\\n",
       "0           솔직히 먹어봤는데 트러플을 접해보지 못한 일반인인 나는 차이를 느끼지 못했다    0.0   \n",
       "1                                그냥 짜파게티에 달걀후라이가 젤 맛있음    0.0   \n",
       "2    저는 짜파게티 맛이 예전맛이 안나는거 같아서 항상 아쉬웠었는데 트러플 소스 들어가고...    1.0   \n",
       "3    오   컵라면 뚜껑에 젓가락 끼워놓을 수 있는 곳이 있는줄 몰랐네요ㅋㅋㅋ 완전 꿀팁...    0.0   \n",
       "4    솔직한 리뷰 잘 봤구요  그냥 트러플 오일 하나 사서 두어 방울 뿌려먹는게 낫겠지 ...    0.0   \n",
       "..                                                 ...    ...   \n",
       "910  미역이 많이 들어 있군요  저도 신제품 나오면 바로 사서 먹어 보는데 이 제품은 아...    1.0   \n",
       "911                                     꼭 한국에 가서 사먹을거야    1.0   \n",
       "912                                              맛있는 면    1.0   \n",
       "913  초장비빔면 너무  맛있어 보여요   차순영님 방에서  찾아와 친구맺고 갑니다 승승장...    1.0   \n",
       "914                                           아 겁나맛있겄네    1.0   \n",
       "\n",
       "                                                tokens  \n",
       "0                     솔직히 먹어 봤는데 트러플 해보지 일반인 차이 느끼지 했다  \n",
       "1                                    그냥 짜파게티 달걀후라이 맛있음  \n",
       "2    짜파게티 안나는거 같아서 항상 아쉬웠었는데 트러플 소스 들어가고 나서 옜날 어릴 먹...  \n",
       "3    컵라면 뚜껑 젓가락 끼워놓을 있는 있는줄 몰랐네요 완전 꿀팁 트러플 오일 제조 송로...  \n",
       "4    솔직한 리뷰 봤구요 그냥 트러플 오일 하나 사서 두어 방울 뿌려 먹는게 낫겠지 싶네...  \n",
       "..                                                 ...  \n",
       "910  미역 들어 있군요 신제품 나오면 바로 사서 먹어 보는데 제품 보여요 고기랑 먹으면 ...  \n",
       "911                                        한국 가서 사먹을거야  \n",
       "912                                                맛있는  \n",
       "913           초장 비빔면 맛있어 보여요 순영 찾아와 친구 맺고 갑니다 승승장구 하세요  \n",
       "914                                              겁나 맛있  \n",
       "\n",
       "[915 rows x 3 columns]"
      ]
     },
     "execution_count": 25,
     "metadata": {},
     "output_type": "execute_result"
    }
   ],
   "source": [
    "df"
   ]
  },
  {
   "cell_type": "markdown",
   "metadata": {},
   "source": [
    "### 4. Sklearn으로 Train 데이터 학습 시키기 "
   ]
  },
  {
   "cell_type": "code",
   "execution_count": 26,
   "metadata": {},
   "outputs": [],
   "source": [
    "X_train = list(df['tokens'])\n",
    "Y_train = list(df['label'])"
   ]
  },
  {
   "cell_type": "code",
   "execution_count": 27,
   "metadata": {},
   "outputs": [
    {
     "name": "stdout",
     "output_type": "stream",
     "text": [
      "Requirement already satisfied: sklearn in c:\\anaconda3\\envs\\py37\\lib\\site-packages (0.0)\n",
      "Requirement already satisfied: scikit-learn in c:\\anaconda3\\envs\\py37\\lib\\site-packages (from sklearn) (0.23.2)\n",
      "Requirement already satisfied: threadpoolctl>=2.0.0 in c:\\anaconda3\\envs\\py37\\lib\\site-packages (from scikit-learn->sklearn) (2.1.0)\n",
      "Requirement already satisfied: scipy>=0.19.1 in c:\\anaconda3\\envs\\py37\\lib\\site-packages (from scikit-learn->sklearn) (1.5.2)\n",
      "Requirement already satisfied: joblib>=0.11 in c:\\anaconda3\\envs\\py37\\lib\\site-packages (from scikit-learn->sklearn) (0.16.0)\n",
      "Requirement already satisfied: numpy>=1.13.3 in c:\\anaconda3\\envs\\py37\\lib\\site-packages (from scikit-learn->sklearn) (1.18.5)\n"
     ]
    }
   ],
   "source": [
    "!pip install sklearn"
   ]
  },
  {
   "cell_type": "code",
   "execution_count": 28,
   "metadata": {},
   "outputs": [],
   "source": [
    "from sklearn.feature_extraction.text import CountVectorizer\n",
    "from sklearn.feature_extraction.text import TfidfTransformer\n",
    "from sklearn.naive_bayes import MultinomialNB\n",
    "# CountVectorizer 선언\n",
    "count_vect = CountVectorizer()\n",
    "# fit and transform\n",
    "X_train_counts = count_vect.fit_transform(X_train)\n",
    "# MultinomialNB 선언 and fit\n",
    "clf = MultinomialNB().fit(X_train_counts, Y_train)"
   ]
  },
  {
   "cell_type": "code",
   "execution_count": 29,
   "metadata": {},
   "outputs": [
    {
     "name": "stdout",
     "output_type": "stream",
     "text": [
      "[0.]\n",
      "[[0.76601978 0.23398022]]\n"
     ]
    }
   ],
   "source": [
    "\n",
    "# 예측\n",
    "print(clf.predict(count_vect.transform([\"너무 맛 없다\"]))) \n",
    "# 확률 \n",
    "print(clf.predict_proba(count_vect.transform([\"너무 맛 없다\"])))"
   ]
  },
  {
   "cell_type": "markdown",
   "metadata": {},
   "source": [
    "### 5. Test 데이터 불러오기 "
   ]
  },
  {
   "cell_type": "code",
   "execution_count": 30,
   "metadata": {},
   "outputs": [],
   "source": [
    "# mara_data1 = pd.read_csv(r'C:\\Users\\ASIA_09\\Desktop\\유통령\\retail_ramyun\\mara_tokenization.csv')"
   ]
  },
  {
   "cell_type": "code",
   "execution_count": null,
   "metadata": {},
   "outputs": [],
   "source": [
    "# data1 = data1[:330]\n",
    "# data2 = data2[330:661]\n",
    "# data3 = data3[661:]"
   ]
  },
  {
   "cell_type": "code",
   "execution_count": null,
   "metadata": {},
   "outputs": [],
   "source": [
    "# data = pd.concat([data1, data2], axis = 0)"
   ]
  },
  {
   "cell_type": "code",
   "execution_count": 31,
   "metadata": {},
   "outputs": [
    {
     "data": {
      "text/html": [
       "<div>\n",
       "<style scoped>\n",
       "    .dataframe tbody tr th:only-of-type {\n",
       "        vertical-align: middle;\n",
       "    }\n",
       "\n",
       "    .dataframe tbody tr th {\n",
       "        vertical-align: top;\n",
       "    }\n",
       "\n",
       "    .dataframe thead th {\n",
       "        text-align: right;\n",
       "    }\n",
       "</style>\n",
       "<table border=\"1\" class=\"dataframe\">\n",
       "  <thead>\n",
       "    <tr style=\"text-align: right;\">\n",
       "      <th></th>\n",
       "      <th>Comments</th>\n",
       "      <th>tokens</th>\n",
       "    </tr>\n",
       "  </thead>\n",
       "  <tbody>\n",
       "    <tr>\n",
       "      <th>0</th>\n",
       "      <td>농심꺼 진짜   맛있습니다   강추   그냥 얼얼 그대로 담았어요  약간 한국인 입...</td>\n",
       "      <td>농심 진짜 맛있습니다 강추 그냥 얼얼 그대로 담았어요 약간 한국인 입맛 같아여</td>\n",
       "    </tr>\n",
       "    <tr>\n",
       "      <th>1</th>\n",
       "      <td>리황샹 마라탕면 구조가 완전 중국꺼다 중국라면도 저런 포크가 들어있거든요 저거 한번...</td>\n",
       "      <td>리황샹 마라 구조 완전 중국 중국 라면 저런 포크 들어있거든요 한번 사먹어 야하겠어요</td>\n",
       "    </tr>\n",
       "    <tr>\n",
       "      <th>2</th>\n",
       "      <td>삼양 마라파 모여</td>\n",
       "      <td>삼양 라파 모여</td>\n",
       "    </tr>\n",
       "    <tr>\n",
       "      <th>3</th>\n",
       "      <td>편의점 가기 전에 마라탕이 먹어보고 싶어서 찾는 도중에 정말 유익한 영상이네요  감...</td>\n",
       "      <td>편의점 가기 마라 먹어 보고 싶어서 찾는 도중 정말 유익한 상이 감사합니다</td>\n",
       "    </tr>\n",
       "    <tr>\n",
       "      <th>4</th>\n",
       "      <td>라황샹 마라탕면 진짜 맛있어요 제발 반드시 드셔보길</td>\n",
       "      <td>라황샹 마라 진짜 맛있어요 제발 반드시 드셔 보길</td>\n",
       "    </tr>\n",
       "    <tr>\n",
       "      <th>...</th>\n",
       "      <td>...</td>\n",
       "      <td>...</td>\n",
       "    </tr>\n",
       "    <tr>\n",
       "      <th>7439</th>\n",
       "      <td>얼큰한게 진짜 맛있겠어요  저도 얼른 먹어봐야겠네요</td>\n",
       "      <td>얼큰한게 진짜 맛있겠어요 얼른 먹어 봐야겠네요</td>\n",
       "    </tr>\n",
       "    <tr>\n",
       "      <th>7440</th>\n",
       "      <td>유튜브계의 먹리어답터</td>\n",
       "      <td>유튜브 답터</td>\n",
       "    </tr>\n",
       "    <tr>\n",
       "      <th>7441</th>\n",
       "      <td>요즘 왜 업로드 안해 형</td>\n",
       "      <td>요즘 업로드 안해</td>\n",
       "    </tr>\n",
       "    <tr>\n",
       "      <th>7442</th>\n",
       "      <td>매운거 같은데   땀을 좀 흘리시는거 같아서   저는 매운걸 못먹어가지고 마라탕면은...</td>\n",
       "      <td>매운거 같은데 흘리시는거 같아서 매운 먹어가지고 마라 패스 드신 대단하세요</td>\n",
       "    </tr>\n",
       "    <tr>\n",
       "      <th>7443</th>\n",
       "      <td>매운 신라면과 오뎅같아요ㅎㅎㅎ  맛있겠당</td>\n",
       "      <td>매운 신라면 오뎅 같아요 맛있겠당</td>\n",
       "    </tr>\n",
       "  </tbody>\n",
       "</table>\n",
       "<p>7444 rows × 2 columns</p>\n",
       "</div>"
      ],
      "text/plain": [
       "                                               Comments  \\\n",
       "0     농심꺼 진짜   맛있습니다   강추   그냥 얼얼 그대로 담았어요  약간 한국인 입...   \n",
       "1     리황샹 마라탕면 구조가 완전 중국꺼다 중국라면도 저런 포크가 들어있거든요 저거 한번...   \n",
       "2                                             삼양 마라파 모여   \n",
       "3     편의점 가기 전에 마라탕이 먹어보고 싶어서 찾는 도중에 정말 유익한 영상이네요  감...   \n",
       "4                          라황샹 마라탕면 진짜 맛있어요 제발 반드시 드셔보길   \n",
       "...                                                 ...   \n",
       "7439                       얼큰한게 진짜 맛있겠어요  저도 얼른 먹어봐야겠네요   \n",
       "7440                                        유튜브계의 먹리어답터   \n",
       "7441                                      요즘 왜 업로드 안해 형   \n",
       "7442  매운거 같은데   땀을 좀 흘리시는거 같아서   저는 매운걸 못먹어가지고 마라탕면은...   \n",
       "7443                             매운 신라면과 오뎅같아요ㅎㅎㅎ  맛있겠당   \n",
       "\n",
       "                                               tokens  \n",
       "0         농심 진짜 맛있습니다 강추 그냥 얼얼 그대로 담았어요 약간 한국인 입맛 같아여  \n",
       "1     리황샹 마라 구조 완전 중국 중국 라면 저런 포크 들어있거든요 한번 사먹어 야하겠어요  \n",
       "2                                            삼양 라파 모여  \n",
       "3           편의점 가기 마라 먹어 보고 싶어서 찾는 도중 정말 유익한 상이 감사합니다  \n",
       "4                         라황샹 마라 진짜 맛있어요 제발 반드시 드셔 보길  \n",
       "...                                               ...  \n",
       "7439                        얼큰한게 진짜 맛있겠어요 얼른 먹어 봐야겠네요  \n",
       "7440                                           유튜브 답터  \n",
       "7441                                        요즘 업로드 안해  \n",
       "7442        매운거 같은데 흘리시는거 같아서 매운 먹어가지고 마라 패스 드신 대단하세요  \n",
       "7443                               매운 신라면 오뎅 같아요 맛있겠당  \n",
       "\n",
       "[7444 rows x 2 columns]"
      ]
     },
     "execution_count": 31,
     "metadata": {},
     "output_type": "execute_result"
    }
   ],
   "source": [
    "data = pd.read_csv(r'C:\\Users\\ASIA_09\\Desktop\\유통령\\retail_ramyun\\mara_tokenization.csv')\n",
    "data=data[['Comments','tokens']]\n",
    "data"
   ]
  },
  {
   "cell_type": "code",
   "execution_count": 32,
   "metadata": {},
   "outputs": [
    {
     "data": {
      "text/html": [
       "<div>\n",
       "<style scoped>\n",
       "    .dataframe tbody tr th:only-of-type {\n",
       "        vertical-align: middle;\n",
       "    }\n",
       "\n",
       "    .dataframe tbody tr th {\n",
       "        vertical-align: top;\n",
       "    }\n",
       "\n",
       "    .dataframe thead th {\n",
       "        text-align: right;\n",
       "    }\n",
       "</style>\n",
       "<table border=\"1\" class=\"dataframe\">\n",
       "  <thead>\n",
       "    <tr style=\"text-align: right;\">\n",
       "      <th></th>\n",
       "      <th>Comments</th>\n",
       "      <th>tokens</th>\n",
       "      <th>label</th>\n",
       "    </tr>\n",
       "  </thead>\n",
       "  <tbody>\n",
       "    <tr>\n",
       "      <th>0</th>\n",
       "      <td>농심꺼 진짜   맛있습니다   강추   그냥 얼얼 그대로 담았어요  약간 한국인 입...</td>\n",
       "      <td>농심 진짜 맛있습니다 강추 그냥 얼얼 그대로 담았어요 약간 한국인 입맛 같아여</td>\n",
       "      <td>[0.0]</td>\n",
       "    </tr>\n",
       "    <tr>\n",
       "      <th>1</th>\n",
       "      <td>리황샹 마라탕면 구조가 완전 중국꺼다 중국라면도 저런 포크가 들어있거든요 저거 한번...</td>\n",
       "      <td>리황샹 마라 구조 완전 중국 중국 라면 저런 포크 들어있거든요 한번 사먹어 야하겠어요</td>\n",
       "      <td>[1.0]</td>\n",
       "    </tr>\n",
       "    <tr>\n",
       "      <th>2</th>\n",
       "      <td>삼양 마라파 모여</td>\n",
       "      <td>삼양 라파 모여</td>\n",
       "      <td>[0.0]</td>\n",
       "    </tr>\n",
       "    <tr>\n",
       "      <th>3</th>\n",
       "      <td>편의점 가기 전에 마라탕이 먹어보고 싶어서 찾는 도중에 정말 유익한 영상이네요  감...</td>\n",
       "      <td>편의점 가기 마라 먹어 보고 싶어서 찾는 도중 정말 유익한 상이 감사합니다</td>\n",
       "      <td>[1.0]</td>\n",
       "    </tr>\n",
       "    <tr>\n",
       "      <th>4</th>\n",
       "      <td>라황샹 마라탕면 진짜 맛있어요 제발 반드시 드셔보길</td>\n",
       "      <td>라황샹 마라 진짜 맛있어요 제발 반드시 드셔 보길</td>\n",
       "      <td>[1.0]</td>\n",
       "    </tr>\n",
       "    <tr>\n",
       "      <th>...</th>\n",
       "      <td>...</td>\n",
       "      <td>...</td>\n",
       "      <td>...</td>\n",
       "    </tr>\n",
       "    <tr>\n",
       "      <th>95</th>\n",
       "      <td>광곤줄 알았어여ㅋㅋㅋ</td>\n",
       "      <td>광곤줄 알았어여</td>\n",
       "      <td>[1.0]</td>\n",
       "    </tr>\n",
       "    <tr>\n",
       "      <th>96</th>\n",
       "      <td>책상이 좀 높아서 그런지 밥 비벼서 드실 때 조금 힘들어 보이세요 ㅠㅠ 좀 낮은 책...</td>\n",
       "      <td>책상 높아서 그런지 비벼서 드실 조금 힘들어 보이세요 낮은 책상 광마니 드시기에 좋...</td>\n",
       "      <td>[1.0]</td>\n",
       "    </tr>\n",
       "    <tr>\n",
       "      <th>97</th>\n",
       "      <td>액상스프 후첨이에용</td>\n",
       "      <td>스프</td>\n",
       "      <td>[1.0]</td>\n",
       "    </tr>\n",
       "    <tr>\n",
       "      <th>98</th>\n",
       "      <td>다이어트 중인데 광마니님 맛있게 드시는거보고 대리만족해요 ㅠㅠㅠㅠ 덕분에 힘든 다이...</td>\n",
       "      <td>다이어트 광마니 맛있게 드시는거 보고 대리 만족해요 덕분 힘든 다이어트 많은 돼요 ...</td>\n",
       "      <td>[1.0]</td>\n",
       "    </tr>\n",
       "    <tr>\n",
       "      <th>99</th>\n",
       "      <td>와   토핑 미친거죠 ㅠㅠㅠ 배우신분이네요 마라 개인적으로 저는 중국 향신료특유 향...</td>\n",
       "      <td>토핑 미친거죠 배우 신분 마라 개인 중국 향신료 특유 싫어서 좋아하지 않는데 영상 ...</td>\n",
       "      <td>[1.0]</td>\n",
       "    </tr>\n",
       "  </tbody>\n",
       "</table>\n",
       "<p>100 rows × 3 columns</p>\n",
       "</div>"
      ],
      "text/plain": [
       "                                             Comments  \\\n",
       "0   농심꺼 진짜   맛있습니다   강추   그냥 얼얼 그대로 담았어요  약간 한국인 입...   \n",
       "1   리황샹 마라탕면 구조가 완전 중국꺼다 중국라면도 저런 포크가 들어있거든요 저거 한번...   \n",
       "2                                           삼양 마라파 모여   \n",
       "3   편의점 가기 전에 마라탕이 먹어보고 싶어서 찾는 도중에 정말 유익한 영상이네요  감...   \n",
       "4                        라황샹 마라탕면 진짜 맛있어요 제발 반드시 드셔보길   \n",
       "..                                                ...   \n",
       "95                                        광곤줄 알았어여ㅋㅋㅋ   \n",
       "96  책상이 좀 높아서 그런지 밥 비벼서 드실 때 조금 힘들어 보이세요 ㅠㅠ 좀 낮은 책...   \n",
       "97                                         액상스프 후첨이에용   \n",
       "98  다이어트 중인데 광마니님 맛있게 드시는거보고 대리만족해요 ㅠㅠㅠㅠ 덕분에 힘든 다이...   \n",
       "99  와   토핑 미친거죠 ㅠㅠㅠ 배우신분이네요 마라 개인적으로 저는 중국 향신료특유 향...   \n",
       "\n",
       "                                               tokens  label  \n",
       "0         농심 진짜 맛있습니다 강추 그냥 얼얼 그대로 담았어요 약간 한국인 입맛 같아여  [0.0]  \n",
       "1     리황샹 마라 구조 완전 중국 중국 라면 저런 포크 들어있거든요 한번 사먹어 야하겠어요  [1.0]  \n",
       "2                                            삼양 라파 모여  [0.0]  \n",
       "3           편의점 가기 마라 먹어 보고 싶어서 찾는 도중 정말 유익한 상이 감사합니다  [1.0]  \n",
       "4                         라황샹 마라 진짜 맛있어요 제발 반드시 드셔 보길  [1.0]  \n",
       "..                                                ...    ...  \n",
       "95                                           광곤줄 알았어여  [1.0]  \n",
       "96  책상 높아서 그런지 비벼서 드실 조금 힘들어 보이세요 낮은 책상 광마니 드시기에 좋...  [1.0]  \n",
       "97                                                 스프  [1.0]  \n",
       "98  다이어트 광마니 맛있게 드시는거 보고 대리 만족해요 덕분 힘든 다이어트 많은 돼요 ...  [1.0]  \n",
       "99  토핑 미친거죠 배우 신분 마라 개인 중국 향신료 특유 싫어서 좋아하지 않는데 영상 ...  [1.0]  \n",
       "\n",
       "[100 rows x 3 columns]"
      ]
     },
     "execution_count": 32,
     "metadata": {},
     "output_type": "execute_result"
    }
   ],
   "source": [
    "data['label'] = ''\n",
    "for i,text in enumerate(data['tokens']):\n",
    "    data['label'][i]= clf.predict(count_vect.transform([text]))\n",
    "data.head(100)"
   ]
  },
  {
   "cell_type": "code",
   "execution_count": 138,
   "metadata": {},
   "outputs": [],
   "source": [
    "data.to_csv(\"sample.csv\")"
   ]
  },
  {
   "cell_type": "code",
   "execution_count": null,
   "metadata": {},
   "outputs": [],
   "source": []
  }
 ],
 "metadata": {
  "kernelspec": {
   "display_name": "Python 3",
   "language": "python",
   "name": "python3"
  },
  "language_info": {
   "codemirror_mode": {
    "name": "ipython",
    "version": 3
   },
   "file_extension": ".py",
   "mimetype": "text/x-python",
   "name": "python",
   "nbconvert_exporter": "python",
   "pygments_lexer": "ipython3",
   "version": "3.7.9"
  }
 },
 "nbformat": 4,
 "nbformat_minor": 4
}
