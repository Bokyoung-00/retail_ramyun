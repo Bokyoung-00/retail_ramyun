{
 "cells": [
  {
   "cell_type": "markdown",
   "metadata": {},
   "source": [
    "## 댓글 자연어처리 및 감성분석"
   ]
  },
  {
   "cell_type": "markdown",
   "metadata": {},
   "source": [
    "#### 1. 필요한 라이브러리 및 파일 불러오기"
   ]
  },
  {
   "cell_type": "code",
   "execution_count": 32,
   "metadata": {},
   "outputs": [],
   "source": [
    "import pandas as pd\n",
    "import numpy as np\n",
    "df = pd.DataFrame(pd.read_csv(r'C:\\Users\\ASIA_09\\Desktop\\유통령\\retail_ramyun\\youtube_comments.csv'))"
   ]
  },
  {
   "cell_type": "code",
   "execution_count": 33,
   "metadata": {},
   "outputs": [
    {
     "data": {
      "text/html": [
       "<div>\n",
       "<style scoped>\n",
       "    .dataframe tbody tr th:only-of-type {\n",
       "        vertical-align: middle;\n",
       "    }\n",
       "\n",
       "    .dataframe tbody tr th {\n",
       "        vertical-align: top;\n",
       "    }\n",
       "\n",
       "    .dataframe thead th {\n",
       "        text-align: right;\n",
       "    }\n",
       "</style>\n",
       "<table border=\"1\" class=\"dataframe\">\n",
       "  <thead>\n",
       "    <tr style=\"text-align: right;\">\n",
       "      <th></th>\n",
       "      <th>Comments</th>\n",
       "    </tr>\n",
       "  </thead>\n",
       "  <tbody>\n",
       "    <tr>\n",
       "      <th>0</th>\n",
       "      <td>솔직히먹어봤는데트러플을접해보지못한일반인인나는차이를느끼지못했다...😶</td>\n",
       "    </tr>\n",
       "    <tr>\n",
       "      <th>1</th>\n",
       "      <td>이거화사때문에출시된거네ㅋㅋㅋ</td>\n",
       "    </tr>\n",
       "    <tr>\n",
       "      <th>2</th>\n",
       "      <td>그냥짜파게티에달걀후라이가젤맛있음</td>\n",
       "    </tr>\n",
       "    <tr>\n",
       "      <th>3</th>\n",
       "      <td>김발어디갔는데!!!!!!!!!!!!!!!컵라면엔김발인데!!!!!!!!!!!!!!김발...</td>\n",
       "    </tr>\n",
       "    <tr>\n",
       "      <th>4</th>\n",
       "      <td>5:43~5:48오늘자하이라이트입니다ㅋㅋㅋㅋㅋ</td>\n",
       "    </tr>\n",
       "    <tr>\n",
       "      <th>...</th>\n",
       "      <td>...</td>\n",
       "    </tr>\n",
       "    <tr>\n",
       "      <th>2411</th>\n",
       "      <td>Heisverycuet</td>\n",
       "    </tr>\n",
       "    <tr>\n",
       "      <th>2412</th>\n",
       "      <td>Jaeyolnottobemeanoranythingbutthisisn'tveryexo...</td>\n",
       "    </tr>\n",
       "    <tr>\n",
       "      <th>2413</th>\n",
       "      <td>X</td>\n",
       "    </tr>\n",
       "    <tr>\n",
       "      <th>2414</th>\n",
       "      <td>Fake</td>\n",
       "    </tr>\n",
       "    <tr>\n",
       "      <th>2415</th>\n",
       "      <td>그래도통연어때보다는요각도가훨~씬나은것같습니다ㅎㅎ!통연어때는피아노위에tmi가넘나많았어...</td>\n",
       "    </tr>\n",
       "  </tbody>\n",
       "</table>\n",
       "<p>2416 rows × 1 columns</p>\n",
       "</div>"
      ],
      "text/plain": [
       "                                               Comments\n",
       "0                 솔직히먹어봤는데트러플을접해보지못한일반인인나는차이를느끼지못했다...😶\n",
       "1                                       이거화사때문에출시된거네ㅋㅋㅋ\n",
       "2                                     그냥짜파게티에달걀후라이가젤맛있음\n",
       "3     김발어디갔는데!!!!!!!!!!!!!!!컵라면엔김발인데!!!!!!!!!!!!!!김발...\n",
       "4                             5:43~5:48오늘자하이라이트입니다ㅋㅋㅋㅋㅋ\n",
       "...                                                 ...\n",
       "2411                                       Heisverycuet\n",
       "2412  Jaeyolnottobemeanoranythingbutthisisn'tveryexo...\n",
       "2413                                                  X\n",
       "2414                                               Fake\n",
       "2415  그래도통연어때보다는요각도가훨~씬나은것같습니다ㅎㅎ!통연어때는피아노위에tmi가넘나많았어...\n",
       "\n",
       "[2416 rows x 1 columns]"
      ]
     },
     "execution_count": 33,
     "metadata": {},
     "output_type": "execute_result"
    }
   ],
   "source": [
    "df= df[['Comments']] \n",
    "df"
   ]
  },
  {
   "cell_type": "markdown",
   "metadata": {},
   "source": [
    "#### 2. 한글 제외한 문자 제거"
   ]
  },
  {
   "cell_type": "code",
   "execution_count": 34,
   "metadata": {},
   "outputs": [],
   "source": [
    "import re \n",
    "# '한글'을 제외한 다른 문자 모두 제거\n",
    "remove_except_ko = re.compile(r\"[^가-힣ㄱ-ㅎㅏ-ㅣ\\\\s]\")\n",
    "def preprocess(text):\n",
    "    text = re.sub(remove_except_ko,' ',text).strip()\n",
    "    return text\n",
    "\n",
    "df['Comments'] = df['Comments'].map(lambda x : preprocess(x))"
   ]
  },
  {
   "cell_type": "code",
   "execution_count": 35,
   "metadata": {},
   "outputs": [
    {
     "data": {
      "text/html": [
       "<div>\n",
       "<style scoped>\n",
       "    .dataframe tbody tr th:only-of-type {\n",
       "        vertical-align: middle;\n",
       "    }\n",
       "\n",
       "    .dataframe tbody tr th {\n",
       "        vertical-align: top;\n",
       "    }\n",
       "\n",
       "    .dataframe thead th {\n",
       "        text-align: right;\n",
       "    }\n",
       "</style>\n",
       "<table border=\"1\" class=\"dataframe\">\n",
       "  <thead>\n",
       "    <tr style=\"text-align: right;\">\n",
       "      <th></th>\n",
       "      <th>Comments</th>\n",
       "    </tr>\n",
       "  </thead>\n",
       "  <tbody>\n",
       "    <tr>\n",
       "      <th>0</th>\n",
       "      <td>솔직히먹어봤는데트러플을접해보지못한일반인인나는차이를느끼지못했다</td>\n",
       "    </tr>\n",
       "    <tr>\n",
       "      <th>1</th>\n",
       "      <td>이거화사때문에출시된거네ㅋㅋㅋ</td>\n",
       "    </tr>\n",
       "    <tr>\n",
       "      <th>2</th>\n",
       "      <td>그냥짜파게티에달걀후라이가젤맛있음</td>\n",
       "    </tr>\n",
       "    <tr>\n",
       "      <th>3</th>\n",
       "      <td>김발어디갔는데               컵라면엔김발인데              김발...</td>\n",
       "    </tr>\n",
       "    <tr>\n",
       "      <th>4</th>\n",
       "      <td>오늘자하이라이트입니다ㅋㅋㅋㅋㅋ</td>\n",
       "    </tr>\n",
       "    <tr>\n",
       "      <th>5</th>\n",
       "      <td>저는짜파게티맛이예전맛이안나는거같아서항상아쉬웠었는데트러플소스들어가고나서옜날어릴적먹던짜...</td>\n",
       "    </tr>\n",
       "    <tr>\n",
       "      <th>6</th>\n",
       "      <td>일반짜파게티컵라면이랑트러플짜파게티컵라면이랑제조방법달라요  이거완전중요뽀인트인디</td>\n",
       "    </tr>\n",
       "    <tr>\n",
       "      <th>7</th>\n",
       "      <td>오  컵라면뚜껑에젓가락끼워놓을수있는곳이있는줄몰랐네요ㅋㅋㅋ완전꿀팁이네요근데트러플오일 ...</td>\n",
       "    </tr>\n",
       "    <tr>\n",
       "      <th>8</th>\n",
       "      <td>트러플  개모아서한개에넣어서먹오봐요</td>\n",
       "    </tr>\n",
       "    <tr>\n",
       "      <th>9</th>\n",
       "      <td>젓가락구멍있는거옛날부터원래있었나요     왜저는  년간몰랐죠</td>\n",
       "    </tr>\n",
       "  </tbody>\n",
       "</table>\n",
       "</div>"
      ],
      "text/plain": [
       "                                            Comments\n",
       "0                  솔직히먹어봤는데트러플을접해보지못한일반인인나는차이를느끼지못했다\n",
       "1                                    이거화사때문에출시된거네ㅋㅋㅋ\n",
       "2                                  그냥짜파게티에달걀후라이가젤맛있음\n",
       "3  김발어디갔는데               컵라면엔김발인데              김발...\n",
       "4                                   오늘자하이라이트입니다ㅋㅋㅋㅋㅋ\n",
       "5  저는짜파게티맛이예전맛이안나는거같아서항상아쉬웠었는데트러플소스들어가고나서옜날어릴적먹던짜...\n",
       "6        일반짜파게티컵라면이랑트러플짜파게티컵라면이랑제조방법달라요  이거완전중요뽀인트인디\n",
       "7  오  컵라면뚜껑에젓가락끼워놓을수있는곳이있는줄몰랐네요ㅋㅋㅋ완전꿀팁이네요근데트러플오일 ...\n",
       "8                                트러플  개모아서한개에넣어서먹오봐요\n",
       "9                  젓가락구멍있는거옛날부터원래있었나요     왜저는  년간몰랐죠"
      ]
     },
     "execution_count": 35,
     "metadata": {},
     "output_type": "execute_result"
    }
   ],
   "source": [
    "df.head(10)"
   ]
  },
  {
   "cell_type": "markdown",
   "metadata": {},
   "source": [
    "#### 3. OKT 토큰화와 필요없는 조사 제거 "
   ]
  },
  {
   "cell_type": "code",
   "execution_count": 41,
   "metadata": {},
   "outputs": [],
   "source": [
    "from konlpy.tag import Okt\n",
    "okt=Okt()\n",
    "# mecab 사용해 토큰화, 한글자 제거, stop_word 제거\n",
    "stop_word = ['께서','에서','이다','에게','으로','이랑','까지','부터','하다']\n",
    "stopPos = ['Determiner','Adverb','Conjuctions','Josa','PreEomi','Eomi','Suffix',\n",
    "          'Punctuation','Foreign','Alpha','Number','Unknown','KoreanParticle']\n",
    "def token_okt(text):\n",
    "    text = okt.pos(text)\n",
    "    text = [i for i in text if len(i[0])>1]\n",
    "    text = [i for i in text if i[0] not in stop_word]\n",
    "    text = [i[0] for i in text if i[1] not in stopPos]\n",
    "    return text"
   ]
  },
  {
   "cell_type": "code",
   "execution_count": 42,
   "metadata": {},
   "outputs": [
    {
     "name": "stdout",
     "output_type": "stream",
     "text": [
      "0 / 2416\n",
      "500 / 2416\n",
      "1000 / 2416\n",
      "1500 / 2416\n",
      "2000 / 2416\n"
     ]
    }
   ],
   "source": [
    "# 토큰화 + 토큰리스트 생성 \n",
    "def make_tokens(df):\n",
    "    df['tokens'] = ''\n",
    "    tokens_list=[]\n",
    "    for i, row in df.iterrows():\n",
    "        if i%500==0:\n",
    "            print(i,'/',len(df))\n",
    "        token = token_okt(df['Comments'][i])\n",
    "        df['tokens'][i] = ' '.join(token)\n",
    "    return df\n",
    "\n",
    "df = make_tokens(df)"
   ]
  },
  {
   "cell_type": "code",
   "execution_count": 50,
   "metadata": {},
   "outputs": [
    {
     "data": {
      "text/plain": [
       "Comments     820\n",
       "tokens      1443\n",
       "dtype: int64"
      ]
     },
     "execution_count": 50,
     "metadata": {},
     "output_type": "execute_result"
    }
   ],
   "source": [
    "# 빈칸 찾아내기\n",
    "df.replace('', np.nan, inplace=True)\n",
    "df.isnull().sum()"
   ]
  },
  {
   "cell_type": "code",
   "execution_count": 52,
   "metadata": {},
   "outputs": [
    {
     "data": {
      "text/plain": [
       "Comments    0\n",
       "tokens      0\n",
       "dtype: int64"
      ]
     },
     "execution_count": 52,
     "metadata": {},
     "output_type": "execute_result"
    }
   ],
   "source": [
    "#Null 값 없애기\n",
    "df=df.dropna()\n",
    "df.isnull().sum()"
   ]
  },
  {
   "cell_type": "code",
   "execution_count": 54,
   "metadata": {},
   "outputs": [
    {
     "data": {
      "text/html": [
       "<div>\n",
       "<style scoped>\n",
       "    .dataframe tbody tr th:only-of-type {\n",
       "        vertical-align: middle;\n",
       "    }\n",
       "\n",
       "    .dataframe tbody tr th {\n",
       "        vertical-align: top;\n",
       "    }\n",
       "\n",
       "    .dataframe thead th {\n",
       "        text-align: right;\n",
       "    }\n",
       "</style>\n",
       "<table border=\"1\" class=\"dataframe\">\n",
       "  <thead>\n",
       "    <tr style=\"text-align: right;\">\n",
       "      <th></th>\n",
       "      <th>Comments</th>\n",
       "      <th>tokens</th>\n",
       "    </tr>\n",
       "  </thead>\n",
       "  <tbody>\n",
       "    <tr>\n",
       "      <th>0</th>\n",
       "      <td>솔직히먹어봤는데트러플을접해보지못한일반인인나는차이를느끼지못했다</td>\n",
       "      <td>솔직히 먹어 봤는데 트러플 해보지못 일반인 차이 느끼지못 했다</td>\n",
       "    </tr>\n",
       "    <tr>\n",
       "      <th>1</th>\n",
       "      <td>이거화사때문에출시된거네ㅋㅋㅋ</td>\n",
       "      <td>화사 때문 출시 된거</td>\n",
       "    </tr>\n",
       "    <tr>\n",
       "      <th>2</th>\n",
       "      <td>그냥짜파게티에달걀후라이가젤맛있음</td>\n",
       "      <td>그냥 짜파게티 달걀후라이 가젤 맛있음</td>\n",
       "    </tr>\n",
       "    <tr>\n",
       "      <th>3</th>\n",
       "      <td>김발어디갔는데               컵라면엔김발인데              김발...</td>\n",
       "      <td>김발 어디 갔는데 컵라면 김발 김발 어디 갔냐</td>\n",
       "    </tr>\n",
       "    <tr>\n",
       "      <th>4</th>\n",
       "      <td>오늘자하이라이트입니다ㅋㅋㅋㅋㅋ</td>\n",
       "      <td>오늘 하이라이트 입니다</td>\n",
       "    </tr>\n",
       "    <tr>\n",
       "      <th>5</th>\n",
       "      <td>저는짜파게티맛이예전맛이안나는거같아서항상아쉬웠었는데트러플소스들어가고나서옜날어릴적먹던짜...</td>\n",
       "      <td>짜파게티 안나 같아서 항상 아쉬웠었는데 트러플 소스 들어가고나서 옜날 어릴 먹던 짜...</td>\n",
       "    </tr>\n",
       "    <tr>\n",
       "      <th>6</th>\n",
       "      <td>일반짜파게티컵라면이랑트러플짜파게티컵라면이랑제조방법달라요  이거완전중요뽀인트인디</td>\n",
       "      <td>짜파게티 컵라면 트러플 짜파게티 컵라면 제조 방법 달라 완전 트인디</td>\n",
       "    </tr>\n",
       "    <tr>\n",
       "      <th>7</th>\n",
       "      <td>오  컵라면뚜껑에젓가락끼워놓을수있는곳이있는줄몰랐네요ㅋㅋㅋ완전꿀팁이네요근데트러플오일 ...</td>\n",
       "      <td>컵라면 뚜껑 젓가락 끼워놓을수있는 있는줄 몰랐네요 완전 꿀팁 트러플 오일 제조 송로...</td>\n",
       "    </tr>\n",
       "    <tr>\n",
       "      <th>8</th>\n",
       "      <td>트러플  개모아서한개에넣어서먹오봐요</td>\n",
       "      <td>트러플 모아 서한 넣어서 먹오 봐요</td>\n",
       "    </tr>\n",
       "    <tr>\n",
       "      <th>9</th>\n",
       "      <td>젓가락구멍있는거옛날부터원래있었나요     왜저는  년간몰랐죠</td>\n",
       "      <td>젓가락 구멍 있는거 옛날 원래 있었나요 왜저 몰랐죠</td>\n",
       "    </tr>\n",
       "  </tbody>\n",
       "</table>\n",
       "</div>"
      ],
      "text/plain": [
       "                                            Comments  \\\n",
       "0                  솔직히먹어봤는데트러플을접해보지못한일반인인나는차이를느끼지못했다   \n",
       "1                                    이거화사때문에출시된거네ㅋㅋㅋ   \n",
       "2                                  그냥짜파게티에달걀후라이가젤맛있음   \n",
       "3  김발어디갔는데               컵라면엔김발인데              김발...   \n",
       "4                                   오늘자하이라이트입니다ㅋㅋㅋㅋㅋ   \n",
       "5  저는짜파게티맛이예전맛이안나는거같아서항상아쉬웠었는데트러플소스들어가고나서옜날어릴적먹던짜...   \n",
       "6        일반짜파게티컵라면이랑트러플짜파게티컵라면이랑제조방법달라요  이거완전중요뽀인트인디   \n",
       "7  오  컵라면뚜껑에젓가락끼워놓을수있는곳이있는줄몰랐네요ㅋㅋㅋ완전꿀팁이네요근데트러플오일 ...   \n",
       "8                                트러플  개모아서한개에넣어서먹오봐요   \n",
       "9                  젓가락구멍있는거옛날부터원래있었나요     왜저는  년간몰랐죠   \n",
       "\n",
       "                                              tokens  \n",
       "0                 솔직히 먹어 봤는데 트러플 해보지못 일반인 차이 느끼지못 했다  \n",
       "1                                        화사 때문 출시 된거  \n",
       "2                               그냥 짜파게티 달걀후라이 가젤 맛있음  \n",
       "3                          김발 어디 갔는데 컵라면 김발 김발 어디 갔냐  \n",
       "4                                       오늘 하이라이트 입니다  \n",
       "5  짜파게티 안나 같아서 항상 아쉬웠었는데 트러플 소스 들어가고나서 옜날 어릴 먹던 짜...  \n",
       "6              짜파게티 컵라면 트러플 짜파게티 컵라면 제조 방법 달라 완전 트인디  \n",
       "7  컵라면 뚜껑 젓가락 끼워놓을수있는 있는줄 몰랐네요 완전 꿀팁 트러플 오일 제조 송로...  \n",
       "8                                트러플 모아 서한 넣어서 먹오 봐요  \n",
       "9                       젓가락 구멍 있는거 옛날 원래 있었나요 왜저 몰랐죠  "
      ]
     },
     "execution_count": 54,
     "metadata": {},
     "output_type": "execute_result"
    }
   ],
   "source": [
    "df.head(10)"
   ]
  },
  {
   "cell_type": "code",
   "execution_count": 56,
   "metadata": {},
   "outputs": [],
   "source": [
    "df.to_csv(r'C:\\Users\\ASIA_09\\Desktop\\유통령\\retail_ramyun\\youtube_tokenization.csv')"
   ]
  },
  {
   "cell_type": "code",
   "execution_count": 76,
   "metadata": {},
   "outputs": [],
   "source": [
    "data = pd.read_csv(r'C:\\Users\\ASIA_09\\Desktop\\유통령\\retail_ramyun\\youtube_tokenization.csv', encoding='cp949')"
   ]
  },
  {
   "cell_type": "code",
   "execution_count": 77,
   "metadata": {},
   "outputs": [],
   "source": [
    "df_new = pd.DataFrame(data)"
   ]
  },
  {
   "cell_type": "code",
   "execution_count": 79,
   "metadata": {},
   "outputs": [],
   "source": [
    "df_new = df_new[['tokens']]"
   ]
  },
  {
   "cell_type": "code",
   "execution_count": 80,
   "metadata": {},
   "outputs": [
    {
     "data": {
      "text/html": [
       "<div>\n",
       "<style scoped>\n",
       "    .dataframe tbody tr th:only-of-type {\n",
       "        vertical-align: middle;\n",
       "    }\n",
       "\n",
       "    .dataframe tbody tr th {\n",
       "        vertical-align: top;\n",
       "    }\n",
       "\n",
       "    .dataframe thead th {\n",
       "        text-align: right;\n",
       "    }\n",
       "</style>\n",
       "<table border=\"1\" class=\"dataframe\">\n",
       "  <thead>\n",
       "    <tr style=\"text-align: right;\">\n",
       "      <th></th>\n",
       "      <th>tokens</th>\n",
       "    </tr>\n",
       "  </thead>\n",
       "  <tbody>\n",
       "    <tr>\n",
       "      <th>0</th>\n",
       "      <td>솔직히 먹어 봤는데 트러플 접해 보지 못 일반인 차이 느끼지 못하다</td>\n",
       "    </tr>\n",
       "    <tr>\n",
       "      <th>1</th>\n",
       "      <td>화사 때문 출시 된거</td>\n",
       "    </tr>\n",
       "    <tr>\n",
       "      <th>2</th>\n",
       "      <td>그냥 짜파게티 달걀후라이 가 제일 맛있음</td>\n",
       "    </tr>\n",
       "    <tr>\n",
       "      <th>3</th>\n",
       "      <td>김발 어디 갔는데 컵라면 김발 김발 어디 갔냐</td>\n",
       "    </tr>\n",
       "    <tr>\n",
       "      <th>4</th>\n",
       "      <td>오늘 하이라이트 입니다</td>\n",
       "    </tr>\n",
       "    <tr>\n",
       "      <th>...</th>\n",
       "      <td>...</td>\n",
       "    </tr>\n",
       "    <tr>\n",
       "      <th>968</th>\n",
       "      <td>먹을만큼만 항상 음식 남기고 먹여주는거하면 서다 버리네 아까운줄 알아야지</td>\n",
       "    </tr>\n",
       "    <tr>\n",
       "      <th>969</th>\n",
       "      <td>먹고싶다</td>\n",
       "    </tr>\n",
       "    <tr>\n",
       "      <th>970</th>\n",
       "      <td>먹기 싫으면 우리 주더 당신 버리는건 아니지 아까워 먹고싶다</td>\n",
       "    </tr>\n",
       "    <tr>\n",
       "      <th>971</th>\n",
       "      <td>친척</td>\n",
       "    </tr>\n",
       "    <tr>\n",
       "      <th>972</th>\n",
       "      <td>그래도 통연어 각도 씬 나은 같습니다 연어 피아노 너무나 많았어요 보는 가다 불편했...</td>\n",
       "    </tr>\n",
       "  </tbody>\n",
       "</table>\n",
       "<p>973 rows × 1 columns</p>\n",
       "</div>"
      ],
      "text/plain": [
       "                                                tokens\n",
       "0                솔직히 먹어 봤는데 트러플 접해 보지 못 일반인 차이 느끼지 못하다\n",
       "1                                          화사 때문 출시 된거\n",
       "2                               그냥 짜파게티 달걀후라이 가 제일 맛있음\n",
       "3                            김발 어디 갔는데 컵라면 김발 김발 어디 갔냐\n",
       "4                                         오늘 하이라이트 입니다\n",
       "..                                                 ...\n",
       "968           먹을만큼만 항상 음식 남기고 먹여주는거하면 서다 버리네 아까운줄 알아야지\n",
       "969                                               먹고싶다\n",
       "970                  먹기 싫으면 우리 주더 당신 버리는건 아니지 아까워 먹고싶다\n",
       "971                                                 친척\n",
       "972  그래도 통연어 각도 씬 나은 같습니다 연어 피아노 너무나 많았어요 보는 가다 불편했...\n",
       "\n",
       "[973 rows x 1 columns]"
      ]
     },
     "execution_count": 80,
     "metadata": {},
     "output_type": "execute_result"
    }
   ],
   "source": [
    "df_new"
   ]
  },
  {
   "cell_type": "markdown",
   "metadata": {},
   "source": [
    "#### 4. 감정 사전 불러오기"
   ]
  },
  {
   "cell_type": "code",
   "execution_count": 81,
   "metadata": {},
   "outputs": [
    {
     "data": {
      "text/html": [
       "<div>\n",
       "<style scoped>\n",
       "    .dataframe tbody tr th:only-of-type {\n",
       "        vertical-align: middle;\n",
       "    }\n",
       "\n",
       "    .dataframe tbody tr th {\n",
       "        vertical-align: top;\n",
       "    }\n",
       "\n",
       "    .dataframe thead th {\n",
       "        text-align: right;\n",
       "    }\n",
       "</style>\n",
       "<table border=\"1\" class=\"dataframe\">\n",
       "  <thead>\n",
       "    <tr style=\"text-align: right;\">\n",
       "      <th></th>\n",
       "      <th>word</th>\n",
       "    </tr>\n",
       "  </thead>\n",
       "  <tbody>\n",
       "    <tr>\n",
       "      <th>0</th>\n",
       "      <td>(-;</td>\n",
       "    </tr>\n",
       "    <tr>\n",
       "      <th>1</th>\n",
       "      <td>(^^)</td>\n",
       "    </tr>\n",
       "    <tr>\n",
       "      <th>2</th>\n",
       "      <td>(^-^)</td>\n",
       "    </tr>\n",
       "    <tr>\n",
       "      <th>3</th>\n",
       "      <td>(^^*</td>\n",
       "    </tr>\n",
       "    <tr>\n",
       "      <th>4</th>\n",
       "      <td>(^_^)</td>\n",
       "    </tr>\n",
       "  </tbody>\n",
       "</table>\n",
       "</div>"
      ],
      "text/plain": [
       "    word\n",
       "0    (-;\n",
       "1   (^^)\n",
       "2  (^-^)\n",
       "3   (^^*\n",
       "4  (^_^)"
      ]
     },
     "execution_count": 81,
     "metadata": {},
     "output_type": "execute_result"
    }
   ],
   "source": [
    "pos_dict = pd.DataFrame(pd.read_csv(r'C:\\Users\\ASIA_09\\Desktop\\KnuSentiLex\\pos_pol_word.txt', sep='\\n', quoting=3))\n",
    "pos_dict.head()"
   ]
  },
  {
   "cell_type": "code",
   "execution_count": 82,
   "metadata": {},
   "outputs": [
    {
     "data": {
      "text/html": [
       "<div>\n",
       "<style scoped>\n",
       "    .dataframe tbody tr th:only-of-type {\n",
       "        vertical-align: middle;\n",
       "    }\n",
       "\n",
       "    .dataframe tbody tr th {\n",
       "        vertical-align: top;\n",
       "    }\n",
       "\n",
       "    .dataframe thead th {\n",
       "        text-align: right;\n",
       "    }\n",
       "</style>\n",
       "<table border=\"1\" class=\"dataframe\">\n",
       "  <thead>\n",
       "    <tr style=\"text-align: right;\">\n",
       "      <th></th>\n",
       "      <th>word</th>\n",
       "    </tr>\n",
       "  </thead>\n",
       "  <tbody>\n",
       "    <tr>\n",
       "      <th>0</th>\n",
       "      <td>가난</td>\n",
       "    </tr>\n",
       "    <tr>\n",
       "      <th>1</th>\n",
       "      <td>가난뱅이</td>\n",
       "    </tr>\n",
       "    <tr>\n",
       "      <th>2</th>\n",
       "      <td>가난살이</td>\n",
       "    </tr>\n",
       "    <tr>\n",
       "      <th>3</th>\n",
       "      <td>가난살이하다</td>\n",
       "    </tr>\n",
       "    <tr>\n",
       "      <th>4</th>\n",
       "      <td>가난설음</td>\n",
       "    </tr>\n",
       "  </tbody>\n",
       "</table>\n",
       "</div>"
      ],
      "text/plain": [
       "     word\n",
       "0      가난\n",
       "1    가난뱅이\n",
       "2    가난살이\n",
       "3  가난살이하다\n",
       "4    가난설음"
      ]
     },
     "execution_count": 82,
     "metadata": {},
     "output_type": "execute_result"
    }
   ],
   "source": [
    "neg_dict = pd.DataFrame(pd.read_csv(r'C:\\Users\\ASIA_09\\Desktop\\KnuSentiLex\\neg_pol_word.txt', sep='\\n', quoting=3))\n",
    "neg_dict.head()"
   ]
  },
  {
   "cell_type": "markdown",
   "metadata": {},
   "source": [
    "#### 5. 댓글의 Tone 측정하기"
   ]
  },
  {
   "cell_type": "code",
   "execution_count": 102,
   "metadata": {},
   "outputs": [
    {
     "name": "stderr",
     "output_type": "stream",
     "text": [
      "C:\\anaconda3\\envs\\py37\\lib\\site-packages\\ipykernel_launcher.py:21: SettingWithCopyWarning: \n",
      "A value is trying to be set on a copy of a slice from a DataFrame.\n",
      "Try using .loc[row_indexer,col_indexer] = value instead\n",
      "\n",
      "See the caveats in the documentation: https://pandas.pydata.org/pandas-docs/stable/user_guide/indexing.html#returning-a-view-versus-a-copy\n"
     ]
    }
   ],
   "source": [
    "tone_ls = []\n",
    "for doc in df_new['tokens']:\n",
    "    #print(doc.split())\n",
    "    #words=[]\n",
    "    #words.append(doc.split(' '))\n",
    "    splitdoc = doc.split()\n",
    "    pos=0\n",
    "    neg=0\n",
    "    for word in splitdoc:\n",
    "        if word in list(pos_dict['word']):\n",
    "            pos += 1\n",
    "        if word in list(neg_dict['word']):\n",
    "            neg += 1\n",
    "    if (pos+neg)!=0:\n",
    "        tone = (pos-neg)/(pos+neg)\n",
    "        tone_ls.append(tone)\n",
    "\n",
    "    else:\n",
    "        tone_ls.append(\"NaN\")\n",
    "\n",
    "df_new['tone']= tone_ls"
   ]
  },
  {
   "cell_type": "code",
   "execution_count": 103,
   "metadata": {},
   "outputs": [
    {
     "data": {
      "text/html": [
       "<div>\n",
       "<style scoped>\n",
       "    .dataframe tbody tr th:only-of-type {\n",
       "        vertical-align: middle;\n",
       "    }\n",
       "\n",
       "    .dataframe tbody tr th {\n",
       "        vertical-align: top;\n",
       "    }\n",
       "\n",
       "    .dataframe thead th {\n",
       "        text-align: right;\n",
       "    }\n",
       "</style>\n",
       "<table border=\"1\" class=\"dataframe\">\n",
       "  <thead>\n",
       "    <tr style=\"text-align: right;\">\n",
       "      <th></th>\n",
       "      <th>tokens</th>\n",
       "      <th>tone</th>\n",
       "    </tr>\n",
       "  </thead>\n",
       "  <tbody>\n",
       "    <tr>\n",
       "      <th>0</th>\n",
       "      <td>솔직히 먹어 봤는데 트러플 접해 보지 못 일반인 차이 느끼지 못하다</td>\n",
       "      <td>-1</td>\n",
       "    </tr>\n",
       "    <tr>\n",
       "      <th>1</th>\n",
       "      <td>화사 때문 출시 된거</td>\n",
       "      <td>NaN</td>\n",
       "    </tr>\n",
       "    <tr>\n",
       "      <th>2</th>\n",
       "      <td>그냥 짜파게티 달걀후라이 가 제일 맛있음</td>\n",
       "      <td>NaN</td>\n",
       "    </tr>\n",
       "    <tr>\n",
       "      <th>3</th>\n",
       "      <td>김발 어디 갔는데 컵라면 김발 김발 어디 갔냐</td>\n",
       "      <td>NaN</td>\n",
       "    </tr>\n",
       "    <tr>\n",
       "      <th>4</th>\n",
       "      <td>오늘 하이라이트 입니다</td>\n",
       "      <td>NaN</td>\n",
       "    </tr>\n",
       "    <tr>\n",
       "      <th>5</th>\n",
       "      <td>짜파게티 맛 안나 같아서 항상 아쉬웠었는데 트러플 소스 들어가고 나서 옜날 어릴 먹...</td>\n",
       "      <td>NaN</td>\n",
       "    </tr>\n",
       "    <tr>\n",
       "      <th>6</th>\n",
       "      <td>짜파게티 컵라면 트러플 짜파게티 컵라면 제조 방법 달라 완전 포인트인디</td>\n",
       "      <td>NaN</td>\n",
       "    </tr>\n",
       "    <tr>\n",
       "      <th>7</th>\n",
       "      <td>컵라면 뚜껑 젓가락 끼워놓을수있는 있는줄 몰랐네요 완전 꿀팁 트러플 오일 제조 송로...</td>\n",
       "      <td>NaN</td>\n",
       "    </tr>\n",
       "    <tr>\n",
       "      <th>8</th>\n",
       "      <td>트러플 모아서 한 넣어서 먹어봐요</td>\n",
       "      <td>NaN</td>\n",
       "    </tr>\n",
       "    <tr>\n",
       "      <th>9</th>\n",
       "      <td>젓가락 구멍 있는거 옛날 원래 있었나요 왜 저 몰랐다</td>\n",
       "      <td>NaN</td>\n",
       "    </tr>\n",
       "  </tbody>\n",
       "</table>\n",
       "</div>"
      ],
      "text/plain": [
       "                                              tokens tone\n",
       "0              솔직히 먹어 봤는데 트러플 접해 보지 못 일반인 차이 느끼지 못하다   -1\n",
       "1                                        화사 때문 출시 된거  NaN\n",
       "2                             그냥 짜파게티 달걀후라이 가 제일 맛있음  NaN\n",
       "3                          김발 어디 갔는데 컵라면 김발 김발 어디 갔냐  NaN\n",
       "4                                       오늘 하이라이트 입니다  NaN\n",
       "5  짜파게티 맛 안나 같아서 항상 아쉬웠었는데 트러플 소스 들어가고 나서 옜날 어릴 먹...  NaN\n",
       "6            짜파게티 컵라면 트러플 짜파게티 컵라면 제조 방법 달라 완전 포인트인디  NaN\n",
       "7  컵라면 뚜껑 젓가락 끼워놓을수있는 있는줄 몰랐네요 완전 꿀팁 트러플 오일 제조 송로...  NaN\n",
       "8                                 트러플 모아서 한 넣어서 먹어봐요  NaN\n",
       "9                      젓가락 구멍 있는거 옛날 원래 있었나요 왜 저 몰랐다  NaN"
      ]
     },
     "execution_count": 103,
     "metadata": {},
     "output_type": "execute_result"
    }
   ],
   "source": [
    "df_new.head(10)"
   ]
  },
  {
   "cell_type": "code",
   "execution_count": 104,
   "metadata": {},
   "outputs": [
    {
     "data": {
      "text/plain": [
       "tokens    0\n",
       "tone      0\n",
       "dtype: int64"
      ]
     },
     "execution_count": 104,
     "metadata": {},
     "output_type": "execute_result"
    }
   ],
   "source": []
  },
  {
   "cell_type": "code",
   "execution_count": 105,
   "metadata": {},
   "outputs": [
    {
     "data": {
      "text/plain": [
       "(973, 2)"
      ]
     },
     "execution_count": 105,
     "metadata": {},
     "output_type": "execute_result"
    }
   ],
   "source": []
  },
  {
   "cell_type": "code",
   "execution_count": null,
   "metadata": {},
   "outputs": [],
   "source": []
  },
  {
   "cell_type": "code",
   "execution_count": null,
   "metadata": {},
   "outputs": [],
   "source": []
  }
 ],
 "metadata": {
  "kernelspec": {
   "display_name": "Python 3",
   "language": "python",
   "name": "python3"
  },
  "language_info": {
   "codemirror_mode": {
    "name": "ipython",
    "version": 3
   },
   "file_extension": ".py",
   "mimetype": "text/x-python",
   "name": "python",
   "nbconvert_exporter": "python",
   "pygments_lexer": "ipython3",
   "version": "3.7.9"
  }
 },
 "nbformat": 4,
 "nbformat_minor": 4
}
